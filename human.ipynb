{
 "cells": [
  {
   "cell_type": "code",
   "execution_count": 1,
   "metadata": {},
   "outputs": [],
   "source": [
    "import pandas as pd\n",
    "pd.set_option(\"display.max_colwidth\", 400)\n",
    "from matplotlib import pyplot as plt\n",
    "import plotly.express as px"
   ]
  },
  {
   "cell_type": "code",
   "execution_count": 4,
   "metadata": {},
   "outputs": [
    {
     "name": "stderr",
     "output_type": "stream",
     "text": [
      "/Users/okudajunta/Library/Python/3.7/lib/python/site-packages/ipykernel_launcher.py:5: SettingWithCopyWarning: \n",
      "A value is trying to be set on a copy of a slice from a DataFrame.\n",
      "Try using .loc[row_indexer,col_indexer] = value instead\n",
      "\n",
      "See the caveats in the documentation: https://pandas.pydata.org/pandas-docs/stable/user_guide/indexing.html#returning-a-view-versus-a-copy\n",
      "  \"\"\"\n",
      "/Users/okudajunta/Library/Python/3.7/lib/python/site-packages/ipykernel_launcher.py:6: SettingWithCopyWarning: \n",
      "A value is trying to be set on a copy of a slice from a DataFrame.\n",
      "Try using .loc[row_indexer,col_indexer] = value instead\n",
      "\n",
      "See the caveats in the documentation: https://pandas.pydata.org/pandas-docs/stable/user_guide/indexing.html#returning-a-view-versus-a-copy\n",
      "  \n"
     ]
    }
   ],
   "source": [
    "repository_score = pd.read_csv('./github/repository_score.csv') \n",
    "#repository_score.head(50)\n",
    "\n",
    "valid_repo = repository_score[repository_score['returncode'] == 0]\n",
    "valid_repo['score'] = valid_repo['stdout'].str[-8:-1]\n",
    "valid_repo['score'] = valid_repo['score'].str.strip(':').astype(float)\n",
    "valid_repo.head(20)\n",
    "valid_repo.to_csv('./github/valid_repos.csv')"
   ]
  },
  {
   "cell_type": "code",
   "execution_count": 5,
   "metadata": {},
   "outputs": [
    {
     "data": {
      "application/vnd.plotly.v1+json": {
       "config": {
        "plotlyServerURL": "https://plot.ly"
       },
       "data": [
        {
         "alignmentgroup": "True",
         "bingroup": "x",
         "hovertemplate": "score=%{x}<br>count=%{y}<extra></extra>",
         "legendgroup": "",
         "marker": {
          "color": "#636efa",
          "pattern": {
           "shape": ""
          }
         },
         "name": "",
         "offsetgroup": "",
         "orientation": "v",
         "showlegend": false,
         "type": "histogram",
         "x": [
          0.0391,
          0.08922,
          0.0532,
          0.07593,
          0.02077,
          0.20942,
          0.11658,
          0.01915,
          0.19628,
          0.17489,
          0.01915,
          0.02077,
          0.40249,
          0.0811,
          0.09179,
          0.20049,
          0.20194,
          0.06158,
          0.02556,
          0.16783,
          0.18569,
          0.4963,
          0.03582,
          0.01915,
          0.02077,
          0.05316,
          0.01915,
          0.13842,
          0.01915,
          0.06869,
          0.08951,
          0.04298,
          0.07126,
          0.21061,
          0.08457,
          0.19902,
          0.02524,
          0.06885,
          0.27986,
          0.26137,
          0.02773,
          0.02773,
          0.17862,
          0.02077,
          0.02225,
          0.0888,
          0.09353,
          0.10873,
          0.02909,
          0.18541,
          0.02077,
          0.05316,
          0.07281,
          0.06731,
          0.05316,
          0.03992,
          0.07428,
          0.02225,
          0.10163,
          0.23485,
          0.11592,
          0.0642,
          0.03072,
          0.22781,
          0.1679,
          0.23041,
          0.27742,
          0.07738,
          0.17349,
          0.08219,
          0.06655,
          0.06116,
          0.03345,
          0.19951,
          0.03149,
          0.15002,
          0.06436,
          0.04195,
          0.15545,
          0.21202,
          0.11543,
          0.10184,
          0.15637,
          0.01915,
          0.20239,
          0.39355,
          0.02077,
          0.01915,
          0.05106,
          0.0333,
          0.09554,
          0.10088,
          0.04155,
          0.10897,
          0.14028,
          0.09894,
          0.10462,
          0.12011,
          0.06184,
          0.12044,
          0.11225,
          0.14521,
          0.34528,
          0.1881,
          0.30856,
          0.09032,
          0.06878,
          0.03926,
          0.25537,
          0.19871,
          0.15556,
          0.23479,
          0.08963,
          0.10245,
          0.05842,
          0.02225,
          0.01915,
          0.01915,
          0.24866,
          0.17653,
          0.25597,
          0.09385,
          0.25372,
          0.03778,
          0.23485,
          0.18359,
          0.34313,
          0.07849,
          0.22006,
          0.03741,
          0.37718,
          0.04051,
          0.01915,
          0.27034,
          0.08054,
          0.05583,
          0.06436,
          0.17855,
          0.02605,
          0.20075,
          0.2621,
          0.63254,
          0.38724,
          0.15312,
          0.053,
          0.25848,
          0.33222,
          0.53177,
          0.07126,
          0.10856,
          0.01915,
          0.08108,
          0.2607,
          0.49543,
          0.29103,
          0.34659,
          0.09768,
          0.07128,
          0.22128,
          0.03149,
          0.25055,
          0.14962,
          0.06684,
          0.28097,
          0.53177,
          0.06621,
          0.01915,
          0.22167,
          0.38404,
          0.02077,
          0.20518,
          0.07788,
          0.17634,
          0.45239,
          0.17046,
          0.03363,
          0.05885,
          0.05199,
          0.71237,
          0.16859,
          0.07017,
          0.04011,
          0.56667,
          0.01915,
          0.41814,
          0.34259,
          0.06025,
          0.30974,
          0.05316,
          0.1812,
          0.30583,
          0.08611,
          0.06517,
          0.2066,
          0.31355,
          0.16867,
          0.23893,
          0.09763,
          0.30728,
          0.11517,
          0.3325,
          0.24131,
          0.39736,
          0.05316,
          0.20431,
          0.33401,
          0.05593,
          0.29079,
          0.32719,
          0.47424,
          0.06994,
          0.03582,
          0.02242,
          0.33915,
          0.34462,
          0.02495,
          0.35278,
          0.1682,
          0.54756,
          0.26123,
          0.08697,
          0.27557,
          0.06811,
          0.53359,
          0.15644,
          0.42049,
          0.10769,
          0.18789,
          0.10717,
          0.28939,
          0.0994,
          0.56419,
          0.03336,
          0.2493,
          0.09704,
          0.06638,
          0.14695,
          0.38726,
          0.01915,
          0.01915,
          0.26722,
          0.68876,
          0.26516,
          0.09297,
          0.12199,
          0.47411,
          0.09584,
          0.09291,
          0.14502,
          0.25073,
          0.54698,
          0.1301,
          0.18373,
          0.58489,
          0.41331,
          0.52368,
          0.47299,
          0.61432,
          0.40793,
          0.10786,
          0.16325,
          0.1337,
          0.19712,
          0.13097,
          0.17637,
          0.38286,
          0.52373,
          0.18718,
          0.27082,
          0.14327,
          0.47972,
          0.57199,
          0.54609,
          0.09823,
          0.6144,
          0.59908,
          0.38427,
          0.63438,
          0.71359,
          0.57503
         ],
         "xaxis": "x",
         "yaxis": "y"
        }
       ],
       "layout": {
        "barmode": "relative",
        "legend": {
         "tracegroupgap": 0
        },
        "margin": {
         "t": 60
        },
        "template": {
         "data": {
          "bar": [
           {
            "error_x": {
             "color": "#2a3f5f"
            },
            "error_y": {
             "color": "#2a3f5f"
            },
            "marker": {
             "line": {
              "color": "#E5ECF6",
              "width": 0.5
             },
             "pattern": {
              "fillmode": "overlay",
              "size": 10,
              "solidity": 0.2
             }
            },
            "type": "bar"
           }
          ],
          "barpolar": [
           {
            "marker": {
             "line": {
              "color": "#E5ECF6",
              "width": 0.5
             },
             "pattern": {
              "fillmode": "overlay",
              "size": 10,
              "solidity": 0.2
             }
            },
            "type": "barpolar"
           }
          ],
          "carpet": [
           {
            "aaxis": {
             "endlinecolor": "#2a3f5f",
             "gridcolor": "white",
             "linecolor": "white",
             "minorgridcolor": "white",
             "startlinecolor": "#2a3f5f"
            },
            "baxis": {
             "endlinecolor": "#2a3f5f",
             "gridcolor": "white",
             "linecolor": "white",
             "minorgridcolor": "white",
             "startlinecolor": "#2a3f5f"
            },
            "type": "carpet"
           }
          ],
          "choropleth": [
           {
            "colorbar": {
             "outlinewidth": 0,
             "ticks": ""
            },
            "type": "choropleth"
           }
          ],
          "contour": [
           {
            "colorbar": {
             "outlinewidth": 0,
             "ticks": ""
            },
            "colorscale": [
             [
              0,
              "#0d0887"
             ],
             [
              0.1111111111111111,
              "#46039f"
             ],
             [
              0.2222222222222222,
              "#7201a8"
             ],
             [
              0.3333333333333333,
              "#9c179e"
             ],
             [
              0.4444444444444444,
              "#bd3786"
             ],
             [
              0.5555555555555556,
              "#d8576b"
             ],
             [
              0.6666666666666666,
              "#ed7953"
             ],
             [
              0.7777777777777778,
              "#fb9f3a"
             ],
             [
              0.8888888888888888,
              "#fdca26"
             ],
             [
              1,
              "#f0f921"
             ]
            ],
            "type": "contour"
           }
          ],
          "contourcarpet": [
           {
            "colorbar": {
             "outlinewidth": 0,
             "ticks": ""
            },
            "type": "contourcarpet"
           }
          ],
          "heatmap": [
           {
            "colorbar": {
             "outlinewidth": 0,
             "ticks": ""
            },
            "colorscale": [
             [
              0,
              "#0d0887"
             ],
             [
              0.1111111111111111,
              "#46039f"
             ],
             [
              0.2222222222222222,
              "#7201a8"
             ],
             [
              0.3333333333333333,
              "#9c179e"
             ],
             [
              0.4444444444444444,
              "#bd3786"
             ],
             [
              0.5555555555555556,
              "#d8576b"
             ],
             [
              0.6666666666666666,
              "#ed7953"
             ],
             [
              0.7777777777777778,
              "#fb9f3a"
             ],
             [
              0.8888888888888888,
              "#fdca26"
             ],
             [
              1,
              "#f0f921"
             ]
            ],
            "type": "heatmap"
           }
          ],
          "heatmapgl": [
           {
            "colorbar": {
             "outlinewidth": 0,
             "ticks": ""
            },
            "colorscale": [
             [
              0,
              "#0d0887"
             ],
             [
              0.1111111111111111,
              "#46039f"
             ],
             [
              0.2222222222222222,
              "#7201a8"
             ],
             [
              0.3333333333333333,
              "#9c179e"
             ],
             [
              0.4444444444444444,
              "#bd3786"
             ],
             [
              0.5555555555555556,
              "#d8576b"
             ],
             [
              0.6666666666666666,
              "#ed7953"
             ],
             [
              0.7777777777777778,
              "#fb9f3a"
             ],
             [
              0.8888888888888888,
              "#fdca26"
             ],
             [
              1,
              "#f0f921"
             ]
            ],
            "type": "heatmapgl"
           }
          ],
          "histogram": [
           {
            "marker": {
             "pattern": {
              "fillmode": "overlay",
              "size": 10,
              "solidity": 0.2
             }
            },
            "type": "histogram"
           }
          ],
          "histogram2d": [
           {
            "colorbar": {
             "outlinewidth": 0,
             "ticks": ""
            },
            "colorscale": [
             [
              0,
              "#0d0887"
             ],
             [
              0.1111111111111111,
              "#46039f"
             ],
             [
              0.2222222222222222,
              "#7201a8"
             ],
             [
              0.3333333333333333,
              "#9c179e"
             ],
             [
              0.4444444444444444,
              "#bd3786"
             ],
             [
              0.5555555555555556,
              "#d8576b"
             ],
             [
              0.6666666666666666,
              "#ed7953"
             ],
             [
              0.7777777777777778,
              "#fb9f3a"
             ],
             [
              0.8888888888888888,
              "#fdca26"
             ],
             [
              1,
              "#f0f921"
             ]
            ],
            "type": "histogram2d"
           }
          ],
          "histogram2dcontour": [
           {
            "colorbar": {
             "outlinewidth": 0,
             "ticks": ""
            },
            "colorscale": [
             [
              0,
              "#0d0887"
             ],
             [
              0.1111111111111111,
              "#46039f"
             ],
             [
              0.2222222222222222,
              "#7201a8"
             ],
             [
              0.3333333333333333,
              "#9c179e"
             ],
             [
              0.4444444444444444,
              "#bd3786"
             ],
             [
              0.5555555555555556,
              "#d8576b"
             ],
             [
              0.6666666666666666,
              "#ed7953"
             ],
             [
              0.7777777777777778,
              "#fb9f3a"
             ],
             [
              0.8888888888888888,
              "#fdca26"
             ],
             [
              1,
              "#f0f921"
             ]
            ],
            "type": "histogram2dcontour"
           }
          ],
          "mesh3d": [
           {
            "colorbar": {
             "outlinewidth": 0,
             "ticks": ""
            },
            "type": "mesh3d"
           }
          ],
          "parcoords": [
           {
            "line": {
             "colorbar": {
              "outlinewidth": 0,
              "ticks": ""
             }
            },
            "type": "parcoords"
           }
          ],
          "pie": [
           {
            "automargin": true,
            "type": "pie"
           }
          ],
          "scatter": [
           {
            "fillpattern": {
             "fillmode": "overlay",
             "size": 10,
             "solidity": 0.2
            },
            "type": "scatter"
           }
          ],
          "scatter3d": [
           {
            "line": {
             "colorbar": {
              "outlinewidth": 0,
              "ticks": ""
             }
            },
            "marker": {
             "colorbar": {
              "outlinewidth": 0,
              "ticks": ""
             }
            },
            "type": "scatter3d"
           }
          ],
          "scattercarpet": [
           {
            "marker": {
             "colorbar": {
              "outlinewidth": 0,
              "ticks": ""
             }
            },
            "type": "scattercarpet"
           }
          ],
          "scattergeo": [
           {
            "marker": {
             "colorbar": {
              "outlinewidth": 0,
              "ticks": ""
             }
            },
            "type": "scattergeo"
           }
          ],
          "scattergl": [
           {
            "marker": {
             "colorbar": {
              "outlinewidth": 0,
              "ticks": ""
             }
            },
            "type": "scattergl"
           }
          ],
          "scattermapbox": [
           {
            "marker": {
             "colorbar": {
              "outlinewidth": 0,
              "ticks": ""
             }
            },
            "type": "scattermapbox"
           }
          ],
          "scatterpolar": [
           {
            "marker": {
             "colorbar": {
              "outlinewidth": 0,
              "ticks": ""
             }
            },
            "type": "scatterpolar"
           }
          ],
          "scatterpolargl": [
           {
            "marker": {
             "colorbar": {
              "outlinewidth": 0,
              "ticks": ""
             }
            },
            "type": "scatterpolargl"
           }
          ],
          "scatterternary": [
           {
            "marker": {
             "colorbar": {
              "outlinewidth": 0,
              "ticks": ""
             }
            },
            "type": "scatterternary"
           }
          ],
          "surface": [
           {
            "colorbar": {
             "outlinewidth": 0,
             "ticks": ""
            },
            "colorscale": [
             [
              0,
              "#0d0887"
             ],
             [
              0.1111111111111111,
              "#46039f"
             ],
             [
              0.2222222222222222,
              "#7201a8"
             ],
             [
              0.3333333333333333,
              "#9c179e"
             ],
             [
              0.4444444444444444,
              "#bd3786"
             ],
             [
              0.5555555555555556,
              "#d8576b"
             ],
             [
              0.6666666666666666,
              "#ed7953"
             ],
             [
              0.7777777777777778,
              "#fb9f3a"
             ],
             [
              0.8888888888888888,
              "#fdca26"
             ],
             [
              1,
              "#f0f921"
             ]
            ],
            "type": "surface"
           }
          ],
          "table": [
           {
            "cells": {
             "fill": {
              "color": "#EBF0F8"
             },
             "line": {
              "color": "white"
             }
            },
            "header": {
             "fill": {
              "color": "#C8D4E3"
             },
             "line": {
              "color": "white"
             }
            },
            "type": "table"
           }
          ]
         },
         "layout": {
          "annotationdefaults": {
           "arrowcolor": "#2a3f5f",
           "arrowhead": 0,
           "arrowwidth": 1
          },
          "autotypenumbers": "strict",
          "coloraxis": {
           "colorbar": {
            "outlinewidth": 0,
            "ticks": ""
           }
          },
          "colorscale": {
           "diverging": [
            [
             0,
             "#8e0152"
            ],
            [
             0.1,
             "#c51b7d"
            ],
            [
             0.2,
             "#de77ae"
            ],
            [
             0.3,
             "#f1b6da"
            ],
            [
             0.4,
             "#fde0ef"
            ],
            [
             0.5,
             "#f7f7f7"
            ],
            [
             0.6,
             "#e6f5d0"
            ],
            [
             0.7,
             "#b8e186"
            ],
            [
             0.8,
             "#7fbc41"
            ],
            [
             0.9,
             "#4d9221"
            ],
            [
             1,
             "#276419"
            ]
           ],
           "sequential": [
            [
             0,
             "#0d0887"
            ],
            [
             0.1111111111111111,
             "#46039f"
            ],
            [
             0.2222222222222222,
             "#7201a8"
            ],
            [
             0.3333333333333333,
             "#9c179e"
            ],
            [
             0.4444444444444444,
             "#bd3786"
            ],
            [
             0.5555555555555556,
             "#d8576b"
            ],
            [
             0.6666666666666666,
             "#ed7953"
            ],
            [
             0.7777777777777778,
             "#fb9f3a"
            ],
            [
             0.8888888888888888,
             "#fdca26"
            ],
            [
             1,
             "#f0f921"
            ]
           ],
           "sequentialminus": [
            [
             0,
             "#0d0887"
            ],
            [
             0.1111111111111111,
             "#46039f"
            ],
            [
             0.2222222222222222,
             "#7201a8"
            ],
            [
             0.3333333333333333,
             "#9c179e"
            ],
            [
             0.4444444444444444,
             "#bd3786"
            ],
            [
             0.5555555555555556,
             "#d8576b"
            ],
            [
             0.6666666666666666,
             "#ed7953"
            ],
            [
             0.7777777777777778,
             "#fb9f3a"
            ],
            [
             0.8888888888888888,
             "#fdca26"
            ],
            [
             1,
             "#f0f921"
            ]
           ]
          },
          "colorway": [
           "#636efa",
           "#EF553B",
           "#00cc96",
           "#ab63fa",
           "#FFA15A",
           "#19d3f3",
           "#FF6692",
           "#B6E880",
           "#FF97FF",
           "#FECB52"
          ],
          "font": {
           "color": "#2a3f5f"
          },
          "geo": {
           "bgcolor": "white",
           "lakecolor": "white",
           "landcolor": "#E5ECF6",
           "showlakes": true,
           "showland": true,
           "subunitcolor": "white"
          },
          "hoverlabel": {
           "align": "left"
          },
          "hovermode": "closest",
          "mapbox": {
           "style": "light"
          },
          "paper_bgcolor": "white",
          "plot_bgcolor": "#E5ECF6",
          "polar": {
           "angularaxis": {
            "gridcolor": "white",
            "linecolor": "white",
            "ticks": ""
           },
           "bgcolor": "#E5ECF6",
           "radialaxis": {
            "gridcolor": "white",
            "linecolor": "white",
            "ticks": ""
           }
          },
          "scene": {
           "xaxis": {
            "backgroundcolor": "#E5ECF6",
            "gridcolor": "white",
            "gridwidth": 2,
            "linecolor": "white",
            "showbackground": true,
            "ticks": "",
            "zerolinecolor": "white"
           },
           "yaxis": {
            "backgroundcolor": "#E5ECF6",
            "gridcolor": "white",
            "gridwidth": 2,
            "linecolor": "white",
            "showbackground": true,
            "ticks": "",
            "zerolinecolor": "white"
           },
           "zaxis": {
            "backgroundcolor": "#E5ECF6",
            "gridcolor": "white",
            "gridwidth": 2,
            "linecolor": "white",
            "showbackground": true,
            "ticks": "",
            "zerolinecolor": "white"
           }
          },
          "shapedefaults": {
           "line": {
            "color": "#2a3f5f"
           }
          },
          "ternary": {
           "aaxis": {
            "gridcolor": "white",
            "linecolor": "white",
            "ticks": ""
           },
           "baxis": {
            "gridcolor": "white",
            "linecolor": "white",
            "ticks": ""
           },
           "bgcolor": "#E5ECF6",
           "caxis": {
            "gridcolor": "white",
            "linecolor": "white",
            "ticks": ""
           }
          },
          "title": {
           "x": 0.05
          },
          "xaxis": {
           "automargin": true,
           "gridcolor": "white",
           "linecolor": "white",
           "ticks": "",
           "title": {
            "standoff": 15
           },
           "zerolinecolor": "white",
           "zerolinewidth": 2
          },
          "yaxis": {
           "automargin": true,
           "gridcolor": "white",
           "linecolor": "white",
           "ticks": "",
           "title": {
            "standoff": 15
           },
           "zerolinecolor": "white",
           "zerolinewidth": 2
          }
         }
        },
        "xaxis": {
         "anchor": "y",
         "domain": [
          0,
          1
         ],
         "title": {
          "text": "score"
         }
        },
        "yaxis": {
         "anchor": "x",
         "domain": [
          0,
          1
         ],
         "title": {
          "text": "count"
         }
        }
       }
      }
     },
     "metadata": {},
     "output_type": "display_data"
    }
   ],
   "source": [
    "#valid_repo['score'].mean()\n",
    "repository_score.head()\n",
    "repository_score.groupby('returncode').count()\n",
    "# 正常データは280のみ\n",
    "#valid_repo.sort_values('score', ascending=False).head(10)[['grant_id', 'github_project_url', 'score']]\n",
    "\n",
    "\n",
    "#show hist\n",
    "#valid_repo.describe()\n",
    "\n",
    "fig = px.histogram(valid_repo, x=\"score\")\n",
    "fig.show()"
   ]
  },
  {
   "cell_type": "code",
   "execution_count": 17,
   "metadata": {},
   "outputs": [
    {
     "data": {
      "text/html": [
       "<div>\n",
       "<style scoped>\n",
       "    .dataframe tbody tr th:only-of-type {\n",
       "        vertical-align: middle;\n",
       "    }\n",
       "\n",
       "    .dataframe tbody tr th {\n",
       "        vertical-align: top;\n",
       "    }\n",
       "\n",
       "    .dataframe thead th {\n",
       "        text-align: right;\n",
       "    }\n",
       "</style>\n",
       "<table border=\"1\" class=\"dataframe\">\n",
       "  <thead>\n",
       "    <tr style=\"text-align: right;\">\n",
       "      <th></th>\n",
       "      <th>grant_id</th>\n",
       "      <th>github_project_url_x</th>\n",
       "      <th>returncode</th>\n",
       "      <th>stdout</th>\n",
       "      <th>score</th>\n",
       "      <th>active</th>\n",
       "      <th>title</th>\n",
       "      <th>address</th>\n",
       "      <th>amount_received</th>\n",
       "      <th>amount_received_in_round</th>\n",
       "      <th>contribution_count</th>\n",
       "      <th>contributor_count</th>\n",
       "      <th>description</th>\n",
       "      <th>website</th>\n",
       "      <th>github_project_url_y</th>\n",
       "      <th>twitter_handle_2</th>\n",
       "      <th>twitter_handle_1</th>\n",
       "      <th>twitter_verified</th>\n",
       "      <th>created_on</th>\n",
       "      <th>last_update</th>\n",
       "    </tr>\n",
       "  </thead>\n",
       "  <tbody>\n",
       "    <tr>\n",
       "      <th>278</th>\n",
       "      <td>24</td>\n",
       "      <td>https://github.com/prysmaticlabs/prysm</td>\n",
       "      <td>0</td>\n",
       "      <td>name: prysm\\nurl: https://github.com/prysmaticlabs/prysm\\nlanguage: Go\\ncreated_since: 88\\nupdated_since: 0\\ncontributor_count: 170\\norg_count: 5\\ncommit_frequency: 21.8\\nrecent_releases_count: 20\\nupdated_issues_count: 572\\nclosed_issues_count: 461\\ncomment_frequency: 1.4\\ndependents_count: 2837\\ncriticality_score: 0.71359\\n</td>\n",
       "      <td>0.71359</td>\n",
       "      <td>True</td>\n",
       "      <td>Prysm by Prysmatic Labs</td>\n",
       "      <td>0x9B984D5a03980D8dc0a24506c968465424c81DbE</td>\n",
       "      <td>233856.5844</td>\n",
       "      <td>3238.3900</td>\n",
       "      <td>24462</td>\n",
       "      <td>16323</td>\n",
       "      <td>Prysmatic Labs currently builds technical infrastructure for the Ethereum blockchain. Our mission is to increase adoption through better tooling for users and developers of the Ethereum ecosystem through our expertise\\r\\n\\r\\nOur flagship project, Prysm, is a production client for the new Ethereum consensus layer (previously called Ethereum 2.0) that anyone can freely use to participate in the ...</td>\n",
       "      <td>https://prysmaticlabs.com/</td>\n",
       "      <td>https://github.com/prysmaticlabs/prysm</td>\n",
       "      <td>NaN</td>\n",
       "      <td>prylabs</td>\n",
       "      <td>True</td>\n",
       "      <td>2018-12-31 22:46:44+00:00</td>\n",
       "      <td>2022-09-13 06:22:42.171079+00:00</td>\n",
       "    </tr>\n",
       "    <tr>\n",
       "      <th>178</th>\n",
       "      <td>4680</td>\n",
       "      <td>https://github.com/aframevr/aframe</td>\n",
       "      <td>0</td>\n",
       "      <td>name: aframe\\nurl: https://github.com/aframevr/aframe\\nlanguage: JavaScript\\ncreated_since: 87\\nupdated_since: 0\\ncontributor_count: 399\\norg_count: 8\\ncommit_frequency: 2.8\\nrecent_releases_count: 1\\nupdated_issues_count: 94\\nclosed_issues_count: 48\\ncomment_frequency: 3.1\\ndependents_count: 18232\\ncriticality_score: 0.71237\\n</td>\n",
       "      <td>0.71237</td>\n",
       "      <td>True</td>\n",
       "      <td>A-Frame - Building the open Metaverse</td>\n",
       "      <td>0x55C27c984662c3d8676fcbb958F57e2758490Af1</td>\n",
       "      <td>41.1025</td>\n",
       "      <td>2.9401</td>\n",
       "      <td>8</td>\n",
       "      <td>7</td>\n",
       "      <td>We believe the Web is the substrate for an open Metaverse. A-Frame is an open source framework that was born in 2015 with the goal of onboarding millions of Web developers to build 3D, AR and VR experiences using Web technologies and standards. Today there's a vibrant community of tens of thousands of creative developers worldwide. A grant will allow the team to devote more resources to its ma...</td>\n",
       "      <td>https://aframe.io/</td>\n",
       "      <td>https://github.com/aframevr/aframe</td>\n",
       "      <td>dmarcos</td>\n",
       "      <td>aframevr</td>\n",
       "      <td>False</td>\n",
       "      <td>2022-02-17 22:09:36+00:00</td>\n",
       "      <td>2022-02-17 22:09:36+00:00</td>\n",
       "    </tr>\n",
       "    <tr>\n",
       "      <th>241</th>\n",
       "      <td>1592</td>\n",
       "      <td>https://github.com/nomicfoundation/hardhat</td>\n",
       "      <td>0</td>\n",
       "      <td>name: hardhat\\nurl: https://github.com/NomicFoundation/hardhat\\nlanguage: TypeScript\\ncreated_since: 55\\nupdated_since: 0\\ncontributor_count: 225\\norg_count: 5\\ncommit_frequency: 36.0\\nrecent_releases_count: 64\\nupdated_issues_count: 551\\nclosed_issues_count: 316\\ncomment_frequency: 3.0\\ndependents_count: 149\\ncriticality_score: 0.68876\\n</td>\n",
       "      <td>0.68876</td>\n",
       "      <td>True</td>\n",
       "      <td>Hardhat by Nomic Foundation</td>\n",
       "      <td>0x587FB98E404A18503a24cf19aBB1887704BeB407</td>\n",
       "      <td>192040.5716</td>\n",
       "      <td>1566.6102</td>\n",
       "      <td>15904</td>\n",
       "      <td>10898</td>\n",
       "      <td>Hardhat is an Ethereum development environment for professionals. It's flexible, extensible and fast.\\r\\n\\r\\nIt's packed with Solidity debugging features such as stack traces, console.log and explicit error messages when transactions fail.\\r\\n\\r\\nPlugins https://hardhat.org/hardhat-runner/plugins\\r\\nDocumentation https://hardhat.org/docs\\r\\nCommunity and Support Discord https://hardhat.org/dis...</td>\n",
       "      <td>https://hardhat.org</td>\n",
       "      <td>https://github.com/nomicfoundation/hardhat</td>\n",
       "      <td>zfran</td>\n",
       "      <td>HardhatHQ</td>\n",
       "      <td>True</td>\n",
       "      <td>2020-11-30 19:55:32+00:00</td>\n",
       "      <td>2022-09-07 20:37:17.159404+00:00</td>\n",
       "    </tr>\n",
       "    <tr>\n",
       "      <th>277</th>\n",
       "      <td>25</td>\n",
       "      <td>https://github.com/sigp/lighthouse</td>\n",
       "      <td>0</td>\n",
       "      <td>name: lighthouse\\nurl: https://github.com/sigp/lighthouse\\nlanguage: Rust\\ncreated_since: 52\\nupdated_since: 1\\ncontributor_count: 125\\norg_count: 3\\ncommit_frequency: 8.7\\nrecent_releases_count: 20\\nupdated_issues_count: 394\\nclosed_issues_count: 292\\ncomment_frequency: 2.9\\ndependents_count: 855\\ncriticality_score: 0.63438\\n</td>\n",
       "      <td>0.63438</td>\n",
       "      <td>True</td>\n",
       "      <td>Lighthouse: Ethereum Consensus Client</td>\n",
       "      <td>0xC9a872868afA68BA937f65A1c5b4B252dAB15D85</td>\n",
       "      <td>224861.4789</td>\n",
       "      <td>3364.8199</td>\n",
       "      <td>26858</td>\n",
       "      <td>18277</td>\n",
       "      <td>Lighthouse is one of the leading Ethereum consensus implementations with a focus on security and performance.\\r\\n\\r\\nThe Lighthouse team has been working to scale Ethereum for over three years. We are proud to see the Beacon Chain in production and securing billions of ETH.\\r\\n\\r\\nLighthouse has participated in all major merge testnets and is prepared for the merge in September 15th.\\r\\n\\r\\n\\r...</td>\n",
       "      <td>https://github.com/sigp/lighthouse</td>\n",
       "      <td>https://github.com/sigp/lighthouse</td>\n",
       "      <td>sigp_io</td>\n",
       "      <td>paulhauner</td>\n",
       "      <td>True</td>\n",
       "      <td>2019-01-03 06:33:00+00:00</td>\n",
       "      <td>2022-09-07 23:13:20.928090+00:00</td>\n",
       "    </tr>\n",
       "    <tr>\n",
       "      <th>141</th>\n",
       "      <td>6128</td>\n",
       "      <td>https://github.com/ethereum/go-ethereum/</td>\n",
       "      <td>0</td>\n",
       "      <td>name: go-ethereum\\nurl: https://github.com/ethereum/go-ethereum\\nlanguage: Go\\ncreated_since: 107\\nupdated_since: 0\\ncontributor_count: 774\\norg_count: 7\\ncommit_frequency: 13.3\\nrecent_releases_count: 15\\nupdated_issues_count: 859\\nclosed_issues_count: 699\\ncomment_frequency: 1.9\\ndependents_count: 0\\ncriticality_score: 0.63254\\n</td>\n",
       "      <td>0.63254</td>\n",
       "      <td>True</td>\n",
       "      <td>go-ethereum (geth)</td>\n",
       "      <td>0x21539334f45Ac41Bd10789942b744a18a4775d6d</td>\n",
       "      <td>8660.9008</td>\n",
       "      <td>306.2237</td>\n",
       "      <td>838</td>\n",
       "      <td>736</td>\n",
       "      <td>Official grant for the go-ethereum (geth) team, who maintain the most used and longest lived Ethereum execution layer client. The client's first releases predate the Ethereum mainnet genesis! \\r\\n\\r\\n</td>\n",
       "      <td>https://geth.ethereum.org/</td>\n",
       "      <td>https://github.com/ethereum/go-ethereum/</td>\n",
       "      <td>go_ethereum</td>\n",
       "      <td>go_ethereum</td>\n",
       "      <td>True</td>\n",
       "      <td>2022-06-06 16:12:54+00:00</td>\n",
       "      <td>2022-06-07 15:16:08.301615+00:00</td>\n",
       "    </tr>\n",
       "    <tr>\n",
       "      <th>274</th>\n",
       "      <td>159</td>\n",
       "      <td>https://github.com/DimensionDev/Maskbook/</td>\n",
       "      <td>0</td>\n",
       "      <td>name: Maskbook\\nurl: https://github.com/DimensionDev/Maskbook\\nlanguage: TypeScript\\ncreated_since: 44\\nupdated_since: 0\\ncontributor_count: 60\\norg_count: 4\\ncommit_frequency: 45.0\\nrecent_releases_count: 37\\nupdated_issues_count: 990\\nclosed_issues_count: 952\\ncomment_frequency: 0.9\\ndependents_count: 97\\ncriticality_score: 0.6144\\n</td>\n",
       "      <td>0.61440</td>\n",
       "      <td>True</td>\n",
       "      <td>Mask Network - The Portal to the New, Open Internet. (Legacy)</td>\n",
       "      <td>0x934B510D4C9103E6a87AEf13b816fb080286D649</td>\n",
       "      <td>18815.0705</td>\n",
       "      <td>2.1000</td>\n",
       "      <td>3585</td>\n",
       "      <td>2871</td>\n",
       "      <td>This Grant is in legacy mod now. Any donation will be re donated to public good projects.\\r\\n\\r\\nMask Network is a portal to the new, open internet. With Mask Network, you can send encrypted posts to your friends, participate in cryptocurrency lucky-draws, and share encrypted files on the platforms you are already using (Facebook/Twitter).\\r\\n\\r\\nWe have a working products with thousands of us...</td>\n",
       "      <td>https://mask.io</td>\n",
       "      <td>https://github.com/DimensionDev/Maskbook/</td>\n",
       "      <td>suji_yan</td>\n",
       "      <td>realmasknetwork</td>\n",
       "      <td>False</td>\n",
       "      <td>2019-11-03 20:03:23+00:00</td>\n",
       "      <td>2021-11-28 20:59:49.825039+00:00</td>\n",
       "    </tr>\n",
       "    <tr>\n",
       "      <th>257</th>\n",
       "      <td>916</td>\n",
       "      <td>https://github.com/FreezingMoon/AncientBeast</td>\n",
       "      <td>0</td>\n",
       "      <td>name: AncientBeast\\nurl: https://github.com/FreezingMoon/AncientBeast\\nlanguage: JavaScript\\ncreated_since: 137\\nupdated_since: 0\\ncontributor_count: 121\\norg_count: 4\\ncommit_frequency: 5.1\\nrecent_releases_count: 0\\nupdated_issues_count: 85\\nclosed_issues_count: 32\\ncomment_frequency: 2.2\\ndependents_count: 4281\\ncriticality_score: 0.61432\\n</td>\n",
       "      <td>0.61432</td>\n",
       "      <td>True</td>\n",
       "      <td>Ancient Beast 🐺 The eSport ♟️</td>\n",
       "      <td>0x21f53DB4D2eAcde70a2E4F0407D073C971eC1A33</td>\n",
       "      <td>3779.8685</td>\n",
       "      <td>53.7237</td>\n",
       "      <td>727</td>\n",
       "      <td>590</td>\n",
       "      <td>\\r\\n\\r\\n\\r\\nThe match-based game that you'll love to play for decades to come against friends, future friends and even your enemies altogether! 🎮 AncientBeast.com 🐺\\r\\nturn based strategy\\r\\nfree and open source\\r\\nbrowser based game\\r\\n1vs1 or 2vs2 matches\\r\\nduel others for crypto\\r\\n\\r\\n\\r\\n\\r\\nYou materialize and control a carefully selected squad of creatures to defeat others.\\r\\nOver 50 ...</td>\n",
       "      <td>https://AncientBeast.com</td>\n",
       "      <td>https://github.com/FreezingMoon/AncientBeast</td>\n",
       "      <td>DreadKnight</td>\n",
       "      <td>AncientBeast</td>\n",
       "      <td>True</td>\n",
       "      <td>2020-06-21 04:06:31+00:00</td>\n",
       "      <td>2022-09-17 13:56:14.562344+00:00</td>\n",
       "    </tr>\n",
       "    <tr>\n",
       "      <th>275</th>\n",
       "      <td>149</td>\n",
       "      <td>https://github.com/rotki/rotki/</td>\n",
       "      <td>0</td>\n",
       "      <td>name: rotki\\nurl: https://github.com/rotki/rotki\\nlanguage: Python\\ncreated_since: 66\\nupdated_since: 0\\ncontributor_count: 95\\norg_count: 2\\ncommit_frequency: 35.6\\nrecent_releases_count: 15\\nupdated_issues_count: 409\\nclosed_issues_count: 348\\ncomment_frequency: 1.5\\ndependents_count: 109\\ncriticality_score: 0.59908\\n</td>\n",
       "      <td>0.59908</td>\n",
       "      <td>True</td>\n",
       "      <td>Rotki - The portfolio tracker and accounting tool that protects your privacy</td>\n",
       "      <td>0x9531C059098e3d194fF87FebB587aB07B30B1306</td>\n",
       "      <td>396269.3026</td>\n",
       "      <td>4514.6146</td>\n",
       "      <td>32580</td>\n",
       "      <td>20218</td>\n",
       "      <td>Wichtiger Hinweis: Der \"Lifetime funding\" ist falsch.\\r\\nImportant Note: The \"Lifetime funding\" is wrong.\\r\\n\\r\\nWhat is Rotki?\\r\\n\\r\\nRotki is an open source portfolio tracking, accounting, analytics and tax reporting tool that protects your privacy.\\r\\n\\r\\nThe mission of Rotki is to bring transparency into the crypto and financial sectors through the use of open source. Most importantly unli...</td>\n",
       "      <td>https://rotki.com</td>\n",
       "      <td>https://github.com/rotki/rotki/</td>\n",
       "      <td>rotkiapp</td>\n",
       "      <td>rotkiapp</td>\n",
       "      <td>True</td>\n",
       "      <td>2019-10-21 21:54:01+00:00</td>\n",
       "      <td>2022-09-19 14:50:50.343719+00:00</td>\n",
       "    </tr>\n",
       "    <tr>\n",
       "      <th>253</th>\n",
       "      <td>1093</td>\n",
       "      <td>https://github.com/snapshot-labs/snapshot</td>\n",
       "      <td>0</td>\n",
       "      <td>name: snapshot\\nurl: https://github.com/snapshot-labs/snapshot\\nlanguage: Vue\\ncreated_since: 26\\nupdated_since: 0\\ncontributor_count: 86\\norg_count: 7\\ncommit_frequency: 36.1\\nrecent_releases_count: 0\\nupdated_issues_count: 430\\nclosed_issues_count: 373\\ncomment_frequency: 1.2\\ndependents_count: 276\\ncriticality_score: 0.58489\\n</td>\n",
       "      <td>0.58489</td>\n",
       "      <td>False</td>\n",
       "      <td>Snapshot</td>\n",
       "      <td>0x8C28Cf33d9Fd3D0293f963b1cd27e3FF422B425c</td>\n",
       "      <td>115704.1512</td>\n",
       "      <td>1.0346</td>\n",
       "      <td>9441</td>\n",
       "      <td>6731</td>\n",
       "      <td>Snapshot is an off-chain gasless multi-governance client with easy to verify and hard to contest results. \\r\\n\\r\\n✅Creating a proposal and voting is free no transaction\\r\\n✅Proposals and votes are just signed messages stored on IPFS \\r\\n✅Signatures are easily verifiable online they use the \"eth_sign\" format \\r\\n✅We don't have any token or business model, and no plans to get one\\r\\n✅It's free t...</td>\n",
       "      <td>https://snapshot.org</td>\n",
       "      <td>https://github.com/snapshot-labs/snapshot</td>\n",
       "      <td>bonustrack87</td>\n",
       "      <td>SnapshotLabs</td>\n",
       "      <td>True</td>\n",
       "      <td>2020-08-29 19:34:36+00:00</td>\n",
       "      <td>2021-07-26 09:59:03.989526+00:00</td>\n",
       "    </tr>\n",
       "    <tr>\n",
       "      <th>279</th>\n",
       "      <td>13</td>\n",
       "      <td>https://github.com/ethers-io/ethers.js</td>\n",
       "      <td>0</td>\n",
       "      <td>name: ethers.js\\nurl: https://github.com/ethers-io/ethers.js\\nlanguage: TypeScript\\ncreated_since: 76\\nupdated_since: 1\\ncontributor_count: 15\\norg_count: 5\\ncommit_frequency: 3.5\\nrecent_releases_count: 17\\nupdated_issues_count: 235\\nclosed_issues_count: 108\\ncomment_frequency: 1.4\\ndependents_count: 2022\\ncriticality_score: 0.57503\\n</td>\n",
       "      <td>0.57503</td>\n",
       "      <td>True</td>\n",
       "      <td>ethers.js - Complete, Simple and Tiny</td>\n",
       "      <td>0x8ba1f109551bD432803012645Ac136ddd64DBA72</td>\n",
       "      <td>298411.2655</td>\n",
       "      <td>6028.1200</td>\n",
       "      <td>23434</td>\n",
       "      <td>14532</td>\n",
       "      <td>The ethers.js library is a complete and compact library for interacting with the Ethereum Blockchains and their ecosystem. \\r\\n\\r\\nFeatures:\\r\\n\\r\\n● Keep your private keys in your client, safe and sound\\r\\n● Import and export JSON wallets (Geth, Parity and crowdsale)\\r\\n● Import and export BIP 39 mnemonic phrases (12 word backup phrases) and HD Wallets (Czech, English, French, Italian, Japane...</td>\n",
       "      <td>https://ethers.org/</td>\n",
       "      <td>https://github.com/ethers-io/ethers.js</td>\n",
       "      <td>ricmoo</td>\n",
       "      <td>ricmoo</td>\n",
       "      <td>True</td>\n",
       "      <td>2018-12-19 22:58:36+00:00</td>\n",
       "      <td>2022-09-07 04:21:46+00:00</td>\n",
       "    </tr>\n",
       "  </tbody>\n",
       "</table>\n",
       "</div>"
      ],
      "text/plain": [
       "     grant_id                          github_project_url_x  returncode  \\\n",
       "278        24        https://github.com/prysmaticlabs/prysm           0   \n",
       "178      4680            https://github.com/aframevr/aframe           0   \n",
       "241      1592    https://github.com/nomicfoundation/hardhat           0   \n",
       "277        25            https://github.com/sigp/lighthouse           0   \n",
       "141      6128      https://github.com/ethereum/go-ethereum/           0   \n",
       "274       159     https://github.com/DimensionDev/Maskbook/           0   \n",
       "257       916  https://github.com/FreezingMoon/AncientBeast           0   \n",
       "275       149               https://github.com/rotki/rotki/           0   \n",
       "253      1093     https://github.com/snapshot-labs/snapshot           0   \n",
       "279        13        https://github.com/ethers-io/ethers.js           0   \n",
       "\n",
       "                                                                                                                                                                                                                                                                                                                                                        stdout  \\\n",
       "278                    name: prysm\\nurl: https://github.com/prysmaticlabs/prysm\\nlanguage: Go\\ncreated_since: 88\\nupdated_since: 0\\ncontributor_count: 170\\norg_count: 5\\ncommit_frequency: 21.8\\nrecent_releases_count: 20\\nupdated_issues_count: 572\\nclosed_issues_count: 461\\ncomment_frequency: 1.4\\ndependents_count: 2837\\ncriticality_score: 0.71359\\n   \n",
       "178                  name: aframe\\nurl: https://github.com/aframevr/aframe\\nlanguage: JavaScript\\ncreated_since: 87\\nupdated_since: 0\\ncontributor_count: 399\\norg_count: 8\\ncommit_frequency: 2.8\\nrecent_releases_count: 1\\nupdated_issues_count: 94\\nclosed_issues_count: 48\\ncomment_frequency: 3.1\\ndependents_count: 18232\\ncriticality_score: 0.71237\\n   \n",
       "241       name: hardhat\\nurl: https://github.com/NomicFoundation/hardhat\\nlanguage: TypeScript\\ncreated_since: 55\\nupdated_since: 0\\ncontributor_count: 225\\norg_count: 5\\ncommit_frequency: 36.0\\nrecent_releases_count: 64\\nupdated_issues_count: 551\\nclosed_issues_count: 316\\ncomment_frequency: 3.0\\ndependents_count: 149\\ncriticality_score: 0.68876\\n   \n",
       "277                   name: lighthouse\\nurl: https://github.com/sigp/lighthouse\\nlanguage: Rust\\ncreated_since: 52\\nupdated_since: 1\\ncontributor_count: 125\\norg_count: 3\\ncommit_frequency: 8.7\\nrecent_releases_count: 20\\nupdated_issues_count: 394\\nclosed_issues_count: 292\\ncomment_frequency: 2.9\\ndependents_count: 855\\ncriticality_score: 0.63438\\n   \n",
       "141               name: go-ethereum\\nurl: https://github.com/ethereum/go-ethereum\\nlanguage: Go\\ncreated_since: 107\\nupdated_since: 0\\ncontributor_count: 774\\norg_count: 7\\ncommit_frequency: 13.3\\nrecent_releases_count: 15\\nupdated_issues_count: 859\\nclosed_issues_count: 699\\ncomment_frequency: 1.9\\ndependents_count: 0\\ncriticality_score: 0.63254\\n   \n",
       "274           name: Maskbook\\nurl: https://github.com/DimensionDev/Maskbook\\nlanguage: TypeScript\\ncreated_since: 44\\nupdated_since: 0\\ncontributor_count: 60\\norg_count: 4\\ncommit_frequency: 45.0\\nrecent_releases_count: 37\\nupdated_issues_count: 990\\nclosed_issues_count: 952\\ncomment_frequency: 0.9\\ndependents_count: 97\\ncriticality_score: 0.6144\\n   \n",
       "257  name: AncientBeast\\nurl: https://github.com/FreezingMoon/AncientBeast\\nlanguage: JavaScript\\ncreated_since: 137\\nupdated_since: 0\\ncontributor_count: 121\\norg_count: 4\\ncommit_frequency: 5.1\\nrecent_releases_count: 0\\nupdated_issues_count: 85\\nclosed_issues_count: 32\\ncomment_frequency: 2.2\\ndependents_count: 4281\\ncriticality_score: 0.61432\\n   \n",
       "275                          name: rotki\\nurl: https://github.com/rotki/rotki\\nlanguage: Python\\ncreated_since: 66\\nupdated_since: 0\\ncontributor_count: 95\\norg_count: 2\\ncommit_frequency: 35.6\\nrecent_releases_count: 15\\nupdated_issues_count: 409\\nclosed_issues_count: 348\\ncomment_frequency: 1.5\\ndependents_count: 109\\ncriticality_score: 0.59908\\n   \n",
       "253                name: snapshot\\nurl: https://github.com/snapshot-labs/snapshot\\nlanguage: Vue\\ncreated_since: 26\\nupdated_since: 0\\ncontributor_count: 86\\norg_count: 7\\ncommit_frequency: 36.1\\nrecent_releases_count: 0\\nupdated_issues_count: 430\\nclosed_issues_count: 373\\ncomment_frequency: 1.2\\ndependents_count: 276\\ncriticality_score: 0.58489\\n   \n",
       "279          name: ethers.js\\nurl: https://github.com/ethers-io/ethers.js\\nlanguage: TypeScript\\ncreated_since: 76\\nupdated_since: 1\\ncontributor_count: 15\\norg_count: 5\\ncommit_frequency: 3.5\\nrecent_releases_count: 17\\nupdated_issues_count: 235\\nclosed_issues_count: 108\\ncomment_frequency: 1.4\\ndependents_count: 2022\\ncriticality_score: 0.57503\\n   \n",
       "\n",
       "       score  active  \\\n",
       "278  0.71359    True   \n",
       "178  0.71237    True   \n",
       "241  0.68876    True   \n",
       "277  0.63438    True   \n",
       "141  0.63254    True   \n",
       "274  0.61440    True   \n",
       "257  0.61432    True   \n",
       "275  0.59908    True   \n",
       "253  0.58489   False   \n",
       "279  0.57503    True   \n",
       "\n",
       "                                                                            title  \\\n",
       "278                                                       Prysm by Prysmatic Labs   \n",
       "178                                         A-Frame - Building the open Metaverse   \n",
       "241                                                   Hardhat by Nomic Foundation   \n",
       "277                                         Lighthouse: Ethereum Consensus Client   \n",
       "141                                                            go-ethereum (geth)   \n",
       "274                 Mask Network - The Portal to the New, Open Internet. (Legacy)   \n",
       "257                                                 Ancient Beast 🐺 The eSport ♟️   \n",
       "275  Rotki - The portfolio tracker and accounting tool that protects your privacy   \n",
       "253                                                                      Snapshot   \n",
       "279                                         ethers.js - Complete, Simple and Tiny   \n",
       "\n",
       "                                        address  amount_received  \\\n",
       "278  0x9B984D5a03980D8dc0a24506c968465424c81DbE      233856.5844   \n",
       "178  0x55C27c984662c3d8676fcbb958F57e2758490Af1          41.1025   \n",
       "241  0x587FB98E404A18503a24cf19aBB1887704BeB407      192040.5716   \n",
       "277  0xC9a872868afA68BA937f65A1c5b4B252dAB15D85      224861.4789   \n",
       "141  0x21539334f45Ac41Bd10789942b744a18a4775d6d        8660.9008   \n",
       "274  0x934B510D4C9103E6a87AEf13b816fb080286D649       18815.0705   \n",
       "257  0x21f53DB4D2eAcde70a2E4F0407D073C971eC1A33        3779.8685   \n",
       "275  0x9531C059098e3d194fF87FebB587aB07B30B1306      396269.3026   \n",
       "253  0x8C28Cf33d9Fd3D0293f963b1cd27e3FF422B425c      115704.1512   \n",
       "279  0x8ba1f109551bD432803012645Ac136ddd64DBA72      298411.2655   \n",
       "\n",
       "     amount_received_in_round  contribution_count  contributor_count  \\\n",
       "278                 3238.3900               24462              16323   \n",
       "178                    2.9401                   8                  7   \n",
       "241                 1566.6102               15904              10898   \n",
       "277                 3364.8199               26858              18277   \n",
       "141                  306.2237                 838                736   \n",
       "274                    2.1000                3585               2871   \n",
       "257                   53.7237                 727                590   \n",
       "275                 4514.6146               32580              20218   \n",
       "253                    1.0346                9441               6731   \n",
       "279                 6028.1200               23434              14532   \n",
       "\n",
       "                                                                                                                                                                                                                                                                                                                                                                                                         description  \\\n",
       "278  Prysmatic Labs currently builds technical infrastructure for the Ethereum blockchain. Our mission is to increase adoption through better tooling for users and developers of the Ethereum ecosystem through our expertise\\r\\n\\r\\nOur flagship project, Prysm, is a production client for the new Ethereum consensus layer (previously called Ethereum 2.0) that anyone can freely use to participate in the ...   \n",
       "178  We believe the Web is the substrate for an open Metaverse. A-Frame is an open source framework that was born in 2015 with the goal of onboarding millions of Web developers to build 3D, AR and VR experiences using Web technologies and standards. Today there's a vibrant community of tens of thousands of creative developers worldwide. A grant will allow the team to devote more resources to its ma...   \n",
       "241  Hardhat is an Ethereum development environment for professionals. It's flexible, extensible and fast.\\r\\n\\r\\nIt's packed with Solidity debugging features such as stack traces, console.log and explicit error messages when transactions fail.\\r\\n\\r\\nPlugins https://hardhat.org/hardhat-runner/plugins\\r\\nDocumentation https://hardhat.org/docs\\r\\nCommunity and Support Discord https://hardhat.org/dis...   \n",
       "277  Lighthouse is one of the leading Ethereum consensus implementations with a focus on security and performance.\\r\\n\\r\\nThe Lighthouse team has been working to scale Ethereum for over three years. We are proud to see the Beacon Chain in production and securing billions of ETH.\\r\\n\\r\\nLighthouse has participated in all major merge testnets and is prepared for the merge in September 15th.\\r\\n\\r\\n\\r...   \n",
       "141                                                                                                                                                                                                         Official grant for the go-ethereum (geth) team, who maintain the most used and longest lived Ethereum execution layer client. The client's first releases predate the Ethereum mainnet genesis! \\r\\n\\r\\n   \n",
       "274  This Grant is in legacy mod now. Any donation will be re donated to public good projects.\\r\\n\\r\\nMask Network is a portal to the new, open internet. With Mask Network, you can send encrypted posts to your friends, participate in cryptocurrency lucky-draws, and share encrypted files on the platforms you are already using (Facebook/Twitter).\\r\\n\\r\\nWe have a working products with thousands of us...   \n",
       "257  \\r\\n\\r\\n\\r\\nThe match-based game that you'll love to play for decades to come against friends, future friends and even your enemies altogether! 🎮 AncientBeast.com 🐺\\r\\nturn based strategy\\r\\nfree and open source\\r\\nbrowser based game\\r\\n1vs1 or 2vs2 matches\\r\\nduel others for crypto\\r\\n\\r\\n\\r\\n\\r\\nYou materialize and control a carefully selected squad of creatures to defeat others.\\r\\nOver 50 ...   \n",
       "275  Wichtiger Hinweis: Der \"Lifetime funding\" ist falsch.\\r\\nImportant Note: The \"Lifetime funding\" is wrong.\\r\\n\\r\\nWhat is Rotki?\\r\\n\\r\\nRotki is an open source portfolio tracking, accounting, analytics and tax reporting tool that protects your privacy.\\r\\n\\r\\nThe mission of Rotki is to bring transparency into the crypto and financial sectors through the use of open source. Most importantly unli...   \n",
       "253  Snapshot is an off-chain gasless multi-governance client with easy to verify and hard to contest results. \\r\\n\\r\\n✅Creating a proposal and voting is free no transaction\\r\\n✅Proposals and votes are just signed messages stored on IPFS \\r\\n✅Signatures are easily verifiable online they use the \"eth_sign\" format \\r\\n✅We don't have any token or business model, and no plans to get one\\r\\n✅It's free t...   \n",
       "279  The ethers.js library is a complete and compact library for interacting with the Ethereum Blockchains and their ecosystem. \\r\\n\\r\\nFeatures:\\r\\n\\r\\n● Keep your private keys in your client, safe and sound\\r\\n● Import and export JSON wallets (Geth, Parity and crowdsale)\\r\\n● Import and export BIP 39 mnemonic phrases (12 word backup phrases) and HD Wallets (Czech, English, French, Italian, Japane...   \n",
       "\n",
       "                                website  \\\n",
       "278          https://prysmaticlabs.com/   \n",
       "178                  https://aframe.io/   \n",
       "241                 https://hardhat.org   \n",
       "277  https://github.com/sigp/lighthouse   \n",
       "141          https://geth.ethereum.org/   \n",
       "274                     https://mask.io   \n",
       "257            https://AncientBeast.com   \n",
       "275                   https://rotki.com   \n",
       "253                https://snapshot.org   \n",
       "279                 https://ethers.org/   \n",
       "\n",
       "                             github_project_url_y twitter_handle_2  \\\n",
       "278        https://github.com/prysmaticlabs/prysm              NaN   \n",
       "178            https://github.com/aframevr/aframe          dmarcos   \n",
       "241    https://github.com/nomicfoundation/hardhat            zfran   \n",
       "277            https://github.com/sigp/lighthouse          sigp_io   \n",
       "141      https://github.com/ethereum/go-ethereum/      go_ethereum   \n",
       "274     https://github.com/DimensionDev/Maskbook/         suji_yan   \n",
       "257  https://github.com/FreezingMoon/AncientBeast      DreadKnight   \n",
       "275               https://github.com/rotki/rotki/         rotkiapp   \n",
       "253     https://github.com/snapshot-labs/snapshot     bonustrack87   \n",
       "279        https://github.com/ethers-io/ethers.js           ricmoo   \n",
       "\n",
       "    twitter_handle_1  twitter_verified                 created_on  \\\n",
       "278          prylabs              True  2018-12-31 22:46:44+00:00   \n",
       "178         aframevr             False  2022-02-17 22:09:36+00:00   \n",
       "241        HardhatHQ              True  2020-11-30 19:55:32+00:00   \n",
       "277       paulhauner              True  2019-01-03 06:33:00+00:00   \n",
       "141      go_ethereum              True  2022-06-06 16:12:54+00:00   \n",
       "274  realmasknetwork             False  2019-11-03 20:03:23+00:00   \n",
       "257     AncientBeast              True  2020-06-21 04:06:31+00:00   \n",
       "275         rotkiapp              True  2019-10-21 21:54:01+00:00   \n",
       "253     SnapshotLabs              True  2020-08-29 19:34:36+00:00   \n",
       "279           ricmoo              True  2018-12-19 22:58:36+00:00   \n",
       "\n",
       "                          last_update  \n",
       "278  2022-09-13 06:22:42.171079+00:00  \n",
       "178         2022-02-17 22:09:36+00:00  \n",
       "241  2022-09-07 20:37:17.159404+00:00  \n",
       "277  2022-09-07 23:13:20.928090+00:00  \n",
       "141  2022-06-07 15:16:08.301615+00:00  \n",
       "274  2021-11-28 20:59:49.825039+00:00  \n",
       "257  2022-09-17 13:56:14.562344+00:00  \n",
       "275  2022-09-19 14:50:50.343719+00:00  \n",
       "253  2021-07-26 09:59:03.989526+00:00  \n",
       "279         2022-09-07 04:21:46+00:00  "
      ]
     },
     "execution_count": 17,
     "metadata": {},
     "output_type": "execute_result"
    }
   ],
   "source": [
    "grants = pd.read_csv('../grants.csv') \n",
    "\n",
    "merged = pd.merge(valid_repo, grants, on='grant_id')\n",
    "# merged.head()\n",
    "#merged.info()\n",
    "merged.sort_values('score', ascending=False).head(10)\n",
    "\n",
    "# TODO: avg donation amountを追加\n",
    "# TODO: score高と低に分けて、より詳細な分析"
   ]
  },
  {
   "cell_type": "code",
   "execution_count": 40,
   "metadata": {},
   "outputs": [
    {
     "data": {
      "application/vnd.plotly.v1+json": {
       "config": {
        "plotlyServerURL": "https://plot.ly"
       },
       "data": [
        {
         "hovertemplate": "<b>%{hovertext}</b><br><br>score=%{x}<br>contribution_count=%{y}<extra></extra>",
         "hovertext": [
          "Staverse",
          "Yes3 by Lyon protocol ( decentralized request for endorsement/SBTs/tags",
          "ReConnection Tech",
          "APTOS HUB - Ecosystem for Aptos blockchain usability",
          "MeTag",
          "Closing the Gender Gap in Web3",
          "Follow The Black Hare: an open source game to popularize scientific methods among teenagers",
          "Eden Blockchain",
          "Zero Voting : A privacy focused Voting System",
          "Earth API",
          "Realtime contract analysis using Forta Bot",
          "TalenTale––Build your professional tale !",
          "Chainlist",
          "CooperDB (Relational Database Management on IPFS)",
          "Tic Tac Token",
          "Tubby Lending",
          "P3RKS - Rewards For DAO Contributors",
          "BzzWiki - Decentralized Wikipedia",
          "Synchronizing Google Calendar for Discord Events",
          "WeaveDB - Decentralized NoSQL Database on Arweave",
          "Grappa",
          "Global-Chem: A Dictionary of Chemical Names to Molecules",
          "Roloi: Dynamic payments",
          "Malicious Contract Detector",
          "Pasta curves on solidity",
          "Contri",
          "Forta Agent: Contract impersonations Detector",
          "Desci China",
          "Forta Agent: Money Laundering Detector for Umbra Protocol.",
          "Bonsai.so - Patreon for Web3",
          "zk nullifiers: New Cryptography for Sybil-Resistant Anonymity",
          "DeSciWorld - P2P Research Funding; Collectivised Grant",
          "Ethereum Uncensored",
          "Team meeting schedule for Web3",
          "Price of forgery measurement campaign",
          "Soul Wallet",
          "Scriptus, a marketplace for research as collectible art",
          "MyLuksoWallet",
          "ORBIT DeFi",
          "Starksheet: the web3 spreadsheet",
          "Medical Impact DAO to Govern Retroactive Funding of Public Good Medicines",
          "Open Source Medical Prize Fund for Retroactive Funding of Public Good Medicines",
          "Otomee: The Metaverse Hub",
          "Social Layer",
          "Option: Governance for Profitable Good(s)",
          "Internet of Animals: An Open-Source Tracking Community",
          "The Floo Network",
          "Building a Landscape of Voting Contracts",
          "Book Swap",
          "Monsters of Realms",
          "Reunited DAO - Alliviate Pain Worldwide",
          "I Am The Master of My Own Domain & I Carry My Magic With Me - Self-Sovereignty, Self-Determination, & Self-Efficacy to Overcome Domestic Violence",
          "ENS Fairy",
          "Web3MQ - Web3 Messaging Protocol",
          "On-Chain Commercial Licensing for NFTs",
          "【W3.work Metaverse】Connect & Collab in Web3",
          "HERITage Non-Fungible Economy",
          "DeFi Greeks SDK",
          "Ourlog: Multiplayer Thinking for Working Groups",
          "beoble - Pluggable Modular Web3 Social Layer",
          "Shardable Scientific N-Dimensional Arrays on Web3",
          "Willer. Delayed token recovery tool.",
          "Adicia-Metaverse",
          "Wiscle DEI-First Collaboration Network",
          "Active Blockference: an Open Source Package for Cognitive Modeling in Web3",
          "A Decentralized Science Framework by CrunchDAO",
          "Rings Network",
          "DAOLink",
          "TaterDAO brings accurate real estate data on-chain",
          "py-is_ipfs",
          "dDAO Community - 探索去中心治理的小型社会学实验",
          "Contracts bots gang",
          "Perpetuator",
          "The Community Health project",
          "Solarpunk Pfps",
          "staker-notifier",
          "Decentralized Library",
          "Subnet",
          "StarkDeFi - Your Access Portal To Starknet",
          "minipent.xyz : An open-source knowledge framework for Web3 organisations and DAOs",
          "Privacy-centric defi asset allocation and multichain yield optimizer",
          "zkLands - Maths behind ZKPs",
          "SamePage Network",
          "decode.chat",
          "ENSBook.xyz",
          "Signal + ENS",
          "Pink Paper: Decentralized Publishing Platform",
          "TeaParty",
          "EVM from Scratch: A Youtube Tutorial Series",
          "Olandbox",
          "New Atlantis: unlocking ocean biodiversity + blue carbon with DeSci & Web3",
          "WalliD wallet",
          "nfty chat",
          "W3B - Raffle Ticket Open Protocol",
          "Clone.Tools - Open Source 3D Tooling for Creators",
          "Decentralized Monitoring, Reporting and Verification- dMeter",
          "Optimism DAppNode Package",
          "Provable Democracy",
          "Newschain",
          "w3auth - Integrate w3auth for your identity needs",
          "My First NFT",
          "🐸 Habitat Health",
          "Lenstube",
          "web3-scaffold: a starter kit for your next web3 project",
          "ETH-XMR Atomic Swap continued development",
          "Dexode",
          "Buckets - save in cryptos with your goals in mind",
          "zkMachineLearning - an end-to-end platform to bridge Web2 developers into Web3",
          "MetaShield: Protect Your Crypto Assets From Phishing Sites",
          "Meteor Dao - AI art creation platform",
          "Proposal Inverter ( Now, Inverter Network ! )",
          "Grantr.app",
          "Headline",
          "Mintships - Unlockable content for creators",
          "Crypts and Caverns: Speed development of games in the Lootverse",
          "Scambuster! - A web3 anti scam DApp",
          "The Rift + Mana Crystals",
          "Kola - Inspire creativity for web3 music",
          "SoulCard -- Namecard for buidlers",
          "Safient Wallet - Non-custodial claimable wallets",
          "Mail3 - A web3 native communication platform",
          "X-Mob",
          "CrossSync",
          "BlockTracker",
          "beoble",
          "Loot MMO",
          "freeCodeCamp 32 Hour Hardhat, Solidity, & Full Stack Course",
          "SwapChat - Web3 Native Cross-Platform Chat and Trading",
          "Support for Panvala Fellows, the Stewards of the Communities",
          "The Arcade",
          "Praise – Acknowledge community contributions, build a culture of giving and gratitude",
          "TalentLayer: The Interoperability Layer for The Future of Work",
          "SECUR3 - Decentralised 2FA for non-custodial wallets",
          "jokedao",
          "7Energy - Energy Communities without Banks",
          "Shorum - A tool for curators, creators and investors",
          "ChainIDE- A web-based multichain supported developer tooling platform",
          "ethereumpools.info",
          "CryptoIn - SocialFi in a professional way",
          "KuoriciniDAO : slow rating system to coordinate community action",
          "HonestNFT Shenanigan Scanning Tools",
          "go-ethereum (geth)",
          "WTF Academy: Web3 Open-Source University for Web2 devs",
          "MetaMail",
          "Angular-web3-starter",
          "Loanshark",
          "Sweat Equity Management Platform for DAOs",
          "Lodestar: TypeScript Ethereum Consensus Client",
          "MiraDAO",
          "The Proofs, Arguments, and Zero Knowledge Study Group",
          "GoingUP - On-chain professional reputation building platform",
          "A3S Protocol - First Transferable Address for Web3.0",
          "NiceNode:  Run a node — just press start",
          "Ape Maintenance Fund",
          "LunCo: Decentralizing The Lunar Colonization",
          "Akula",
          "HighFy Me",
          "Wisdom Wizards: Decentralized learning",
          "CO2CULT: Offset ETH's carbon footprint",
          "$Earth - Solarpunk Dao",
          "The smol EVM project",
          "DeBooki",
          "Crypto Space Map: simple research - reasonable investments",
          "Essential Eth - The Tiniest JS Library",
          "Synpress - web3-enabled e2e testing tool",
          "ZK Locale - Privacy preserving proof-of-presence",
          "allchains_xyz",
          "plebbit: a serverless, adminless, decentralized Reddit alternative using ENS",
          "ENS.Vision",
          "“Metabolic Mainframe”: The First Hobbyist Bio-Computer",
          "BattleZips V2: Zero Knowledge State Channel Battleship",
          "DAOistry - a researched guide to decentralised collaboration practices",
          "Protocol Guild",
          "Circom - Efficient circuit framework for programmable zero-knowledge",
          "ETH Leaderboard",
          "SD-Cloud",
          "Village Grid DAO",
          "Ecne",
          "A-Frame - Building the open Metaverse",
          "ChainEye - Free and open source omnichain analytics",
          "Proof of Integrity",
          "Osmotic Funding",
          "wagmi: React Hooks library for Ethereum",
          "3D Robot ecosystem and robot",
          "Rust EVM (revm)",
          "Smock",
          "Dark Sea marketplace in Dark Forest",
          "zkRollups.xyz",
          "Moonjelly - High Quality Data to Protect Whales, Restore the Ocean, and Fight Climate Change",
          "Uniswap Calculator (v3)",
          "Kredeum : Decentralized NFTs Factory",
          "Ricardian Fabric",
          "braid.science",
          "SolidarityCard - From competition to collaboration",
          "DEGEN: POAP Distribution Bot",
          "Abundance Protocol: Scaling Public Goods 1000X",
          "Glosseta",
          "Avano [Panvala League]- Decentralized Environmental Offsets (aka Beyond Carbon Credits)",
          "VueDapp",
          "Gravity Conflict management DAO",
          "Samila : Generative Art Generator",
          "Yubiai MarketPlace funding",
          "JanusXR",
          "Samudai – Token Community Management (for Discord)",
          "Impersonator: Log-in to dapps as ANY Address",
          "Bankless Academy",
          "ETHTalk",
          "Defiwrapper",
          "eth-wizard: An Ethereum validator installation wizard",
          "DApp Learning developer group",
          "IsEthereumASecurity.com",
          "DAOrayaki",
          "Ethereum Layer 2  Bankless, Fast and Cheap Payments",
          "Otterscan",
          "DeFi & Web3 Developer Roadmap",
          "FreeDona- a project which allows you to donate for free.",
          "MolochV3 (codename: Baal)",
          "Flashbots Bundle Explorer",
          "🏗  Scaffold-ETH",
          "Zunami Protocol",
          "DAS｜ Decentralized ‍Account ‍Systems",
          "Miga Labs - Eth2 Software Tools and Network Data",
          "Njombe Innovation Academy [Panvala league]",
          "useDApp - rapid DApp developement framework",
          "RatioGang.com",
          "GivethTRACE",
          "ETH2.tax - tax information for stakers",
          "StakeHouse Wagyu tooling suite - Easy to use tools for the Ethereum Staking community",
          "NFTE",
          "Louper - Tool for inspecting Diamond (EIP-2535) smart contracts",
          "Building the DAO Controlled Land Trust",
          "vfat.tools Yield Farming Calculators",
          "Arabs in Blockchain: an open community that gathers all Arabs in blockchain ",
          "Valist",
          "Swivel Finance",
          "zkpay",
          "Tokenlog - Token-weighted backlogs",
          "Ethereum Staking Guides by CoinCashew",
          "DAO Internal Dispute Resolution Open Handbook by LexDAO (Panvala League)",
          "Electric Circus proudly presents Impact Pirates",
          "CryptoStats/CryptoFees.info",
          "Hardhat by Nomic Foundation",
          "EthCC by Ethereum France",
          "DemystiFi security in MetaMask",
          "ethstaker",
          "Prettier Solidity",
          "ClimateDataPool",
          "BBFT Podcast Show - Season2",
          "ETH Gas.watch",
          "🎨 nifty.ink",
          "Frame: Privacy Focused Native Ethereum Wallet",
          "Conviction Voting cadCAD Model Improvements: 1Hive Luna Swarm 🐝",
          "Vyper.fun | CryptoZombies+Ethernaut for Vyper",
          "Snapshot",
          "IntelliJ Solidity",
          "hardhat-deploy and jolly-roger",
          "Sourcify - Source Verification Service + Contract Repository",
          "Ancient Beast 🐺 The eSport ♟️",
          "Umbra:  Privacy Preserving Stealth Payments",
          "A Hitchhiker's Guide to Token Engineering",
          "Giveth.io - Panvala League",
          "Dandelion – ReFi events and gatherings [ReFi Spring/Panvala League]",
          "Commons Stack",
          "Open Source Web3 Icon Set",
          "Locha Mesh: private txs, censorship-resistant dApps, and IPFS over a resilient long-range radio mesh network",
          "Ethereum on ARM",
          "ActivityWatch - The world's best automated time-tracker",
          "zkCREAM: zero-knowledge Confidential Reliable Ethereum Anonymous Mixer",
          "Universal Basic Income — UBI",
          "Commons Simulator: Level Up",
          "beaconcha.in - Open source Eth2 blockchain explorer",
          "Vyper Smart Contract Language",
          "TrueBlocks - Indexing any EVM-Based Chain",
          "Carbon Accounting with Anti-theft + Social (Charity) Tokens and DAO",
          "Mask Network - The Portal to the New, Open Internet. (Legacy)",
          "Rotki - The portfolio tracker and accounting tool that protects your privacy",
          "defiprime.com",
          "Lighthouse: Ethereum Consensus Client",
          "Prysm by Prysmatic Labs",
          "ethers.js - Complete, Simple and Tiny"
         ],
         "legendgroup": "",
         "marker": {
          "color": "#636efa",
          "symbol": "circle"
         },
         "mode": "markers",
         "name": "",
         "orientation": "v",
         "showlegend": false,
         "type": "scatter",
         "x": [
          0.0391,
          0.08922,
          0.0532,
          0.07593,
          0.02077,
          0.20942,
          0.11658,
          0.01915,
          0.19628,
          0.17489,
          0.01915,
          0.02077,
          0.40249,
          0.0811,
          0.09179,
          0.20049,
          0.20194,
          0.06158,
          0.02556,
          0.16783,
          0.18569,
          0.4963,
          0.03582,
          0.01915,
          0.02077,
          0.05316,
          0.01915,
          0.13842,
          0.01915,
          0.06869,
          0.08951,
          0.04298,
          0.07126,
          0.21061,
          0.08457,
          0.19902,
          0.02524,
          0.06885,
          0.27986,
          0.26137,
          0.02773,
          0.02773,
          0.17862,
          0.02077,
          0.02225,
          0.0888,
          0.09353,
          0.10873,
          0.02909,
          0.18541,
          0.02077,
          0.05316,
          0.07281,
          0.06731,
          0.05316,
          0.03992,
          0.07428,
          0.02225,
          0.10163,
          0.23485,
          0.11592,
          0.0642,
          0.03072,
          0.22781,
          0.1679,
          0.23041,
          0.27742,
          0.07738,
          0.17349,
          0.08219,
          0.06655,
          0.06116,
          0.03345,
          0.19951,
          0.03149,
          0.15002,
          0.06436,
          0.04195,
          0.15545,
          0.21202,
          0.11543,
          0.10184,
          0.15637,
          0.01915,
          0.20239,
          0.39355,
          0.02077,
          0.01915,
          0.05106,
          0.0333,
          0.09554,
          0.10088,
          0.04155,
          0.10897,
          0.14028,
          0.09894,
          0.10462,
          0.12011,
          0.06184,
          0.12044,
          0.11225,
          0.14521,
          0.34528,
          0.1881,
          0.30856,
          0.09032,
          0.06878,
          0.03926,
          0.25537,
          0.19871,
          0.15556,
          0.23479,
          0.08963,
          0.10245,
          0.05842,
          0.02225,
          0.01915,
          0.01915,
          0.24866,
          0.17653,
          0.25597,
          0.09385,
          0.25372,
          0.03778,
          0.23485,
          0.18359,
          0.34313,
          0.07849,
          0.22006,
          0.03741,
          0.37718,
          0.04051,
          0.01915,
          0.27034,
          0.08054,
          0.05583,
          0.06436,
          0.17855,
          0.02605,
          0.20075,
          0.2621,
          0.63254,
          0.38724,
          0.15312,
          0.053,
          0.25848,
          0.33222,
          0.53177,
          0.07126,
          0.10856,
          0.01915,
          0.08108,
          0.2607,
          0.49543,
          0.29103,
          0.34659,
          0.09768,
          0.07128,
          0.22128,
          0.03149,
          0.25055,
          0.14962,
          0.06684,
          0.28097,
          0.53177,
          0.06621,
          0.01915,
          0.22167,
          0.38404,
          0.02077,
          0.20518,
          0.07788,
          0.17634,
          0.45239,
          0.17046,
          0.03363,
          0.05885,
          0.05199,
          0.71237,
          0.16859,
          0.07017,
          0.04011,
          0.56667,
          0.01915,
          0.41814,
          0.34259,
          0.06025,
          0.30974,
          0.05316,
          0.1812,
          0.30583,
          0.08611,
          0.06517,
          0.2066,
          0.31355,
          0.16867,
          0.23893,
          0.09763,
          0.30728,
          0.11517,
          0.3325,
          0.24131,
          0.39736,
          0.05316,
          0.20431,
          0.33401,
          0.05593,
          0.29079,
          0.32719,
          0.47424,
          0.06994,
          0.03582,
          0.02242,
          0.33915,
          0.34462,
          0.02495,
          0.35278,
          0.1682,
          0.54756,
          0.26123,
          0.08697,
          0.27557,
          0.06811,
          0.53359,
          0.15644,
          0.42049,
          0.10769,
          0.18789,
          0.10717,
          0.28939,
          0.0994,
          0.56419,
          0.03336,
          0.2493,
          0.09704,
          0.06638,
          0.14695,
          0.38726,
          0.01915,
          0.01915,
          0.26722,
          0.68876,
          0.26516,
          0.09297,
          0.12199,
          0.47411,
          0.09584,
          0.09291,
          0.14502,
          0.25073,
          0.54698,
          0.1301,
          0.18373,
          0.58489,
          0.41331,
          0.52368,
          0.47299,
          0.61432,
          0.40793,
          0.10786,
          0.16325,
          0.1337,
          0.19712,
          0.13097,
          0.17637,
          0.38286,
          0.52373,
          0.18718,
          0.27082,
          0.14327,
          0.47972,
          0.57199,
          0.54609,
          0.09823,
          0.6144,
          0.59908,
          0.38427,
          0.63438,
          0.71359,
          0.57503
         ],
         "xaxis": "x",
         "y": [
          5,
          7,
          5,
          9,
          8,
          1,
          48,
          1,
          14,
          1,
          11,
          7,
          484,
          1,
          5,
          1,
          22,
          5,
          1,
          14,
          80,
          1,
          15,
          198,
          9,
          67,
          247,
          2,
          202,
          3,
          452,
          107,
          29,
          9,
          6,
          414,
          14,
          14,
          1,
          524,
          252,
          126,
          31,
          99,
          4,
          78,
          8,
          1519,
          2,
          106,
          7,
          184,
          71,
          519,
          18,
          348,
          8,
          3,
          464,
          6,
          1,
          2,
          1,
          11,
          213,
          28,
          8,
          27,
          130,
          8,
          118,
          298,
          2,
          22,
          1,
          8,
          6,
          281,
          16125,
          897,
          7,
          463,
          8,
          2,
          18,
          295,
          7,
          1219,
          2,
          10,
          550,
          12,
          1011,
          9,
          2,
          254,
          447,
          3,
          7,
          1,
          122,
          16,
          8184,
          12,
          1,
          3,
          198,
          19,
          47,
          1,
          54,
          39,
          20,
          13,
          159,
          7,
          76,
          29,
          25,
          7,
          9247,
          36,
          215,
          24,
          14,
          132,
          24,
          725,
          19,
          9,
          42,
          4,
          6,
          43,
          10,
          17,
          145,
          10,
          27,
          42,
          40,
          838,
          1056,
          15167,
          7,
          5464,
          21,
          504,
          18,
          689,
          1058,
          2725,
          1824,
          439,
          142,
          730,
          119,
          2,
          475,
          218,
          243,
          734,
          1630,
          89,
          21,
          1393,
          92,
          15,
          1721,
          33,
          136,
          51,
          5855,
          2388,
          4816,
          2,
          41,
          193,
          8,
          12115,
          4538,
          13,
          2023,
          7,
          8,
          3,
          1862,
          49574,
          734,
          375,
          5305,
          20,
          33,
          64,
          41,
          66,
          18,
          2418,
          18,
          142,
          8,
          73,
          31,
          41,
          2935,
          6780,
          105,
          5633,
          1254,
          3984,
          17,
          7877,
          32,
          7731,
          1139,
          81,
          3067,
          1188,
          8208,
          10127,
          42,
          588,
          140,
          244,
          1674,
          287,
          50,
          6169,
          3187,
          350,
          3236,
          11537,
          163,
          47,
          7205,
          6235,
          173,
          3022,
          152,
          242,
          6153,
          15904,
          697,
          326,
          14453,
          997,
          20,
          3,
          1574,
          12848,
          21294,
          802,
          1024,
          9441,
          526,
          8334,
          1017,
          727,
          54177,
          1104,
          9770,
          194,
          9753,
          937,
          38,
          11959,
          109,
          14413,
          3092,
          4632,
          17779,
          3968,
          7470,
          122,
          3585,
          32580,
          5337,
          26858,
          24462,
          23434
         ],
         "yaxis": "y"
        }
       ],
       "layout": {
        "legend": {
         "tracegroupgap": 0
        },
        "margin": {
         "t": 60
        },
        "template": {
         "data": {
          "bar": [
           {
            "error_x": {
             "color": "#2a3f5f"
            },
            "error_y": {
             "color": "#2a3f5f"
            },
            "marker": {
             "line": {
              "color": "#E5ECF6",
              "width": 0.5
             },
             "pattern": {
              "fillmode": "overlay",
              "size": 10,
              "solidity": 0.2
             }
            },
            "type": "bar"
           }
          ],
          "barpolar": [
           {
            "marker": {
             "line": {
              "color": "#E5ECF6",
              "width": 0.5
             },
             "pattern": {
              "fillmode": "overlay",
              "size": 10,
              "solidity": 0.2
             }
            },
            "type": "barpolar"
           }
          ],
          "carpet": [
           {
            "aaxis": {
             "endlinecolor": "#2a3f5f",
             "gridcolor": "white",
             "linecolor": "white",
             "minorgridcolor": "white",
             "startlinecolor": "#2a3f5f"
            },
            "baxis": {
             "endlinecolor": "#2a3f5f",
             "gridcolor": "white",
             "linecolor": "white",
             "minorgridcolor": "white",
             "startlinecolor": "#2a3f5f"
            },
            "type": "carpet"
           }
          ],
          "choropleth": [
           {
            "colorbar": {
             "outlinewidth": 0,
             "ticks": ""
            },
            "type": "choropleth"
           }
          ],
          "contour": [
           {
            "colorbar": {
             "outlinewidth": 0,
             "ticks": ""
            },
            "colorscale": [
             [
              0,
              "#0d0887"
             ],
             [
              0.1111111111111111,
              "#46039f"
             ],
             [
              0.2222222222222222,
              "#7201a8"
             ],
             [
              0.3333333333333333,
              "#9c179e"
             ],
             [
              0.4444444444444444,
              "#bd3786"
             ],
             [
              0.5555555555555556,
              "#d8576b"
             ],
             [
              0.6666666666666666,
              "#ed7953"
             ],
             [
              0.7777777777777778,
              "#fb9f3a"
             ],
             [
              0.8888888888888888,
              "#fdca26"
             ],
             [
              1,
              "#f0f921"
             ]
            ],
            "type": "contour"
           }
          ],
          "contourcarpet": [
           {
            "colorbar": {
             "outlinewidth": 0,
             "ticks": ""
            },
            "type": "contourcarpet"
           }
          ],
          "heatmap": [
           {
            "colorbar": {
             "outlinewidth": 0,
             "ticks": ""
            },
            "colorscale": [
             [
              0,
              "#0d0887"
             ],
             [
              0.1111111111111111,
              "#46039f"
             ],
             [
              0.2222222222222222,
              "#7201a8"
             ],
             [
              0.3333333333333333,
              "#9c179e"
             ],
             [
              0.4444444444444444,
              "#bd3786"
             ],
             [
              0.5555555555555556,
              "#d8576b"
             ],
             [
              0.6666666666666666,
              "#ed7953"
             ],
             [
              0.7777777777777778,
              "#fb9f3a"
             ],
             [
              0.8888888888888888,
              "#fdca26"
             ],
             [
              1,
              "#f0f921"
             ]
            ],
            "type": "heatmap"
           }
          ],
          "heatmapgl": [
           {
            "colorbar": {
             "outlinewidth": 0,
             "ticks": ""
            },
            "colorscale": [
             [
              0,
              "#0d0887"
             ],
             [
              0.1111111111111111,
              "#46039f"
             ],
             [
              0.2222222222222222,
              "#7201a8"
             ],
             [
              0.3333333333333333,
              "#9c179e"
             ],
             [
              0.4444444444444444,
              "#bd3786"
             ],
             [
              0.5555555555555556,
              "#d8576b"
             ],
             [
              0.6666666666666666,
              "#ed7953"
             ],
             [
              0.7777777777777778,
              "#fb9f3a"
             ],
             [
              0.8888888888888888,
              "#fdca26"
             ],
             [
              1,
              "#f0f921"
             ]
            ],
            "type": "heatmapgl"
           }
          ],
          "histogram": [
           {
            "marker": {
             "pattern": {
              "fillmode": "overlay",
              "size": 10,
              "solidity": 0.2
             }
            },
            "type": "histogram"
           }
          ],
          "histogram2d": [
           {
            "colorbar": {
             "outlinewidth": 0,
             "ticks": ""
            },
            "colorscale": [
             [
              0,
              "#0d0887"
             ],
             [
              0.1111111111111111,
              "#46039f"
             ],
             [
              0.2222222222222222,
              "#7201a8"
             ],
             [
              0.3333333333333333,
              "#9c179e"
             ],
             [
              0.4444444444444444,
              "#bd3786"
             ],
             [
              0.5555555555555556,
              "#d8576b"
             ],
             [
              0.6666666666666666,
              "#ed7953"
             ],
             [
              0.7777777777777778,
              "#fb9f3a"
             ],
             [
              0.8888888888888888,
              "#fdca26"
             ],
             [
              1,
              "#f0f921"
             ]
            ],
            "type": "histogram2d"
           }
          ],
          "histogram2dcontour": [
           {
            "colorbar": {
             "outlinewidth": 0,
             "ticks": ""
            },
            "colorscale": [
             [
              0,
              "#0d0887"
             ],
             [
              0.1111111111111111,
              "#46039f"
             ],
             [
              0.2222222222222222,
              "#7201a8"
             ],
             [
              0.3333333333333333,
              "#9c179e"
             ],
             [
              0.4444444444444444,
              "#bd3786"
             ],
             [
              0.5555555555555556,
              "#d8576b"
             ],
             [
              0.6666666666666666,
              "#ed7953"
             ],
             [
              0.7777777777777778,
              "#fb9f3a"
             ],
             [
              0.8888888888888888,
              "#fdca26"
             ],
             [
              1,
              "#f0f921"
             ]
            ],
            "type": "histogram2dcontour"
           }
          ],
          "mesh3d": [
           {
            "colorbar": {
             "outlinewidth": 0,
             "ticks": ""
            },
            "type": "mesh3d"
           }
          ],
          "parcoords": [
           {
            "line": {
             "colorbar": {
              "outlinewidth": 0,
              "ticks": ""
             }
            },
            "type": "parcoords"
           }
          ],
          "pie": [
           {
            "automargin": true,
            "type": "pie"
           }
          ],
          "scatter": [
           {
            "fillpattern": {
             "fillmode": "overlay",
             "size": 10,
             "solidity": 0.2
            },
            "type": "scatter"
           }
          ],
          "scatter3d": [
           {
            "line": {
             "colorbar": {
              "outlinewidth": 0,
              "ticks": ""
             }
            },
            "marker": {
             "colorbar": {
              "outlinewidth": 0,
              "ticks": ""
             }
            },
            "type": "scatter3d"
           }
          ],
          "scattercarpet": [
           {
            "marker": {
             "colorbar": {
              "outlinewidth": 0,
              "ticks": ""
             }
            },
            "type": "scattercarpet"
           }
          ],
          "scattergeo": [
           {
            "marker": {
             "colorbar": {
              "outlinewidth": 0,
              "ticks": ""
             }
            },
            "type": "scattergeo"
           }
          ],
          "scattergl": [
           {
            "marker": {
             "colorbar": {
              "outlinewidth": 0,
              "ticks": ""
             }
            },
            "type": "scattergl"
           }
          ],
          "scattermapbox": [
           {
            "marker": {
             "colorbar": {
              "outlinewidth": 0,
              "ticks": ""
             }
            },
            "type": "scattermapbox"
           }
          ],
          "scatterpolar": [
           {
            "marker": {
             "colorbar": {
              "outlinewidth": 0,
              "ticks": ""
             }
            },
            "type": "scatterpolar"
           }
          ],
          "scatterpolargl": [
           {
            "marker": {
             "colorbar": {
              "outlinewidth": 0,
              "ticks": ""
             }
            },
            "type": "scatterpolargl"
           }
          ],
          "scatterternary": [
           {
            "marker": {
             "colorbar": {
              "outlinewidth": 0,
              "ticks": ""
             }
            },
            "type": "scatterternary"
           }
          ],
          "surface": [
           {
            "colorbar": {
             "outlinewidth": 0,
             "ticks": ""
            },
            "colorscale": [
             [
              0,
              "#0d0887"
             ],
             [
              0.1111111111111111,
              "#46039f"
             ],
             [
              0.2222222222222222,
              "#7201a8"
             ],
             [
              0.3333333333333333,
              "#9c179e"
             ],
             [
              0.4444444444444444,
              "#bd3786"
             ],
             [
              0.5555555555555556,
              "#d8576b"
             ],
             [
              0.6666666666666666,
              "#ed7953"
             ],
             [
              0.7777777777777778,
              "#fb9f3a"
             ],
             [
              0.8888888888888888,
              "#fdca26"
             ],
             [
              1,
              "#f0f921"
             ]
            ],
            "type": "surface"
           }
          ],
          "table": [
           {
            "cells": {
             "fill": {
              "color": "#EBF0F8"
             },
             "line": {
              "color": "white"
             }
            },
            "header": {
             "fill": {
              "color": "#C8D4E3"
             },
             "line": {
              "color": "white"
             }
            },
            "type": "table"
           }
          ]
         },
         "layout": {
          "annotationdefaults": {
           "arrowcolor": "#2a3f5f",
           "arrowhead": 0,
           "arrowwidth": 1
          },
          "autotypenumbers": "strict",
          "coloraxis": {
           "colorbar": {
            "outlinewidth": 0,
            "ticks": ""
           }
          },
          "colorscale": {
           "diverging": [
            [
             0,
             "#8e0152"
            ],
            [
             0.1,
             "#c51b7d"
            ],
            [
             0.2,
             "#de77ae"
            ],
            [
             0.3,
             "#f1b6da"
            ],
            [
             0.4,
             "#fde0ef"
            ],
            [
             0.5,
             "#f7f7f7"
            ],
            [
             0.6,
             "#e6f5d0"
            ],
            [
             0.7,
             "#b8e186"
            ],
            [
             0.8,
             "#7fbc41"
            ],
            [
             0.9,
             "#4d9221"
            ],
            [
             1,
             "#276419"
            ]
           ],
           "sequential": [
            [
             0,
             "#0d0887"
            ],
            [
             0.1111111111111111,
             "#46039f"
            ],
            [
             0.2222222222222222,
             "#7201a8"
            ],
            [
             0.3333333333333333,
             "#9c179e"
            ],
            [
             0.4444444444444444,
             "#bd3786"
            ],
            [
             0.5555555555555556,
             "#d8576b"
            ],
            [
             0.6666666666666666,
             "#ed7953"
            ],
            [
             0.7777777777777778,
             "#fb9f3a"
            ],
            [
             0.8888888888888888,
             "#fdca26"
            ],
            [
             1,
             "#f0f921"
            ]
           ],
           "sequentialminus": [
            [
             0,
             "#0d0887"
            ],
            [
             0.1111111111111111,
             "#46039f"
            ],
            [
             0.2222222222222222,
             "#7201a8"
            ],
            [
             0.3333333333333333,
             "#9c179e"
            ],
            [
             0.4444444444444444,
             "#bd3786"
            ],
            [
             0.5555555555555556,
             "#d8576b"
            ],
            [
             0.6666666666666666,
             "#ed7953"
            ],
            [
             0.7777777777777778,
             "#fb9f3a"
            ],
            [
             0.8888888888888888,
             "#fdca26"
            ],
            [
             1,
             "#f0f921"
            ]
           ]
          },
          "colorway": [
           "#636efa",
           "#EF553B",
           "#00cc96",
           "#ab63fa",
           "#FFA15A",
           "#19d3f3",
           "#FF6692",
           "#B6E880",
           "#FF97FF",
           "#FECB52"
          ],
          "font": {
           "color": "#2a3f5f"
          },
          "geo": {
           "bgcolor": "white",
           "lakecolor": "white",
           "landcolor": "#E5ECF6",
           "showlakes": true,
           "showland": true,
           "subunitcolor": "white"
          },
          "hoverlabel": {
           "align": "left"
          },
          "hovermode": "closest",
          "mapbox": {
           "style": "light"
          },
          "paper_bgcolor": "white",
          "plot_bgcolor": "#E5ECF6",
          "polar": {
           "angularaxis": {
            "gridcolor": "white",
            "linecolor": "white",
            "ticks": ""
           },
           "bgcolor": "#E5ECF6",
           "radialaxis": {
            "gridcolor": "white",
            "linecolor": "white",
            "ticks": ""
           }
          },
          "scene": {
           "xaxis": {
            "backgroundcolor": "#E5ECF6",
            "gridcolor": "white",
            "gridwidth": 2,
            "linecolor": "white",
            "showbackground": true,
            "ticks": "",
            "zerolinecolor": "white"
           },
           "yaxis": {
            "backgroundcolor": "#E5ECF6",
            "gridcolor": "white",
            "gridwidth": 2,
            "linecolor": "white",
            "showbackground": true,
            "ticks": "",
            "zerolinecolor": "white"
           },
           "zaxis": {
            "backgroundcolor": "#E5ECF6",
            "gridcolor": "white",
            "gridwidth": 2,
            "linecolor": "white",
            "showbackground": true,
            "ticks": "",
            "zerolinecolor": "white"
           }
          },
          "shapedefaults": {
           "line": {
            "color": "#2a3f5f"
           }
          },
          "ternary": {
           "aaxis": {
            "gridcolor": "white",
            "linecolor": "white",
            "ticks": ""
           },
           "baxis": {
            "gridcolor": "white",
            "linecolor": "white",
            "ticks": ""
           },
           "bgcolor": "#E5ECF6",
           "caxis": {
            "gridcolor": "white",
            "linecolor": "white",
            "ticks": ""
           }
          },
          "title": {
           "x": 0.05
          },
          "xaxis": {
           "automargin": true,
           "gridcolor": "white",
           "linecolor": "white",
           "ticks": "",
           "title": {
            "standoff": 15
           },
           "zerolinecolor": "white",
           "zerolinewidth": 2
          },
          "yaxis": {
           "automargin": true,
           "gridcolor": "white",
           "linecolor": "white",
           "ticks": "",
           "title": {
            "standoff": 15
           },
           "zerolinecolor": "white",
           "zerolinewidth": 2
          }
         }
        },
        "xaxis": {
         "anchor": "y",
         "domain": [
          0,
          1
         ],
         "title": {
          "text": "score"
         }
        },
        "yaxis": {
         "anchor": "x",
         "domain": [
          0,
          1
         ],
         "title": {
          "text": "contribution_count"
         }
        }
       }
      }
     },
     "metadata": {},
     "output_type": "display_data"
    }
   ],
   "source": [
    "# fig = px.scatter(merged, x='score', y='amount_received')\n",
    "fig = px.scatter(merged, x='score', y='contribution_count', hover_name='title', )\n",
    "# fig = px.scatter(merged, x='score', y='contributor_count')\n",
    "fig.show()"
   ]
  },
  {
   "cell_type": "code",
   "execution_count": 28,
   "metadata": {},
   "outputs": [
    {
     "data": {
      "text/html": [
       "<div>\n",
       "<style scoped>\n",
       "    .dataframe tbody tr th:only-of-type {\n",
       "        vertical-align: middle;\n",
       "    }\n",
       "\n",
       "    .dataframe tbody tr th {\n",
       "        vertical-align: top;\n",
       "    }\n",
       "\n",
       "    .dataframe thead th {\n",
       "        text-align: right;\n",
       "    }\n",
       "</style>\n",
       "<table border=\"1\" class=\"dataframe\">\n",
       "  <thead>\n",
       "    <tr style=\"text-align: right;\">\n",
       "      <th></th>\n",
       "      <th>score</th>\n",
       "      <th>amount_received</th>\n",
       "      <th>amount_received_in_round</th>\n",
       "    </tr>\n",
       "  </thead>\n",
       "  <tbody>\n",
       "    <tr>\n",
       "      <th>grant_id</th>\n",
       "      <td>-0.463501</td>\n",
       "      <td>-0.486879</td>\n",
       "      <td>-0.032500</td>\n",
       "    </tr>\n",
       "    <tr>\n",
       "      <th>returncode</th>\n",
       "      <td>NaN</td>\n",
       "      <td>NaN</td>\n",
       "      <td>NaN</td>\n",
       "    </tr>\n",
       "    <tr>\n",
       "      <th>score</th>\n",
       "      <td>1.000000</td>\n",
       "      <td>0.490741</td>\n",
       "      <td>0.165558</td>\n",
       "    </tr>\n",
       "    <tr>\n",
       "      <th>active</th>\n",
       "      <td>-0.090465</td>\n",
       "      <td>-0.073755</td>\n",
       "      <td>-0.177106</td>\n",
       "    </tr>\n",
       "    <tr>\n",
       "      <th>amount_received</th>\n",
       "      <td>0.490741</td>\n",
       "      <td>1.000000</td>\n",
       "      <td>0.304661</td>\n",
       "    </tr>\n",
       "    <tr>\n",
       "      <th>amount_received_in_round</th>\n",
       "      <td>0.165558</td>\n",
       "      <td>0.304661</td>\n",
       "      <td>1.000000</td>\n",
       "    </tr>\n",
       "    <tr>\n",
       "      <th>contribution_count</th>\n",
       "      <td>0.404410</td>\n",
       "      <td>0.871432</td>\n",
       "      <td>0.492107</td>\n",
       "    </tr>\n",
       "    <tr>\n",
       "      <th>contributor_count</th>\n",
       "      <td>0.413471</td>\n",
       "      <td>0.861088</td>\n",
       "      <td>0.525478</td>\n",
       "    </tr>\n",
       "    <tr>\n",
       "      <th>twitter_verified</th>\n",
       "      <td>0.028838</td>\n",
       "      <td>0.114160</td>\n",
       "      <td>0.097057</td>\n",
       "    </tr>\n",
       "  </tbody>\n",
       "</table>\n",
       "</div>"
      ],
      "text/plain": [
       "                             score  amount_received  amount_received_in_round\n",
       "grant_id                 -0.463501        -0.486879                 -0.032500\n",
       "returncode                     NaN              NaN                       NaN\n",
       "score                     1.000000         0.490741                  0.165558\n",
       "active                   -0.090465        -0.073755                 -0.177106\n",
       "amount_received           0.490741         1.000000                  0.304661\n",
       "amount_received_in_round  0.165558         0.304661                  1.000000\n",
       "contribution_count        0.404410         0.871432                  0.492107\n",
       "contributor_count         0.413471         0.861088                  0.525478\n",
       "twitter_verified          0.028838         0.114160                  0.097057"
      ]
     },
     "execution_count": 28,
     "metadata": {},
     "output_type": "execute_result"
    }
   ],
   "source": [
    "merged.corr()[['score', 'amount_received', 'amount_received_in_round']]"
   ]
  },
  {
   "cell_type": "code",
   "execution_count": 30,
   "metadata": {},
   "outputs": [
    {
     "data": {
      "application/vnd.plotly.v1+json": {
       "config": {
        "plotlyServerURL": "https://plot.ly"
       },
       "data": [
        {
         "coloraxis": "coloraxis",
         "hovertemplate": "x: %{x}<br>y: %{y}<br>color: %{z}<extra></extra>",
         "name": "0",
         "type": "heatmap",
         "x": [
          "score",
          "amount_received",
          "amount_received_in_round"
         ],
         "xaxis": "x",
         "y": [
          0,
          1,
          2,
          3,
          4,
          5,
          6,
          7,
          8,
          9,
          10,
          11,
          12,
          13,
          14,
          15,
          16,
          17,
          18,
          19,
          20,
          21,
          22,
          23,
          24,
          25,
          26,
          27,
          28,
          29,
          30,
          31,
          32,
          33,
          34,
          35,
          36,
          37,
          38,
          39,
          40,
          41,
          42,
          43,
          44,
          45,
          46,
          47,
          48,
          49,
          50,
          51,
          52,
          53,
          54,
          55,
          56,
          57,
          58,
          59,
          60,
          61,
          62,
          63,
          64,
          65,
          66,
          67,
          68,
          69,
          70,
          71,
          72,
          73,
          74,
          75,
          76,
          77,
          78,
          79,
          80,
          81,
          82,
          83,
          84,
          85,
          86,
          87,
          88,
          89,
          90,
          91,
          92,
          93,
          94,
          95,
          96,
          97,
          98,
          99,
          100,
          101,
          102,
          103,
          104,
          105,
          106,
          107,
          108,
          109,
          110,
          111,
          112,
          113,
          114,
          115,
          116,
          117,
          118,
          119,
          120,
          121,
          122,
          123,
          124,
          125,
          126,
          127,
          128,
          129,
          130,
          131,
          132,
          133,
          134,
          135,
          136,
          137,
          138,
          139,
          140,
          141,
          142,
          143,
          144,
          145,
          146,
          147,
          148,
          149,
          150,
          151,
          152,
          153,
          154,
          155,
          156,
          157,
          158,
          159,
          160,
          161,
          162,
          163,
          164,
          165,
          166,
          167,
          168,
          169,
          170,
          171,
          172,
          173,
          174,
          175,
          176,
          177,
          178,
          179,
          180,
          181,
          182,
          183,
          184,
          185,
          186,
          187,
          188,
          189,
          190,
          191,
          192,
          193,
          194,
          195,
          196,
          197,
          198,
          199,
          200,
          201,
          202,
          203,
          204,
          205,
          206,
          207,
          208,
          209,
          210,
          211,
          212,
          213,
          214,
          215,
          216,
          217,
          218,
          219,
          220,
          221,
          222,
          223,
          224,
          225,
          226,
          227,
          228,
          229,
          230,
          231,
          232,
          233,
          234,
          235,
          236,
          237,
          238,
          239,
          240,
          241,
          242,
          243,
          244,
          245,
          246,
          247,
          248,
          249,
          250,
          251,
          252,
          253,
          254,
          255,
          256,
          257,
          258,
          259,
          260,
          261,
          262,
          263,
          264,
          265,
          266,
          267,
          268,
          269,
          270,
          271,
          272,
          273,
          274,
          275,
          276,
          277,
          278,
          279
         ],
         "yaxis": "y",
         "z": [
          [
           0.0391,
           5.2943,
           5.2943
          ],
          [
           0.08922,
           306.4585,
           306.4585
          ],
          [
           0.0532,
           5.0919,
           5.0919
          ],
          [
           0.07593,
           15.3044,
           15.3044
          ],
          [
           0.02077,
           12.9233,
           12.9233
          ],
          [
           0.20942,
           3,
           3
          ],
          [
           0.11658,
           374.2607,
           374.2607
          ],
          [
           0.01915,
           1,
           1
          ],
          [
           0.19628,
           87.0492,
           87.0492
          ],
          [
           0.17489,
           13.1993,
           13.1993
          ],
          [
           0.01915,
           12.436,
           12.436
          ],
          [
           0.02077,
           112.3,
           112.3
          ],
          [
           0.40249,
           1060.723,
           1060.723
          ],
          [
           0.0811,
           2,
           2
          ],
          [
           0.09179,
           169.3337,
           169.3337
          ],
          [
           0.20049,
           1,
           1
          ],
          [
           0.20194,
           373.0836,
           373.0836
          ],
          [
           0.06158,
           691.7431,
           691.7431
          ],
          [
           0.02556,
           1,
           1
          ],
          [
           0.16783,
           89.3071,
           89.3071
          ],
          [
           0.18569,
           343.5193,
           343.5193
          ],
          [
           0.4963,
           1.4281,
           1.4281
          ],
          [
           0.03582,
           35.1638,
           35.1638
          ],
          [
           0.01915,
           111.1234,
           111.1234
          ],
          [
           0.02077,
           333.8085,
           333.8085
          ],
          [
           0.05316,
           198.2951,
           198.2951
          ],
          [
           0.01915,
           234.1474,
           234.1474
          ],
          [
           0.13842,
           1010,
           1010
          ],
          [
           0.01915,
           66.3456,
           66.3456
          ],
          [
           0.06869,
           7.5008,
           7.5008
          ],
          [
           0.08951,
           1761.7448,
           1761.7448
          ],
          [
           0.04298,
           627.1058,
           627.1058
          ],
          [
           0.07126,
           188.5026,
           188.5026
          ],
          [
           0.21061,
           135.9112,
           135.9112
          ],
          [
           0.08457,
           31.6766,
           31.6766
          ],
          [
           0.19902,
           1108.4667,
           1108.4667
          ],
          [
           0.02524,
           35.4944,
           35.4944
          ],
          [
           0.06885,
           16.0512,
           16.0512
          ],
          [
           0.27986,
           3.6645,
           3.6645
          ],
          [
           0.26137,
           1232.5648,
           1232.5648
          ],
          [
           0.02773,
           2396.9494,
           2396.9494
          ],
          [
           0.02773,
           592.7385,
           592.7385
          ],
          [
           0.17862,
           107.6058,
           107.6058
          ],
          [
           0.02077,
           128.8777,
           128.8777
          ],
          [
           0.02225,
           64.9906,
           64.9906
          ],
          [
           0.0888,
           247.3499,
           247.3499
          ],
          [
           0.09353,
           16.7941,
           16.7941
          ],
          [
           0.10873,
           2255.1655,
           2255.1655
          ],
          [
           0.02909,
           4.1329,
           4.1329
          ],
          [
           0.18541,
           612.0122,
           612.0122
          ],
          [
           0.02077,
           41.5868,
           41.5868
          ],
          [
           0.05316,
           1100.92,
           1093.081
          ],
          [
           0.07281,
           718.7742,
           718.7742
          ],
          [
           0.06731,
           1004.6552,
           999.7452
          ],
          [
           0.05316,
           257.3035,
           257.3035
          ],
          [
           0.03992,
           1195.6371,
           1195.6371
          ],
          [
           0.07428,
           339.3695,
           339.3695
          ],
          [
           0.02225,
           29.1429,
           28.1329
          ],
          [
           0.10163,
           2539.7043,
           2539.7043
          ],
          [
           0.23485,
           30.5787,
           30.5787
          ],
          [
           0.11592,
           2,
           2
          ],
          [
           0.0642,
           13.1329,
           13.1329
          ],
          [
           0.03072,
           1,
           1
          ],
          [
           0.22781,
           70.0603,
           70.0603
          ],
          [
           0.1679,
           2376.9268,
           2375.9268
          ],
          [
           0.23041,
           105.1114,
           105.1114
          ],
          [
           0.27742,
           1960.5,
           1959.5
          ],
          [
           0.07738,
           459.8712,
           458.3021
          ],
          [
           0.17349,
           1037.1698,
           1037.1698
          ],
          [
           0.08219,
           68.7687,
           68.7687
          ],
          [
           0.06655,
           166.8817,
           164.3017
          ],
          [
           0.06116,
           275.3063,
           275.3063
          ],
          [
           0.03345,
           6.3199,
           3.1329
          ],
          [
           0.19951,
           906.0687,
           906.0687
          ],
          [
           0.03149,
           1,
           1
          ],
          [
           0.15002,
           31.7044,
           31.7044
          ],
          [
           0.06436,
           669.9797,
           668.9749
          ],
          [
           0.04195,
           2058.9958,
           2058.9958
          ],
          [
           0.15545,
           36729.9362,
           36654.9438
          ],
          [
           0.21202,
           7153.0903,
           7153.0903
          ],
          [
           0.11543,
           11.3538,
           10.2301
          ],
          [
           0.10184,
           1618.9639,
           1429.8458
          ],
          [
           0.15637,
           16.2495,
           15.248
          ],
          [
           0.01915,
           2.457,
           2.457
          ],
          [
           0.20239,
           119.719,
           118.7165
          ],
          [
           0.39355,
           1341.7127,
           1341.7127
          ],
          [
           0.02077,
           19.8553,
           17.853
          ],
          [
           0.01915,
           1484.1558,
           1484.1558
          ],
          [
           0.05106,
           26.0009,
           25
          ],
          [
           0.0333,
           73.634,
           70.5908
          ],
          [
           0.09554,
           3686.0025,
           3661.0025
          ],
          [
           0.10088,
           35.4305,
           32.7445
          ],
          [
           0.04155,
           2232.8347,
           2201.8339
          ],
          [
           0.10897,
           12.476,
           11.4751
          ],
          [
           0.14028,
           2.0009,
           1
          ],
          [
           0.09894,
           923.0426,
           922.0412
          ],
          [
           0.10462,
           1257.681,
           1253.7892
          ],
          [
           0.12011,
           65.0925,
           65.0925
          ],
          [
           0.06184,
           16.1989,
           15.1974
          ],
          [
           0.12044,
           1.1,
           1.1
          ],
          [
           0.11225,
           331.9644,
           306.9644
          ],
          [
           0.14521,
           152.2733,
           152.2733
          ],
          [
           0.34528,
           14643.3105,
           14616.5937
          ],
          [
           0.1881,
           174.2664,
           174.2664
          ],
          [
           0.30856,
           5,
           5
          ],
          [
           0.09032,
           4.6491,
           2.6491
          ],
          [
           0.06878,
           325.0754,
           325.0754
          ],
          [
           0.03926,
           74.2837,
           74.2837
          ],
          [
           0.25537,
           268.6559,
           259.5175
          ],
          [
           0.19871,
           1.0295,
           1.0295
          ],
          [
           0.15556,
           1402.9982,
           266.604
          ],
          [
           0.23479,
           603.909,
           48.3181
          ],
          [
           0.08963,
           610.8244,
           8.2636
          ],
          [
           0.10245,
           47.9104,
           32.1002
          ],
          [
           0.05842,
           968.1617,
           537.074
          ],
          [
           0.02225,
           8.2064,
           3.0001
          ],
          [
           0.01915,
           419.5984,
           161.4509
          ],
          [
           0.01915,
           59.5709,
           8.2632
          ],
          [
           0.24866,
           38.4715,
           8.4751
          ],
          [
           0.17653,
           12.7367,
           2.6491
          ],
          [
           0.25597,
           15765.0618,
           15426.7656
          ],
          [
           0.09385,
           241.0564,
           44.1773
          ],
          [
           0.25372,
           489.7809,
           289.9894
          ],
          [
           0.03778,
           107.0553,
           21.3281
          ],
          [
           0.23485,
           19.9315,
           1.0001
          ],
          [
           0.18359,
           2036.3158,
           473.0406
          ],
          [
           0.34313,
           240.3045,
           8.2129
          ],
          [
           0.07849,
           4941.1508,
           64.7386
          ],
          [
           0.22006,
           148.2459,
           24.013
          ],
          [
           0.03741,
           21.091,
           2.1981
          ],
          [
           0.37718,
           303.3683,
           166.84
          ],
          [
           0.04051,
           19.726,
           19.726
          ],
          [
           0.01915,
           31.149,
           2
          ],
          [
           0.27034,
           195.2594,
           9.0765
          ],
          [
           0.08054,
           21.4328,
           9.2328
          ],
          [
           0.05583,
           55.7287,
           1.0001
          ],
          [
           0.06436,
           3178.0822,
           1
          ],
          [
           0.17855,
           735.8493,
           682.5862
          ],
          [
           0.02605,
           60.3208,
           6.0613
          ],
          [
           0.20075,
           293.7729,
           89.1588
          ],
          [
           0.2621,
           449.6899,
           30
          ],
          [
           0.63254,
           8660.9008,
           306.2237
          ],
          [
           0.38724,
           2529.3466,
           725.3646
          ],
          [
           0.15312,
           30587.461,
           19503.0063
          ],
          [
           0.053,
           6.5456,
           2.05
          ],
          [
           0.25848,
           12812.9788,
           8886.3461
          ],
          [
           0.33222,
           295.0654,
           35.8887
          ],
          [
           0.53177,
           3605.1655,
           2221.3042
          ],
          [
           0.07126,
           27.9649,
           6.3265
          ],
          [
           0.10856,
           2136.9302,
           169.266
          ],
          [
           0.01915,
           1604.9025,
           18.1128
          ],
          [
           0.08108,
           4980.6818,
           2498.7302
          ],
          [
           0.2607,
           6443.6223,
           1318.4909
          ],
          [
           0.49543,
           2156.7924,
           319.3685
          ],
          [
           0.29103,
           981.9255,
           925.1386
          ],
          [
           0.34659,
           7292.0628,
           1713.531
          ],
          [
           0.09768,
           326.1799,
           6.6522
          ],
          [
           0.07128,
           2.1477,
           1
          ],
          [
           0.22128,
           3228.6971,
           894.0909
          ],
          [
           0.03149,
           2636.312,
           2410.0857
          ],
          [
           0.25055,
           2437.3982,
           764.4031
          ],
          [
           0.14962,
           1225.2855,
           35.0991
          ],
          [
           0.06684,
           5763.9585,
           27.5942
          ],
          [
           0.28097,
           828.3518,
           19.4751
          ],
          [
           0.53177,
           330.5421,
           284.9922
          ],
          [
           0.06621,
           4742.0762,
           708.7421
          ],
          [
           0.01915,
           231.1343,
           1.0605
          ],
          [
           0.22167,
           5049.0576,
           1270.0303
          ],
          [
           0.38404,
           4356.0025,
           1294.8419
          ],
          [
           0.02077,
           345.8912,
           56.3533
          ],
          [
           0.20518,
           448.2513,
           43.4887
          ],
          [
           0.07788,
           171.095,
           1.0677
          ],
          [
           0.17634,
           40655.6253,
           4257.7071
          ],
          [
           0.45239,
           12257.678,
           791.5807
          ],
          [
           0.17046,
           14875.3547,
           2007.7738
          ],
          [
           0.03363,
           2,
           1
          ],
          [
           0.05885,
           143.2956,
           10.9416
          ],
          [
           0.05199,
           5708.6241,
           98.7496
          ],
          [
           0.71237,
           41.1025,
           2.9401
          ],
          [
           0.16859,
           24660.6569,
           4114.3296
          ],
          [
           0.07017,
           20010.5423,
           461.079
          ],
          [
           0.04011,
           20.7838,
           5
          ],
          [
           0.56667,
           24916.741,
           6182.474
          ],
          [
           0.01915,
           30.3489,
           26.1136
          ],
          [
           0.41814,
           126.5842,
           5
          ],
          [
           0.34259,
           3.0005,
           3.0005
          ],
          [
           0.06025,
           7417.1495,
           235.9237
          ],
          [
           0.30974,
           159060.5239,
           10406.8003
          ],
          [
           0.05316,
           2577.0176,
           311.5314
          ],
          [
           0.1812,
           3021.5991,
           77.3114
          ],
          [
           0.30583,
           10917.4842,
           73.9957
          ],
          [
           0.08611,
           184.4762,
           1.292
          ],
          [
           0.06517,
           351.4597,
           46.1
          ],
          [
           0.2066,
           273.1304,
           5.1029
          ],
          [
           0.31355,
           341.7192,
           19.1774
          ],
          [
           0.16867,
           139.8793,
           20
          ],
          [
           0.23893,
           146.7716,
           47.4011
          ],
          [
           0.09763,
           34332.04,
           782.0202
          ],
          [
           0.30728,
           439.2928,
           176
          ],
          [
           0.11517,
           1094.6543,
           178.2507
          ],
          [
           0.3325,
           10.687,
           3.1215
          ],
          [
           0.24131,
           425.6682,
           35.8563
          ],
          [
           0.39736,
           14625.7645,
           102.8962
          ],
          [
           0.05316,
           225.4887,
           33.4696
          ],
          [
           0.20431,
           9169.7279,
           6081.823
          ],
          [
           0.33401,
           49841.3345,
           1055.3592
          ],
          [
           0.05593,
           655.5203,
           2
          ],
          [
           0.29079,
           24813.5322,
           32.5
          ],
          [
           0.32719,
           7624.0412,
           951.3104
          ],
          [
           0.47424,
           66538.2012,
           10850.7026
          ],
          [
           0.06994,
           1181.1414,
           1094.5369
          ],
          [
           0.03582,
           66121.985,
           6.8747
          ],
          [
           0.02242,
           132.213,
           2
          ],
          [
           0.33915,
           61084.9716,
           3049.8148
          ],
          [
           0.34462,
           9436.1299,
           1329.4914
          ],
          [
           0.02495,
           231.4024,
           2.0406
          ],
          [
           0.35278,
           23143.5977,
           11.2713
          ],
          [
           0.1682,
           6320.5664,
           36.6087
          ],
          [
           0.54756,
           49404.5917,
           3325.7652
          ],
          [
           0.26123,
           26396.5796,
           6.01
          ],
          [
           0.08697,
           92.2312,
           2.0027
          ],
          [
           0.27557,
           2258.5311,
           8
          ],
          [
           0.06811,
           966.5329,
           60.5584
          ],
          [
           0.53359,
           1019.6304,
           44.2344
          ],
          [
           0.15644,
           12599.6375,
           105.7868
          ],
          [
           0.42049,
           3571.4186,
           204.6795
          ],
          [
           0.10769,
           882.3503,
           145.5595
          ],
          [
           0.18789,
           41244.5063,
           1547.8283
          ],
          [
           0.10717,
           10035.6394,
           4.0072
          ],
          [
           0.28939,
           4878.7008,
           21
          ],
          [
           0.0994,
           7427.607,
           4.1158
          ],
          [
           0.56419,
           93366.1441,
           67.1826
          ],
          [
           0.03336,
           1243.9002,
           28
          ],
          [
           0.2493,
           565.7706,
           12.864
          ],
          [
           0.09704,
           30518.5091,
           10.4272
          ],
          [
           0.06638,
           19675.1052,
           3574.7098
          ],
          [
           0.14695,
           1261.3314,
           101.6336
          ],
          [
           0.38726,
           19096.3392,
           220.9614
          ],
          [
           0.01915,
           803.9482,
           32.4046
          ],
          [
           0.01915,
           1799.6148,
           3.2337
          ],
          [
           0.26722,
           38673.0209,
           5251.0375
          ],
          [
           0.68876,
           192040.5716,
           1566.6102
          ],
          [
           0.26516,
           11991.6531,
           153.9766
          ],
          [
           0.09297,
           1180.3928,
           8.6361
          ],
          [
           0.12199,
           80270.845,
           4397.3572
          ],
          [
           0.47411,
           9411.9331,
           7.0269
          ],
          [
           0.09584,
           51.4287,
           3.7744
          ],
          [
           0.09291,
           16.71,
           1.1
          ],
          [
           0.14502,
           6810.7442,
           5
          ],
          [
           0.25073,
           55556.7756,
           69.1334
          ],
          [
           0.54698,
           130738.6192,
           1.1
          ],
          [
           0.1301,
           5776.519,
           86.9217
          ],
          [
           0.18373,
           10591.6661,
           41.3468
          ],
          [
           0.58489,
           115704.1512,
           1.0346
          ],
          [
           0.41331,
           10147.1149,
           37.0956
          ],
          [
           0.52368,
           49466.6357,
           114.0739
          ],
          [
           0.47299,
           6219.208,
           31.3724
          ],
          [
           0.61432,
           3779.8685,
           53.7237
          ],
          [
           0.40793,
           268827.2858,
           11577.1276
          ],
          [
           0.10786,
           10983.4839,
           6.01
          ],
          [
           0.16325,
           47900.782,
           806.8698
          ],
          [
           0.1337,
           835.1116,
           77.6661
          ],
          [
           0.19712,
           96227.3755,
           1554.3195
          ],
          [
           0.13097,
           4041.6557,
           37.3717
          ],
          [
           0.17637,
           291.1802,
           7
          ],
          [
           0.38286,
           84717.3961,
           2673.3696
          ],
          [
           0.52373,
           384.1863,
           6.6370000000000005
          ],
          [
           0.18718,
           123661.1312,
           49.6469
          ],
          [
           0.27082,
           17635.8759,
           213.6746
          ],
          [
           0.14327,
           65190.2962,
           6.01
          ],
          [
           0.47972,
           119711.9879,
           2815.7697
          ],
          [
           0.57199,
           54627.9122,
           2908.5684
          ],
          [
           0.54609,
           77448.8209,
           4243.6644
          ],
          [
           0.09823,
           234.9218,
           26.1557
          ],
          [
           0.6144,
           18815.0705,
           2.1
          ],
          [
           0.59908,
           396269.3026,
           4514.6146
          ],
          [
           0.38427,
           38362.8059,
           22.4599
          ],
          [
           0.63438,
           224861.4789,
           3364.8199
          ],
          [
           0.71359,
           233856.5844,
           3238.39
          ],
          [
           0.57503,
           298411.2655,
           6028.12
          ]
         ]
        }
       ],
       "layout": {
        "coloraxis": {
         "colorscale": [
          [
           0,
           "#0d0887"
          ],
          [
           0.1111111111111111,
           "#46039f"
          ],
          [
           0.2222222222222222,
           "#7201a8"
          ],
          [
           0.3333333333333333,
           "#9c179e"
          ],
          [
           0.4444444444444444,
           "#bd3786"
          ],
          [
           0.5555555555555556,
           "#d8576b"
          ],
          [
           0.6666666666666666,
           "#ed7953"
          ],
          [
           0.7777777777777778,
           "#fb9f3a"
          ],
          [
           0.8888888888888888,
           "#fdca26"
          ],
          [
           1,
           "#f0f921"
          ]
         ]
        },
        "margin": {
         "t": 60
        },
        "template": {
         "data": {
          "bar": [
           {
            "error_x": {
             "color": "#2a3f5f"
            },
            "error_y": {
             "color": "#2a3f5f"
            },
            "marker": {
             "line": {
              "color": "#E5ECF6",
              "width": 0.5
             },
             "pattern": {
              "fillmode": "overlay",
              "size": 10,
              "solidity": 0.2
             }
            },
            "type": "bar"
           }
          ],
          "barpolar": [
           {
            "marker": {
             "line": {
              "color": "#E5ECF6",
              "width": 0.5
             },
             "pattern": {
              "fillmode": "overlay",
              "size": 10,
              "solidity": 0.2
             }
            },
            "type": "barpolar"
           }
          ],
          "carpet": [
           {
            "aaxis": {
             "endlinecolor": "#2a3f5f",
             "gridcolor": "white",
             "linecolor": "white",
             "minorgridcolor": "white",
             "startlinecolor": "#2a3f5f"
            },
            "baxis": {
             "endlinecolor": "#2a3f5f",
             "gridcolor": "white",
             "linecolor": "white",
             "minorgridcolor": "white",
             "startlinecolor": "#2a3f5f"
            },
            "type": "carpet"
           }
          ],
          "choropleth": [
           {
            "colorbar": {
             "outlinewidth": 0,
             "ticks": ""
            },
            "type": "choropleth"
           }
          ],
          "contour": [
           {
            "colorbar": {
             "outlinewidth": 0,
             "ticks": ""
            },
            "colorscale": [
             [
              0,
              "#0d0887"
             ],
             [
              0.1111111111111111,
              "#46039f"
             ],
             [
              0.2222222222222222,
              "#7201a8"
             ],
             [
              0.3333333333333333,
              "#9c179e"
             ],
             [
              0.4444444444444444,
              "#bd3786"
             ],
             [
              0.5555555555555556,
              "#d8576b"
             ],
             [
              0.6666666666666666,
              "#ed7953"
             ],
             [
              0.7777777777777778,
              "#fb9f3a"
             ],
             [
              0.8888888888888888,
              "#fdca26"
             ],
             [
              1,
              "#f0f921"
             ]
            ],
            "type": "contour"
           }
          ],
          "contourcarpet": [
           {
            "colorbar": {
             "outlinewidth": 0,
             "ticks": ""
            },
            "type": "contourcarpet"
           }
          ],
          "heatmap": [
           {
            "colorbar": {
             "outlinewidth": 0,
             "ticks": ""
            },
            "colorscale": [
             [
              0,
              "#0d0887"
             ],
             [
              0.1111111111111111,
              "#46039f"
             ],
             [
              0.2222222222222222,
              "#7201a8"
             ],
             [
              0.3333333333333333,
              "#9c179e"
             ],
             [
              0.4444444444444444,
              "#bd3786"
             ],
             [
              0.5555555555555556,
              "#d8576b"
             ],
             [
              0.6666666666666666,
              "#ed7953"
             ],
             [
              0.7777777777777778,
              "#fb9f3a"
             ],
             [
              0.8888888888888888,
              "#fdca26"
             ],
             [
              1,
              "#f0f921"
             ]
            ],
            "type": "heatmap"
           }
          ],
          "heatmapgl": [
           {
            "colorbar": {
             "outlinewidth": 0,
             "ticks": ""
            },
            "colorscale": [
             [
              0,
              "#0d0887"
             ],
             [
              0.1111111111111111,
              "#46039f"
             ],
             [
              0.2222222222222222,
              "#7201a8"
             ],
             [
              0.3333333333333333,
              "#9c179e"
             ],
             [
              0.4444444444444444,
              "#bd3786"
             ],
             [
              0.5555555555555556,
              "#d8576b"
             ],
             [
              0.6666666666666666,
              "#ed7953"
             ],
             [
              0.7777777777777778,
              "#fb9f3a"
             ],
             [
              0.8888888888888888,
              "#fdca26"
             ],
             [
              1,
              "#f0f921"
             ]
            ],
            "type": "heatmapgl"
           }
          ],
          "histogram": [
           {
            "marker": {
             "pattern": {
              "fillmode": "overlay",
              "size": 10,
              "solidity": 0.2
             }
            },
            "type": "histogram"
           }
          ],
          "histogram2d": [
           {
            "colorbar": {
             "outlinewidth": 0,
             "ticks": ""
            },
            "colorscale": [
             [
              0,
              "#0d0887"
             ],
             [
              0.1111111111111111,
              "#46039f"
             ],
             [
              0.2222222222222222,
              "#7201a8"
             ],
             [
              0.3333333333333333,
              "#9c179e"
             ],
             [
              0.4444444444444444,
              "#bd3786"
             ],
             [
              0.5555555555555556,
              "#d8576b"
             ],
             [
              0.6666666666666666,
              "#ed7953"
             ],
             [
              0.7777777777777778,
              "#fb9f3a"
             ],
             [
              0.8888888888888888,
              "#fdca26"
             ],
             [
              1,
              "#f0f921"
             ]
            ],
            "type": "histogram2d"
           }
          ],
          "histogram2dcontour": [
           {
            "colorbar": {
             "outlinewidth": 0,
             "ticks": ""
            },
            "colorscale": [
             [
              0,
              "#0d0887"
             ],
             [
              0.1111111111111111,
              "#46039f"
             ],
             [
              0.2222222222222222,
              "#7201a8"
             ],
             [
              0.3333333333333333,
              "#9c179e"
             ],
             [
              0.4444444444444444,
              "#bd3786"
             ],
             [
              0.5555555555555556,
              "#d8576b"
             ],
             [
              0.6666666666666666,
              "#ed7953"
             ],
             [
              0.7777777777777778,
              "#fb9f3a"
             ],
             [
              0.8888888888888888,
              "#fdca26"
             ],
             [
              1,
              "#f0f921"
             ]
            ],
            "type": "histogram2dcontour"
           }
          ],
          "mesh3d": [
           {
            "colorbar": {
             "outlinewidth": 0,
             "ticks": ""
            },
            "type": "mesh3d"
           }
          ],
          "parcoords": [
           {
            "line": {
             "colorbar": {
              "outlinewidth": 0,
              "ticks": ""
             }
            },
            "type": "parcoords"
           }
          ],
          "pie": [
           {
            "automargin": true,
            "type": "pie"
           }
          ],
          "scatter": [
           {
            "fillpattern": {
             "fillmode": "overlay",
             "size": 10,
             "solidity": 0.2
            },
            "type": "scatter"
           }
          ],
          "scatter3d": [
           {
            "line": {
             "colorbar": {
              "outlinewidth": 0,
              "ticks": ""
             }
            },
            "marker": {
             "colorbar": {
              "outlinewidth": 0,
              "ticks": ""
             }
            },
            "type": "scatter3d"
           }
          ],
          "scattercarpet": [
           {
            "marker": {
             "colorbar": {
              "outlinewidth": 0,
              "ticks": ""
             }
            },
            "type": "scattercarpet"
           }
          ],
          "scattergeo": [
           {
            "marker": {
             "colorbar": {
              "outlinewidth": 0,
              "ticks": ""
             }
            },
            "type": "scattergeo"
           }
          ],
          "scattergl": [
           {
            "marker": {
             "colorbar": {
              "outlinewidth": 0,
              "ticks": ""
             }
            },
            "type": "scattergl"
           }
          ],
          "scattermapbox": [
           {
            "marker": {
             "colorbar": {
              "outlinewidth": 0,
              "ticks": ""
             }
            },
            "type": "scattermapbox"
           }
          ],
          "scatterpolar": [
           {
            "marker": {
             "colorbar": {
              "outlinewidth": 0,
              "ticks": ""
             }
            },
            "type": "scatterpolar"
           }
          ],
          "scatterpolargl": [
           {
            "marker": {
             "colorbar": {
              "outlinewidth": 0,
              "ticks": ""
             }
            },
            "type": "scatterpolargl"
           }
          ],
          "scatterternary": [
           {
            "marker": {
             "colorbar": {
              "outlinewidth": 0,
              "ticks": ""
             }
            },
            "type": "scatterternary"
           }
          ],
          "surface": [
           {
            "colorbar": {
             "outlinewidth": 0,
             "ticks": ""
            },
            "colorscale": [
             [
              0,
              "#0d0887"
             ],
             [
              0.1111111111111111,
              "#46039f"
             ],
             [
              0.2222222222222222,
              "#7201a8"
             ],
             [
              0.3333333333333333,
              "#9c179e"
             ],
             [
              0.4444444444444444,
              "#bd3786"
             ],
             [
              0.5555555555555556,
              "#d8576b"
             ],
             [
              0.6666666666666666,
              "#ed7953"
             ],
             [
              0.7777777777777778,
              "#fb9f3a"
             ],
             [
              0.8888888888888888,
              "#fdca26"
             ],
             [
              1,
              "#f0f921"
             ]
            ],
            "type": "surface"
           }
          ],
          "table": [
           {
            "cells": {
             "fill": {
              "color": "#EBF0F8"
             },
             "line": {
              "color": "white"
             }
            },
            "header": {
             "fill": {
              "color": "#C8D4E3"
             },
             "line": {
              "color": "white"
             }
            },
            "type": "table"
           }
          ]
         },
         "layout": {
          "annotationdefaults": {
           "arrowcolor": "#2a3f5f",
           "arrowhead": 0,
           "arrowwidth": 1
          },
          "autotypenumbers": "strict",
          "coloraxis": {
           "colorbar": {
            "outlinewidth": 0,
            "ticks": ""
           }
          },
          "colorscale": {
           "diverging": [
            [
             0,
             "#8e0152"
            ],
            [
             0.1,
             "#c51b7d"
            ],
            [
             0.2,
             "#de77ae"
            ],
            [
             0.3,
             "#f1b6da"
            ],
            [
             0.4,
             "#fde0ef"
            ],
            [
             0.5,
             "#f7f7f7"
            ],
            [
             0.6,
             "#e6f5d0"
            ],
            [
             0.7,
             "#b8e186"
            ],
            [
             0.8,
             "#7fbc41"
            ],
            [
             0.9,
             "#4d9221"
            ],
            [
             1,
             "#276419"
            ]
           ],
           "sequential": [
            [
             0,
             "#0d0887"
            ],
            [
             0.1111111111111111,
             "#46039f"
            ],
            [
             0.2222222222222222,
             "#7201a8"
            ],
            [
             0.3333333333333333,
             "#9c179e"
            ],
            [
             0.4444444444444444,
             "#bd3786"
            ],
            [
             0.5555555555555556,
             "#d8576b"
            ],
            [
             0.6666666666666666,
             "#ed7953"
            ],
            [
             0.7777777777777778,
             "#fb9f3a"
            ],
            [
             0.8888888888888888,
             "#fdca26"
            ],
            [
             1,
             "#f0f921"
            ]
           ],
           "sequentialminus": [
            [
             0,
             "#0d0887"
            ],
            [
             0.1111111111111111,
             "#46039f"
            ],
            [
             0.2222222222222222,
             "#7201a8"
            ],
            [
             0.3333333333333333,
             "#9c179e"
            ],
            [
             0.4444444444444444,
             "#bd3786"
            ],
            [
             0.5555555555555556,
             "#d8576b"
            ],
            [
             0.6666666666666666,
             "#ed7953"
            ],
            [
             0.7777777777777778,
             "#fb9f3a"
            ],
            [
             0.8888888888888888,
             "#fdca26"
            ],
            [
             1,
             "#f0f921"
            ]
           ]
          },
          "colorway": [
           "#636efa",
           "#EF553B",
           "#00cc96",
           "#ab63fa",
           "#FFA15A",
           "#19d3f3",
           "#FF6692",
           "#B6E880",
           "#FF97FF",
           "#FECB52"
          ],
          "font": {
           "color": "#2a3f5f"
          },
          "geo": {
           "bgcolor": "white",
           "lakecolor": "white",
           "landcolor": "#E5ECF6",
           "showlakes": true,
           "showland": true,
           "subunitcolor": "white"
          },
          "hoverlabel": {
           "align": "left"
          },
          "hovermode": "closest",
          "mapbox": {
           "style": "light"
          },
          "paper_bgcolor": "white",
          "plot_bgcolor": "#E5ECF6",
          "polar": {
           "angularaxis": {
            "gridcolor": "white",
            "linecolor": "white",
            "ticks": ""
           },
           "bgcolor": "#E5ECF6",
           "radialaxis": {
            "gridcolor": "white",
            "linecolor": "white",
            "ticks": ""
           }
          },
          "scene": {
           "xaxis": {
            "backgroundcolor": "#E5ECF6",
            "gridcolor": "white",
            "gridwidth": 2,
            "linecolor": "white",
            "showbackground": true,
            "ticks": "",
            "zerolinecolor": "white"
           },
           "yaxis": {
            "backgroundcolor": "#E5ECF6",
            "gridcolor": "white",
            "gridwidth": 2,
            "linecolor": "white",
            "showbackground": true,
            "ticks": "",
            "zerolinecolor": "white"
           },
           "zaxis": {
            "backgroundcolor": "#E5ECF6",
            "gridcolor": "white",
            "gridwidth": 2,
            "linecolor": "white",
            "showbackground": true,
            "ticks": "",
            "zerolinecolor": "white"
           }
          },
          "shapedefaults": {
           "line": {
            "color": "#2a3f5f"
           }
          },
          "ternary": {
           "aaxis": {
            "gridcolor": "white",
            "linecolor": "white",
            "ticks": ""
           },
           "baxis": {
            "gridcolor": "white",
            "linecolor": "white",
            "ticks": ""
           },
           "bgcolor": "#E5ECF6",
           "caxis": {
            "gridcolor": "white",
            "linecolor": "white",
            "ticks": ""
           }
          },
          "title": {
           "x": 0.05
          },
          "xaxis": {
           "automargin": true,
           "gridcolor": "white",
           "linecolor": "white",
           "ticks": "",
           "title": {
            "standoff": 15
           },
           "zerolinecolor": "white",
           "zerolinewidth": 2
          },
          "yaxis": {
           "automargin": true,
           "gridcolor": "white",
           "linecolor": "white",
           "ticks": "",
           "title": {
            "standoff": 15
           },
           "zerolinecolor": "white",
           "zerolinewidth": 2
          }
         }
        },
        "xaxis": {
         "anchor": "y",
         "constrain": "domain",
         "domain": [
          0,
          1
         ],
         "scaleanchor": "y"
        },
        "yaxis": {
         "anchor": "x",
         "autorange": "reversed",
         "constrain": "domain",
         "domain": [
          0,
          1
         ]
        }
       }
      }
     },
     "metadata": {},
     "output_type": "display_data"
    }
   ],
   "source": [
    "heat = merged[['score', 'amount_received', 'amount_received_in_round']]\n",
    "fig = px.imshow(heat)\n",
    "fig.show()"
   ]
  },
  {
   "cell_type": "code",
   "execution_count": 23,
   "metadata": {},
   "outputs": [
    {
     "data": {
      "application/vnd.plotly.v1+json": {
       "config": {
        "plotlyServerURL": "https://plot.ly"
       },
       "data": [
        {
         "dimensions": [
          {
           "axis": {
            "matches": true
           },
           "label": "score",
           "values": [
            0.0391,
            0.08922,
            0.0532,
            0.07593,
            0.02077,
            0.20942,
            0.11658,
            0.01915,
            0.19628,
            0.17489,
            0.01915,
            0.02077,
            0.40249,
            0.0811,
            0.09179,
            0.20049,
            0.20194,
            0.06158,
            0.02556,
            0.16783,
            0.18569,
            0.4963,
            0.03582,
            0.01915,
            0.02077,
            0.05316,
            0.01915,
            0.13842,
            0.01915,
            0.06869,
            0.08951,
            0.04298,
            0.07126,
            0.21061,
            0.08457,
            0.19902,
            0.02524,
            0.06885,
            0.27986,
            0.26137,
            0.02773,
            0.02773,
            0.17862,
            0.02077,
            0.02225,
            0.0888,
            0.09353,
            0.10873,
            0.02909,
            0.18541,
            0.02077,
            0.05316,
            0.07281,
            0.06731,
            0.05316,
            0.03992,
            0.07428,
            0.02225,
            0.10163,
            0.23485,
            0.11592,
            0.0642,
            0.03072,
            0.22781,
            0.1679,
            0.23041,
            0.27742,
            0.07738,
            0.17349,
            0.08219,
            0.06655,
            0.06116,
            0.03345,
            0.19951,
            0.03149,
            0.15002,
            0.06436,
            0.04195,
            0.15545,
            0.21202,
            0.11543,
            0.10184,
            0.15637,
            0.01915,
            0.20239,
            0.39355,
            0.02077,
            0.01915,
            0.05106,
            0.0333,
            0.09554,
            0.10088,
            0.04155,
            0.10897,
            0.14028,
            0.09894,
            0.10462,
            0.12011,
            0.06184,
            0.12044,
            0.11225,
            0.14521,
            0.34528,
            0.1881,
            0.30856,
            0.09032,
            0.06878,
            0.03926,
            0.25537,
            0.19871,
            0.15556,
            0.23479,
            0.08963,
            0.10245,
            0.05842,
            0.02225,
            0.01915,
            0.01915,
            0.24866,
            0.17653,
            0.25597,
            0.09385,
            0.25372,
            0.03778,
            0.23485,
            0.18359,
            0.34313,
            0.07849,
            0.22006,
            0.03741,
            0.37718,
            0.04051,
            0.01915,
            0.27034,
            0.08054,
            0.05583,
            0.06436,
            0.17855,
            0.02605,
            0.20075,
            0.2621,
            0.63254,
            0.38724,
            0.15312,
            0.053,
            0.25848,
            0.33222,
            0.53177,
            0.07126,
            0.10856,
            0.01915,
            0.08108,
            0.2607,
            0.49543,
            0.29103,
            0.34659,
            0.09768,
            0.07128,
            0.22128,
            0.03149,
            0.25055,
            0.14962,
            0.06684,
            0.28097,
            0.53177,
            0.06621,
            0.01915,
            0.22167,
            0.38404,
            0.02077,
            0.20518,
            0.07788,
            0.17634,
            0.45239,
            0.17046,
            0.03363,
            0.05885,
            0.05199,
            0.71237,
            0.16859,
            0.07017,
            0.04011,
            0.56667,
            0.01915,
            0.41814,
            0.34259,
            0.06025,
            0.30974,
            0.05316,
            0.1812,
            0.30583,
            0.08611,
            0.06517,
            0.2066,
            0.31355,
            0.16867,
            0.23893,
            0.09763,
            0.30728,
            0.11517,
            0.3325,
            0.24131,
            0.39736,
            0.05316,
            0.20431,
            0.33401,
            0.05593,
            0.29079,
            0.32719,
            0.47424,
            0.06994,
            0.03582,
            0.02242,
            0.33915,
            0.34462,
            0.02495,
            0.35278,
            0.1682,
            0.54756,
            0.26123,
            0.08697,
            0.27557,
            0.06811,
            0.53359,
            0.15644,
            0.42049,
            0.10769,
            0.18789,
            0.10717,
            0.28939,
            0.0994,
            0.56419,
            0.03336,
            0.2493,
            0.09704,
            0.06638,
            0.14695,
            0.38726,
            0.01915,
            0.01915,
            0.26722,
            0.68876,
            0.26516,
            0.09297,
            0.12199,
            0.47411,
            0.09584,
            0.09291,
            0.14502,
            0.25073,
            0.54698,
            0.1301,
            0.18373,
            0.58489,
            0.41331,
            0.52368,
            0.47299,
            0.61432,
            0.40793,
            0.10786,
            0.16325,
            0.1337,
            0.19712,
            0.13097,
            0.17637,
            0.38286,
            0.52373,
            0.18718,
            0.27082,
            0.14327,
            0.47972,
            0.57199,
            0.54609,
            0.09823,
            0.6144,
            0.59908,
            0.38427,
            0.63438,
            0.71359,
            0.57503
           ]
          },
          {
           "axis": {
            "matches": true
           },
           "label": "amount_received",
           "values": [
            5.2943,
            306.4585,
            5.0919,
            15.3044,
            12.9233,
            3,
            374.2607,
            1,
            87.0492,
            13.1993,
            12.436,
            112.3,
            1060.723,
            2,
            169.3337,
            1,
            373.0836,
            691.7431,
            1,
            89.3071,
            343.5193,
            1.4281,
            35.1638,
            111.1234,
            333.8085,
            198.2951,
            234.1474,
            1010,
            66.3456,
            7.5008,
            1761.7448,
            627.1058,
            188.5026,
            135.9112,
            31.6766,
            1108.4667,
            35.4944,
            16.0512,
            3.6645,
            1232.5648,
            2396.9494,
            592.7385,
            107.6058,
            128.8777,
            64.9906,
            247.3499,
            16.7941,
            2255.1655,
            4.1329,
            612.0122,
            41.5868,
            1100.92,
            718.7742,
            1004.6552,
            257.3035,
            1195.6371,
            339.3695,
            29.1429,
            2539.7043,
            30.5787,
            2,
            13.1329,
            1,
            70.0603,
            2376.9268,
            105.1114,
            1960.5,
            459.8712,
            1037.1698,
            68.7687,
            166.8817,
            275.3063,
            6.3199,
            906.0687,
            1,
            31.7044,
            669.9797,
            2058.9958,
            36729.9362,
            7153.0903,
            11.3538,
            1618.9639,
            16.2495,
            2.457,
            119.719,
            1341.7127,
            19.8553,
            1484.1558,
            26.0009,
            73.634,
            3686.0025,
            35.4305,
            2232.8347,
            12.476,
            2.0009,
            923.0426,
            1257.681,
            65.0925,
            16.1989,
            1.1,
            331.9644,
            152.2733,
            14643.3105,
            174.2664,
            5,
            4.6491,
            325.0754,
            74.2837,
            268.6559,
            1.0295,
            1402.9982,
            603.909,
            610.8244,
            47.9104,
            968.1617,
            8.2064,
            419.5984,
            59.5709,
            38.4715,
            12.7367,
            15765.0618,
            241.0564,
            489.7809,
            107.0553,
            19.9315,
            2036.3158,
            240.3045,
            4941.1508,
            148.2459,
            21.091,
            303.3683,
            19.726,
            31.149,
            195.2594,
            21.4328,
            55.7287,
            3178.0822,
            735.8493,
            60.3208,
            293.7729,
            449.6899,
            8660.9008,
            2529.3466,
            30587.461,
            6.5456,
            12812.9788,
            295.0654,
            3605.1655,
            27.9649,
            2136.9302,
            1604.9025,
            4980.6818,
            6443.6223,
            2156.7924,
            981.9255,
            7292.0628,
            326.1799,
            2.1477,
            3228.6971,
            2636.312,
            2437.3982,
            1225.2855,
            5763.9585,
            828.3518,
            330.5421,
            4742.0762,
            231.1343,
            5049.0576,
            4356.0025,
            345.8912,
            448.2513,
            171.095,
            40655.6253,
            12257.678,
            14875.3547,
            2,
            143.2956,
            5708.6241,
            41.1025,
            24660.6569,
            20010.5423,
            20.7838,
            24916.741,
            30.3489,
            126.5842,
            3.0005,
            7417.1495,
            159060.5239,
            2577.0176,
            3021.5991,
            10917.4842,
            184.4762,
            351.4597,
            273.1304,
            341.7192,
            139.8793,
            146.7716,
            34332.04,
            439.2928,
            1094.6543,
            10.687,
            425.6682,
            14625.7645,
            225.4887,
            9169.7279,
            49841.3345,
            655.5203,
            24813.5322,
            7624.0412,
            66538.2012,
            1181.1414,
            66121.985,
            132.213,
            61084.9716,
            9436.1299,
            231.4024,
            23143.5977,
            6320.5664,
            49404.5917,
            26396.5796,
            92.2312,
            2258.5311,
            966.5329,
            1019.6304,
            12599.6375,
            3571.4186,
            882.3503,
            41244.5063,
            10035.6394,
            4878.7008,
            7427.607,
            93366.1441,
            1243.9002,
            565.7706,
            30518.5091,
            19675.1052,
            1261.3314,
            19096.3392,
            803.9482,
            1799.6148,
            38673.0209,
            192040.5716,
            11991.6531,
            1180.3928,
            80270.845,
            9411.9331,
            51.4287,
            16.71,
            6810.7442,
            55556.7756,
            130738.6192,
            5776.519,
            10591.6661,
            115704.1512,
            10147.1149,
            49466.6357,
            6219.208,
            3779.8685,
            268827.2858,
            10983.4839,
            47900.782,
            835.1116,
            96227.3755,
            4041.6557,
            291.1802,
            84717.3961,
            384.1863,
            123661.1312,
            17635.8759,
            65190.2962,
            119711.9879,
            54627.9122,
            77448.8209,
            234.9218,
            18815.0705,
            396269.3026,
            38362.8059,
            224861.4789,
            233856.5844,
            298411.2655
           ]
          },
          {
           "axis": {
            "matches": true
           },
           "label": "amount_received_in_round",
           "values": [
            5.2943,
            306.4585,
            5.0919,
            15.3044,
            12.9233,
            3,
            374.2607,
            1,
            87.0492,
            13.1993,
            12.436,
            112.3,
            1060.723,
            2,
            169.3337,
            1,
            373.0836,
            691.7431,
            1,
            89.3071,
            343.5193,
            1.4281,
            35.1638,
            111.1234,
            333.8085,
            198.2951,
            234.1474,
            1010,
            66.3456,
            7.5008,
            1761.7448,
            627.1058,
            188.5026,
            135.9112,
            31.6766,
            1108.4667,
            35.4944,
            16.0512,
            3.6645,
            1232.5648,
            2396.9494,
            592.7385,
            107.6058,
            128.8777,
            64.9906,
            247.3499,
            16.7941,
            2255.1655,
            4.1329,
            612.0122,
            41.5868,
            1093.081,
            718.7742,
            999.7452,
            257.3035,
            1195.6371,
            339.3695,
            28.1329,
            2539.7043,
            30.5787,
            2,
            13.1329,
            1,
            70.0603,
            2375.9268,
            105.1114,
            1959.5,
            458.3021,
            1037.1698,
            68.7687,
            164.3017,
            275.3063,
            3.1329,
            906.0687,
            1,
            31.7044,
            668.9749,
            2058.9958,
            36654.9438,
            7153.0903,
            10.2301,
            1429.8458,
            15.248,
            2.457,
            118.7165,
            1341.7127,
            17.853,
            1484.1558,
            25,
            70.5908,
            3661.0025,
            32.7445,
            2201.8339,
            11.4751,
            1,
            922.0412,
            1253.7892,
            65.0925,
            15.1974,
            1.1,
            306.9644,
            152.2733,
            14616.5937,
            174.2664,
            5,
            2.6491,
            325.0754,
            74.2837,
            259.5175,
            1.0295,
            266.604,
            48.3181,
            8.2636,
            32.1002,
            537.074,
            3.0001,
            161.4509,
            8.2632,
            8.4751,
            2.6491,
            15426.7656,
            44.1773,
            289.9894,
            21.3281,
            1.0001,
            473.0406,
            8.2129,
            64.7386,
            24.013,
            2.1981,
            166.84,
            19.726,
            2,
            9.0765,
            9.2328,
            1.0001,
            1,
            682.5862,
            6.0613,
            89.1588,
            30,
            306.2237,
            725.3646,
            19503.0063,
            2.05,
            8886.3461,
            35.8887,
            2221.3042,
            6.3265,
            169.266,
            18.1128,
            2498.7302,
            1318.4909,
            319.3685,
            925.1386,
            1713.531,
            6.6522,
            1,
            894.0909,
            2410.0857,
            764.4031,
            35.0991,
            27.5942,
            19.4751,
            284.9922,
            708.7421,
            1.0605,
            1270.0303,
            1294.8419,
            56.3533,
            43.4887,
            1.0677,
            4257.7071,
            791.5807,
            2007.7738,
            1,
            10.9416,
            98.7496,
            2.9401,
            4114.3296,
            461.079,
            5,
            6182.474,
            26.1136,
            5,
            3.0005,
            235.9237,
            10406.8003,
            311.5314,
            77.3114,
            73.9957,
            1.292,
            46.1,
            5.1029,
            19.1774,
            20,
            47.4011,
            782.0202,
            176,
            178.2507,
            3.1215,
            35.8563,
            102.8962,
            33.4696,
            6081.823,
            1055.3592,
            2,
            32.5,
            951.3104,
            10850.7026,
            1094.5369,
            6.8747,
            2,
            3049.8148,
            1329.4914,
            2.0406,
            11.2713,
            36.6087,
            3325.7652,
            6.01,
            2.0027,
            8,
            60.5584,
            44.2344,
            105.7868,
            204.6795,
            145.5595,
            1547.8283,
            4.0072,
            21,
            4.1158,
            67.1826,
            28,
            12.864,
            10.4272,
            3574.7098,
            101.6336,
            220.9614,
            32.4046,
            3.2337,
            5251.0375,
            1566.6102,
            153.9766,
            8.6361,
            4397.3572,
            7.0269,
            3.7744,
            1.1,
            5,
            69.1334,
            1.1,
            86.9217,
            41.3468,
            1.0346,
            37.0956,
            114.0739,
            31.3724,
            53.7237,
            11577.1276,
            6.01,
            806.8698,
            77.6661,
            1554.3195,
            37.3717,
            7,
            2673.3696,
            6.6370000000000005,
            49.6469,
            213.6746,
            6.01,
            2815.7697,
            2908.5684,
            4243.6644,
            26.1557,
            2.1,
            4514.6146,
            22.4599,
            3364.8199,
            3238.39,
            6028.12
           ]
          },
          {
           "axis": {
            "matches": true
           },
           "label": "contribution_count",
           "values": [
            5,
            7,
            5,
            9,
            8,
            1,
            48,
            1,
            14,
            1,
            11,
            7,
            484,
            1,
            5,
            1,
            22,
            5,
            1,
            14,
            80,
            1,
            15,
            198,
            9,
            67,
            247,
            2,
            202,
            3,
            452,
            107,
            29,
            9,
            6,
            414,
            14,
            14,
            1,
            524,
            252,
            126,
            31,
            99,
            4,
            78,
            8,
            1519,
            2,
            106,
            7,
            184,
            71,
            519,
            18,
            348,
            8,
            3,
            464,
            6,
            1,
            2,
            1,
            11,
            213,
            28,
            8,
            27,
            130,
            8,
            118,
            298,
            2,
            22,
            1,
            8,
            6,
            281,
            16125,
            897,
            7,
            463,
            8,
            2,
            18,
            295,
            7,
            1219,
            2,
            10,
            550,
            12,
            1011,
            9,
            2,
            254,
            447,
            3,
            7,
            1,
            122,
            16,
            8184,
            12,
            1,
            3,
            198,
            19,
            47,
            1,
            54,
            39,
            20,
            13,
            159,
            7,
            76,
            29,
            25,
            7,
            9247,
            36,
            215,
            24,
            14,
            132,
            24,
            725,
            19,
            9,
            42,
            4,
            6,
            43,
            10,
            17,
            145,
            10,
            27,
            42,
            40,
            838,
            1056,
            15167,
            7,
            5464,
            21,
            504,
            18,
            689,
            1058,
            2725,
            1824,
            439,
            142,
            730,
            119,
            2,
            475,
            218,
            243,
            734,
            1630,
            89,
            21,
            1393,
            92,
            15,
            1721,
            33,
            136,
            51,
            5855,
            2388,
            4816,
            2,
            41,
            193,
            8,
            12115,
            4538,
            13,
            2023,
            7,
            8,
            3,
            1862,
            49574,
            734,
            375,
            5305,
            20,
            33,
            64,
            41,
            66,
            18,
            2418,
            18,
            142,
            8,
            73,
            31,
            41,
            2935,
            6780,
            105,
            5633,
            1254,
            3984,
            17,
            7877,
            32,
            7731,
            1139,
            81,
            3067,
            1188,
            8208,
            10127,
            42,
            588,
            140,
            244,
            1674,
            287,
            50,
            6169,
            3187,
            350,
            3236,
            11537,
            163,
            47,
            7205,
            6235,
            173,
            3022,
            152,
            242,
            6153,
            15904,
            697,
            326,
            14453,
            997,
            20,
            3,
            1574,
            12848,
            21294,
            802,
            1024,
            9441,
            526,
            8334,
            1017,
            727,
            54177,
            1104,
            9770,
            194,
            9753,
            937,
            38,
            11959,
            109,
            14413,
            3092,
            4632,
            17779,
            3968,
            7470,
            122,
            3585,
            32580,
            5337,
            26858,
            24462,
            23434
           ]
          }
         ],
         "hovertemplate": "%{xaxis.title.text}=%{x}<br>%{yaxis.title.text}=%{y}<extra></extra>",
         "legendgroup": "",
         "marker": {
          "color": "#636efa",
          "symbol": "circle"
         },
         "name": "",
         "showlegend": false,
         "type": "splom"
        }
       ],
       "layout": {
        "dragmode": "select",
        "legend": {
         "tracegroupgap": 0
        },
        "margin": {
         "t": 60
        },
        "template": {
         "data": {
          "bar": [
           {
            "error_x": {
             "color": "#2a3f5f"
            },
            "error_y": {
             "color": "#2a3f5f"
            },
            "marker": {
             "line": {
              "color": "#E5ECF6",
              "width": 0.5
             },
             "pattern": {
              "fillmode": "overlay",
              "size": 10,
              "solidity": 0.2
             }
            },
            "type": "bar"
           }
          ],
          "barpolar": [
           {
            "marker": {
             "line": {
              "color": "#E5ECF6",
              "width": 0.5
             },
             "pattern": {
              "fillmode": "overlay",
              "size": 10,
              "solidity": 0.2
             }
            },
            "type": "barpolar"
           }
          ],
          "carpet": [
           {
            "aaxis": {
             "endlinecolor": "#2a3f5f",
             "gridcolor": "white",
             "linecolor": "white",
             "minorgridcolor": "white",
             "startlinecolor": "#2a3f5f"
            },
            "baxis": {
             "endlinecolor": "#2a3f5f",
             "gridcolor": "white",
             "linecolor": "white",
             "minorgridcolor": "white",
             "startlinecolor": "#2a3f5f"
            },
            "type": "carpet"
           }
          ],
          "choropleth": [
           {
            "colorbar": {
             "outlinewidth": 0,
             "ticks": ""
            },
            "type": "choropleth"
           }
          ],
          "contour": [
           {
            "colorbar": {
             "outlinewidth": 0,
             "ticks": ""
            },
            "colorscale": [
             [
              0,
              "#0d0887"
             ],
             [
              0.1111111111111111,
              "#46039f"
             ],
             [
              0.2222222222222222,
              "#7201a8"
             ],
             [
              0.3333333333333333,
              "#9c179e"
             ],
             [
              0.4444444444444444,
              "#bd3786"
             ],
             [
              0.5555555555555556,
              "#d8576b"
             ],
             [
              0.6666666666666666,
              "#ed7953"
             ],
             [
              0.7777777777777778,
              "#fb9f3a"
             ],
             [
              0.8888888888888888,
              "#fdca26"
             ],
             [
              1,
              "#f0f921"
             ]
            ],
            "type": "contour"
           }
          ],
          "contourcarpet": [
           {
            "colorbar": {
             "outlinewidth": 0,
             "ticks": ""
            },
            "type": "contourcarpet"
           }
          ],
          "heatmap": [
           {
            "colorbar": {
             "outlinewidth": 0,
             "ticks": ""
            },
            "colorscale": [
             [
              0,
              "#0d0887"
             ],
             [
              0.1111111111111111,
              "#46039f"
             ],
             [
              0.2222222222222222,
              "#7201a8"
             ],
             [
              0.3333333333333333,
              "#9c179e"
             ],
             [
              0.4444444444444444,
              "#bd3786"
             ],
             [
              0.5555555555555556,
              "#d8576b"
             ],
             [
              0.6666666666666666,
              "#ed7953"
             ],
             [
              0.7777777777777778,
              "#fb9f3a"
             ],
             [
              0.8888888888888888,
              "#fdca26"
             ],
             [
              1,
              "#f0f921"
             ]
            ],
            "type": "heatmap"
           }
          ],
          "heatmapgl": [
           {
            "colorbar": {
             "outlinewidth": 0,
             "ticks": ""
            },
            "colorscale": [
             [
              0,
              "#0d0887"
             ],
             [
              0.1111111111111111,
              "#46039f"
             ],
             [
              0.2222222222222222,
              "#7201a8"
             ],
             [
              0.3333333333333333,
              "#9c179e"
             ],
             [
              0.4444444444444444,
              "#bd3786"
             ],
             [
              0.5555555555555556,
              "#d8576b"
             ],
             [
              0.6666666666666666,
              "#ed7953"
             ],
             [
              0.7777777777777778,
              "#fb9f3a"
             ],
             [
              0.8888888888888888,
              "#fdca26"
             ],
             [
              1,
              "#f0f921"
             ]
            ],
            "type": "heatmapgl"
           }
          ],
          "histogram": [
           {
            "marker": {
             "pattern": {
              "fillmode": "overlay",
              "size": 10,
              "solidity": 0.2
             }
            },
            "type": "histogram"
           }
          ],
          "histogram2d": [
           {
            "colorbar": {
             "outlinewidth": 0,
             "ticks": ""
            },
            "colorscale": [
             [
              0,
              "#0d0887"
             ],
             [
              0.1111111111111111,
              "#46039f"
             ],
             [
              0.2222222222222222,
              "#7201a8"
             ],
             [
              0.3333333333333333,
              "#9c179e"
             ],
             [
              0.4444444444444444,
              "#bd3786"
             ],
             [
              0.5555555555555556,
              "#d8576b"
             ],
             [
              0.6666666666666666,
              "#ed7953"
             ],
             [
              0.7777777777777778,
              "#fb9f3a"
             ],
             [
              0.8888888888888888,
              "#fdca26"
             ],
             [
              1,
              "#f0f921"
             ]
            ],
            "type": "histogram2d"
           }
          ],
          "histogram2dcontour": [
           {
            "colorbar": {
             "outlinewidth": 0,
             "ticks": ""
            },
            "colorscale": [
             [
              0,
              "#0d0887"
             ],
             [
              0.1111111111111111,
              "#46039f"
             ],
             [
              0.2222222222222222,
              "#7201a8"
             ],
             [
              0.3333333333333333,
              "#9c179e"
             ],
             [
              0.4444444444444444,
              "#bd3786"
             ],
             [
              0.5555555555555556,
              "#d8576b"
             ],
             [
              0.6666666666666666,
              "#ed7953"
             ],
             [
              0.7777777777777778,
              "#fb9f3a"
             ],
             [
              0.8888888888888888,
              "#fdca26"
             ],
             [
              1,
              "#f0f921"
             ]
            ],
            "type": "histogram2dcontour"
           }
          ],
          "mesh3d": [
           {
            "colorbar": {
             "outlinewidth": 0,
             "ticks": ""
            },
            "type": "mesh3d"
           }
          ],
          "parcoords": [
           {
            "line": {
             "colorbar": {
              "outlinewidth": 0,
              "ticks": ""
             }
            },
            "type": "parcoords"
           }
          ],
          "pie": [
           {
            "automargin": true,
            "type": "pie"
           }
          ],
          "scatter": [
           {
            "fillpattern": {
             "fillmode": "overlay",
             "size": 10,
             "solidity": 0.2
            },
            "type": "scatter"
           }
          ],
          "scatter3d": [
           {
            "line": {
             "colorbar": {
              "outlinewidth": 0,
              "ticks": ""
             }
            },
            "marker": {
             "colorbar": {
              "outlinewidth": 0,
              "ticks": ""
             }
            },
            "type": "scatter3d"
           }
          ],
          "scattercarpet": [
           {
            "marker": {
             "colorbar": {
              "outlinewidth": 0,
              "ticks": ""
             }
            },
            "type": "scattercarpet"
           }
          ],
          "scattergeo": [
           {
            "marker": {
             "colorbar": {
              "outlinewidth": 0,
              "ticks": ""
             }
            },
            "type": "scattergeo"
           }
          ],
          "scattergl": [
           {
            "marker": {
             "colorbar": {
              "outlinewidth": 0,
              "ticks": ""
             }
            },
            "type": "scattergl"
           }
          ],
          "scattermapbox": [
           {
            "marker": {
             "colorbar": {
              "outlinewidth": 0,
              "ticks": ""
             }
            },
            "type": "scattermapbox"
           }
          ],
          "scatterpolar": [
           {
            "marker": {
             "colorbar": {
              "outlinewidth": 0,
              "ticks": ""
             }
            },
            "type": "scatterpolar"
           }
          ],
          "scatterpolargl": [
           {
            "marker": {
             "colorbar": {
              "outlinewidth": 0,
              "ticks": ""
             }
            },
            "type": "scatterpolargl"
           }
          ],
          "scatterternary": [
           {
            "marker": {
             "colorbar": {
              "outlinewidth": 0,
              "ticks": ""
             }
            },
            "type": "scatterternary"
           }
          ],
          "surface": [
           {
            "colorbar": {
             "outlinewidth": 0,
             "ticks": ""
            },
            "colorscale": [
             [
              0,
              "#0d0887"
             ],
             [
              0.1111111111111111,
              "#46039f"
             ],
             [
              0.2222222222222222,
              "#7201a8"
             ],
             [
              0.3333333333333333,
              "#9c179e"
             ],
             [
              0.4444444444444444,
              "#bd3786"
             ],
             [
              0.5555555555555556,
              "#d8576b"
             ],
             [
              0.6666666666666666,
              "#ed7953"
             ],
             [
              0.7777777777777778,
              "#fb9f3a"
             ],
             [
              0.8888888888888888,
              "#fdca26"
             ],
             [
              1,
              "#f0f921"
             ]
            ],
            "type": "surface"
           }
          ],
          "table": [
           {
            "cells": {
             "fill": {
              "color": "#EBF0F8"
             },
             "line": {
              "color": "white"
             }
            },
            "header": {
             "fill": {
              "color": "#C8D4E3"
             },
             "line": {
              "color": "white"
             }
            },
            "type": "table"
           }
          ]
         },
         "layout": {
          "annotationdefaults": {
           "arrowcolor": "#2a3f5f",
           "arrowhead": 0,
           "arrowwidth": 1
          },
          "autotypenumbers": "strict",
          "coloraxis": {
           "colorbar": {
            "outlinewidth": 0,
            "ticks": ""
           }
          },
          "colorscale": {
           "diverging": [
            [
             0,
             "#8e0152"
            ],
            [
             0.1,
             "#c51b7d"
            ],
            [
             0.2,
             "#de77ae"
            ],
            [
             0.3,
             "#f1b6da"
            ],
            [
             0.4,
             "#fde0ef"
            ],
            [
             0.5,
             "#f7f7f7"
            ],
            [
             0.6,
             "#e6f5d0"
            ],
            [
             0.7,
             "#b8e186"
            ],
            [
             0.8,
             "#7fbc41"
            ],
            [
             0.9,
             "#4d9221"
            ],
            [
             1,
             "#276419"
            ]
           ],
           "sequential": [
            [
             0,
             "#0d0887"
            ],
            [
             0.1111111111111111,
             "#46039f"
            ],
            [
             0.2222222222222222,
             "#7201a8"
            ],
            [
             0.3333333333333333,
             "#9c179e"
            ],
            [
             0.4444444444444444,
             "#bd3786"
            ],
            [
             0.5555555555555556,
             "#d8576b"
            ],
            [
             0.6666666666666666,
             "#ed7953"
            ],
            [
             0.7777777777777778,
             "#fb9f3a"
            ],
            [
             0.8888888888888888,
             "#fdca26"
            ],
            [
             1,
             "#f0f921"
            ]
           ],
           "sequentialminus": [
            [
             0,
             "#0d0887"
            ],
            [
             0.1111111111111111,
             "#46039f"
            ],
            [
             0.2222222222222222,
             "#7201a8"
            ],
            [
             0.3333333333333333,
             "#9c179e"
            ],
            [
             0.4444444444444444,
             "#bd3786"
            ],
            [
             0.5555555555555556,
             "#d8576b"
            ],
            [
             0.6666666666666666,
             "#ed7953"
            ],
            [
             0.7777777777777778,
             "#fb9f3a"
            ],
            [
             0.8888888888888888,
             "#fdca26"
            ],
            [
             1,
             "#f0f921"
            ]
           ]
          },
          "colorway": [
           "#636efa",
           "#EF553B",
           "#00cc96",
           "#ab63fa",
           "#FFA15A",
           "#19d3f3",
           "#FF6692",
           "#B6E880",
           "#FF97FF",
           "#FECB52"
          ],
          "font": {
           "color": "#2a3f5f"
          },
          "geo": {
           "bgcolor": "white",
           "lakecolor": "white",
           "landcolor": "#E5ECF6",
           "showlakes": true,
           "showland": true,
           "subunitcolor": "white"
          },
          "hoverlabel": {
           "align": "left"
          },
          "hovermode": "closest",
          "mapbox": {
           "style": "light"
          },
          "paper_bgcolor": "white",
          "plot_bgcolor": "#E5ECF6",
          "polar": {
           "angularaxis": {
            "gridcolor": "white",
            "linecolor": "white",
            "ticks": ""
           },
           "bgcolor": "#E5ECF6",
           "radialaxis": {
            "gridcolor": "white",
            "linecolor": "white",
            "ticks": ""
           }
          },
          "scene": {
           "xaxis": {
            "backgroundcolor": "#E5ECF6",
            "gridcolor": "white",
            "gridwidth": 2,
            "linecolor": "white",
            "showbackground": true,
            "ticks": "",
            "zerolinecolor": "white"
           },
           "yaxis": {
            "backgroundcolor": "#E5ECF6",
            "gridcolor": "white",
            "gridwidth": 2,
            "linecolor": "white",
            "showbackground": true,
            "ticks": "",
            "zerolinecolor": "white"
           },
           "zaxis": {
            "backgroundcolor": "#E5ECF6",
            "gridcolor": "white",
            "gridwidth": 2,
            "linecolor": "white",
            "showbackground": true,
            "ticks": "",
            "zerolinecolor": "white"
           }
          },
          "shapedefaults": {
           "line": {
            "color": "#2a3f5f"
           }
          },
          "ternary": {
           "aaxis": {
            "gridcolor": "white",
            "linecolor": "white",
            "ticks": ""
           },
           "baxis": {
            "gridcolor": "white",
            "linecolor": "white",
            "ticks": ""
           },
           "bgcolor": "#E5ECF6",
           "caxis": {
            "gridcolor": "white",
            "linecolor": "white",
            "ticks": ""
           }
          },
          "title": {
           "x": 0.05
          },
          "xaxis": {
           "automargin": true,
           "gridcolor": "white",
           "linecolor": "white",
           "ticks": "",
           "title": {
            "standoff": 15
           },
           "zerolinecolor": "white",
           "zerolinewidth": 2
          },
          "yaxis": {
           "automargin": true,
           "gridcolor": "white",
           "linecolor": "white",
           "ticks": "",
           "title": {
            "standoff": 15
           },
           "zerolinecolor": "white",
           "zerolinewidth": 2
          }
         }
        }
       }
      }
     },
     "metadata": {},
     "output_type": "display_data"
    }
   ],
   "source": [
    "fig = px.scatter_matrix(merged[['score', 'amount_received', 'amount_received_in_round', 'contribution_count']])\n",
    "fig.show()"
   ]
  }
 ],
 "metadata": {
  "kernelspec": {
   "display_name": "Python 3.7.9 64-bit",
   "language": "python",
   "name": "python3"
  },
  "language_info": {
   "codemirror_mode": {
    "name": "ipython",
    "version": 3
   },
   "file_extension": ".py",
   "mimetype": "text/x-python",
   "name": "python",
   "nbconvert_exporter": "python",
   "pygments_lexer": "ipython3",
   "version": "3.7.9"
  },
  "orig_nbformat": 4,
  "vscode": {
   "interpreter": {
    "hash": "aee8b7b246df8f9039afb4144a1f6fd8d2ca17a180786b69acc140d282b71a49"
   }
  }
 },
 "nbformat": 4,
 "nbformat_minor": 2
}
