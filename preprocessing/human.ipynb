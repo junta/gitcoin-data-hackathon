{
 "cells": [
  {
   "cell_type": "code",
   "execution_count": 3,
   "metadata": {},
   "outputs": [],
   "source": [
    "import pandas as pd\n",
    "pd.set_option(\"display.max_colwidth\", 400)\n",
    "pd.set_option('display.max_columns', 50)\n",
    "from matplotlib import pyplot as plt\n",
    "import plotly.express as px"
   ]
  },
  {
   "cell_type": "code",
   "execution_count": 18,
   "metadata": {},
   "outputs": [
    {
     "data": {
      "text/html": [
       "<div>\n",
       "<style scoped>\n",
       "    .dataframe tbody tr th:only-of-type {\n",
       "        vertical-align: middle;\n",
       "    }\n",
       "\n",
       "    .dataframe tbody tr th {\n",
       "        vertical-align: top;\n",
       "    }\n",
       "\n",
       "    .dataframe thead th {\n",
       "        text-align: right;\n",
       "    }\n",
       "</style>\n",
       "<table border=\"1\" class=\"dataframe\">\n",
       "  <thead>\n",
       "    <tr style=\"text-align: right;\">\n",
       "      <th></th>\n",
       "      <th>grant_id</th>\n",
       "      <th>github_project_url</th>\n",
       "      <th>returncode</th>\n",
       "      <th>stdout</th>\n",
       "      <th>status_code</th>\n",
       "    </tr>\n",
       "  </thead>\n",
       "  <tbody>\n",
       "    <tr>\n",
       "      <th>1</th>\n",
       "      <td>7974</td>\n",
       "      <td>https://github.com/Sol-DAO</td>\n",
       "      <td>1</td>\n",
       "      <td>NaN</td>\n",
       "      <td>200</td>\n",
       "    </tr>\n",
       "    <tr>\n",
       "      <th>2</th>\n",
       "      <td>7953</td>\n",
       "      <td>https://github.com/lexdao</td>\n",
       "      <td>1</td>\n",
       "      <td>NaN</td>\n",
       "      <td>200</td>\n",
       "    </tr>\n",
       "    <tr>\n",
       "      <th>3</th>\n",
       "      <td>7939</td>\n",
       "      <td>https://github.com/braincubation</td>\n",
       "      <td>1</td>\n",
       "      <td>NaN</td>\n",
       "      <td>200</td>\n",
       "    </tr>\n",
       "    <tr>\n",
       "      <th>6</th>\n",
       "      <td>7928</td>\n",
       "      <td>https://github.com/projection-finance/</td>\n",
       "      <td>1</td>\n",
       "      <td>NaN</td>\n",
       "      <td>200</td>\n",
       "    </tr>\n",
       "    <tr>\n",
       "      <th>7</th>\n",
       "      <td>7925</td>\n",
       "      <td>https://github.com/UPYouthDAO</td>\n",
       "      <td>1</td>\n",
       "      <td>NaN</td>\n",
       "      <td>200</td>\n",
       "    </tr>\n",
       "  </tbody>\n",
       "</table>\n",
       "</div>"
      ],
      "text/plain": [
       "   grant_id                      github_project_url  returncode stdout  \\\n",
       "1      7974              https://github.com/Sol-DAO           1    NaN   \n",
       "2      7953               https://github.com/lexdao           1    NaN   \n",
       "3      7939        https://github.com/braincubation           1    NaN   \n",
       "6      7928  https://github.com/projection-finance/           1    NaN   \n",
       "7      7925           https://github.com/UPYouthDAO           1    NaN   \n",
       "\n",
       "   status_code  \n",
       "1          200  \n",
       "2          200  \n",
       "3          200  \n",
       "6          200  \n",
       "7          200  "
      ]
     },
     "execution_count": 18,
     "metadata": {},
     "output_type": "execute_result"
    }
   ],
   "source": [
    "repository_score = pd.read_csv('../github/repository_score.csv') \n",
    "# repository_score.info()\n",
    "# repository_score[repository_score['status_code'] == 404].head()\n",
    "repository_score[(repository_score['status_code'] == 200) & (repository_score['returncode'] == 1)].head()\n"
   ]
  },
  {
   "cell_type": "code",
   "execution_count": 19,
   "metadata": {},
   "outputs": [
    {
     "name": "stderr",
     "output_type": "stream",
     "text": [
      "/Users/okudajunta/Library/Python/3.7/lib/python/site-packages/ipykernel_launcher.py:2: SettingWithCopyWarning: \n",
      "A value is trying to be set on a copy of a slice from a DataFrame.\n",
      "Try using .loc[row_indexer,col_indexer] = value instead\n",
      "\n",
      "See the caveats in the documentation: https://pandas.pydata.org/pandas-docs/stable/user_guide/indexing.html#returning-a-view-versus-a-copy\n",
      "  \n",
      "/Users/okudajunta/Library/Python/3.7/lib/python/site-packages/ipykernel_launcher.py:3: SettingWithCopyWarning: \n",
      "A value is trying to be set on a copy of a slice from a DataFrame.\n",
      "Try using .loc[row_indexer,col_indexer] = value instead\n",
      "\n",
      "See the caveats in the documentation: https://pandas.pydata.org/pandas-docs/stable/user_guide/indexing.html#returning-a-view-versus-a-copy\n",
      "  This is separate from the ipykernel package so we can avoid doing imports until\n"
     ]
    },
    {
     "data": {
      "text/html": [
       "<div>\n",
       "<style scoped>\n",
       "    .dataframe tbody tr th:only-of-type {\n",
       "        vertical-align: middle;\n",
       "    }\n",
       "\n",
       "    .dataframe tbody tr th {\n",
       "        vertical-align: top;\n",
       "    }\n",
       "\n",
       "    .dataframe thead th {\n",
       "        text-align: right;\n",
       "    }\n",
       "</style>\n",
       "<table border=\"1\" class=\"dataframe\">\n",
       "  <thead>\n",
       "    <tr style=\"text-align: right;\">\n",
       "      <th></th>\n",
       "      <th>grant_id</th>\n",
       "      <th>github_project_url</th>\n",
       "      <th>returncode</th>\n",
       "      <th>stdout</th>\n",
       "      <th>status_code</th>\n",
       "      <th>score</th>\n",
       "    </tr>\n",
       "  </thead>\n",
       "  <tbody>\n",
       "    <tr>\n",
       "      <th>4</th>\n",
       "      <td>7933</td>\n",
       "      <td>https://github.com/Gerkep/Staverse</td>\n",
       "      <td>0</td>\n",
       "      <td>name: Staverse\\nurl: https://github.com/Gerkep/Staverse\\nlanguage: TypeScript\\ncreated_since: 2\\nupdated_since: 1\\ncontributor_count: 1\\norg_count: 0\\ncommit_frequency: 0.8\\nrecent_releases_count: 0\\nupdated_issues_count: 0\\nclosed_issues_count: 0\\ncomment_frequency: 0\\ndependents_count: 0\\ncriticality_score: 0.0391\\n</td>\n",
       "      <td>200</td>\n",
       "      <td>0.03910</td>\n",
       "    </tr>\n",
       "    <tr>\n",
       "      <th>5</th>\n",
       "      <td>7929</td>\n",
       "      <td>https://github.com/Shaoho-Lab/Lyon-web</td>\n",
       "      <td>0</td>\n",
       "      <td>name: Yes3-web\\nurl: https://github.com/Shaoho-Lab/Yes3-web\\nlanguage: TypeScript\\ncreated_since: 1\\nupdated_since: 1\\ncontributor_count: 3\\norg_count: 1\\ncommit_frequency: 1.7\\nrecent_releases_count: 0\\nupdated_issues_count: 0\\nclosed_issues_count: 0\\ncomment_frequency: 0\\ndependents_count: 0\\ncriticality_score: 0.08922\\n</td>\n",
       "      <td>200</td>\n",
       "      <td>0.08922</td>\n",
       "    </tr>\n",
       "    <tr>\n",
       "      <th>8</th>\n",
       "      <td>7914</td>\n",
       "      <td>https://github.com/dnllvrvz/BioData-Inquiry</td>\n",
       "      <td>0</td>\n",
       "      <td>name: BioData-Inquiry\\nurl: https://github.com/dnllvrvz/BioData-Inquiry\\nlanguage: C++\\ncreated_since: 14\\nupdated_since: 3\\ncontributor_count: 1\\norg_count: 0\\ncommit_frequency: 0.1\\nrecent_releases_count: 0\\nupdated_issues_count: 0\\nclosed_issues_count: 0\\ncomment_frequency: 0\\ndependents_count: 0\\ncriticality_score: 0.0532\\n</td>\n",
       "      <td>200</td>\n",
       "      <td>0.05320</td>\n",
       "    </tr>\n",
       "    <tr>\n",
       "      <th>10</th>\n",
       "      <td>7902</td>\n",
       "      <td>https://github.com/Nigma-Labs/Aptos-HUB</td>\n",
       "      <td>0</td>\n",
       "      <td>name: Aptos-HUB\\nurl: https://github.com/Nigma-Labs/Aptos-HUB\\nlanguage: PHP\\ncreated_since: 2\\nupdated_since: 1\\ncontributor_count: 2\\norg_count: 1\\ncommit_frequency: 0.1\\nrecent_releases_count: 0\\nupdated_issues_count: 0\\nclosed_issues_count: 0\\ncomment_frequency: 0\\ndependents_count: 0\\ncriticality_score: 0.07593\\n</td>\n",
       "      <td>200</td>\n",
       "      <td>0.07593</td>\n",
       "    </tr>\n",
       "    <tr>\n",
       "      <th>11</th>\n",
       "      <td>7898</td>\n",
       "      <td>https://github.com/MeTag-Web3/UNSD</td>\n",
       "      <td>0</td>\n",
       "      <td>name: UNSD\\nurl: https://github.com/MeTag-Web3/UNSD\\nlanguage: JavaScript\\ncreated_since: 2\\nupdated_since: 2\\ncontributor_count: 1\\norg_count: 0\\ncommit_frequency: 0.1\\nrecent_releases_count: 0\\nupdated_issues_count: 0\\nclosed_issues_count: 0\\ncomment_frequency: 0\\ndependents_count: 0\\ncriticality_score: 0.02077\\n</td>\n",
       "      <td>200</td>\n",
       "      <td>0.02077</td>\n",
       "    </tr>\n",
       "    <tr>\n",
       "      <th>17</th>\n",
       "      <td>7860</td>\n",
       "      <td>https://github.com/pluto0004/cr3ators-website</td>\n",
       "      <td>0</td>\n",
       "      <td>name: cr3ators-website\\nurl: https://github.com/pluto0004/cr3ators-website\\nlanguage: TypeScript\\ncreated_since: 2\\nupdated_since: 1\\ncontributor_count: 4\\norg_count: 2\\ncommit_frequency: 0.8\\nrecent_releases_count: 0\\nupdated_issues_count: 22\\nclosed_issues_count: 18\\ncomment_frequency: 1.0\\ndependents_count: 2\\ncriticality_score: 0.20942\\n</td>\n",
       "      <td>200</td>\n",
       "      <td>0.20942</td>\n",
       "    </tr>\n",
       "    <tr>\n",
       "      <th>22</th>\n",
       "      <td>7851</td>\n",
       "      <td>https://github.com/H1na/follow_the_black_hare_FBH</td>\n",
       "      <td>0</td>\n",
       "      <td>name: follow_the_black_hare_FBH\\nurl: https://github.com/H1na/follow_the_black_hare_FBH\\nlanguage: Ren'Py\\ncreated_since: 14\\nupdated_since: 1\\ncontributor_count: 3\\norg_count: 0\\ncommit_frequency: 0.0\\nrecent_releases_count: 0\\nupdated_issues_count: 0\\nclosed_issues_count: 0\\ncomment_frequency: 0\\ndependents_count: 4\\ncriticality_score: 0.11658\\n</td>\n",
       "      <td>200</td>\n",
       "      <td>0.11658</td>\n",
       "    </tr>\n",
       "    <tr>\n",
       "      <th>26</th>\n",
       "      <td>7825</td>\n",
       "      <td>https://github.com/EDEN-Chain/landing-page</td>\n",
       "      <td>0</td>\n",
       "      <td>name: landing-page\\nurl: https://github.com/EDEN-Chain/landing-page\\nlanguage: CSS\\ncreated_since: 3\\nupdated_since: 3\\ncontributor_count: 1\\norg_count: 0\\ncommit_frequency: 0.0\\nrecent_releases_count: 0\\nupdated_issues_count: 0\\nclosed_issues_count: 0\\ncomment_frequency: 0\\ndependents_count: 0\\ncriticality_score: 0.01915\\n</td>\n",
       "      <td>200</td>\n",
       "      <td>0.01915</td>\n",
       "    </tr>\n",
       "    <tr>\n",
       "      <th>27</th>\n",
       "      <td>7822</td>\n",
       "      <td>https://github.com/supernovahs/Zk-Voting-</td>\n",
       "      <td>0</td>\n",
       "      <td>name: Zk-Voting-\\nurl: https://github.com/supernovahs/Zk-Voting-\\nlanguage: JavaScript\\ncreated_since: 3\\nupdated_since: 0\\ncontributor_count: 5\\norg_count: 1\\ncommit_frequency: 1.5\\nrecent_releases_count: 0\\nupdated_issues_count: 23\\nclosed_issues_count: 14\\ncomment_frequency: 0.7\\ndependents_count: 0\\ncriticality_score: 0.19628\\n</td>\n",
       "      <td>200</td>\n",
       "      <td>0.19628</td>\n",
       "    </tr>\n",
       "    <tr>\n",
       "      <th>30</th>\n",
       "      <td>7807</td>\n",
       "      <td>https://github.com/Anthropogenic/earth.api</td>\n",
       "      <td>0</td>\n",
       "      <td>name: earth.api\\nurl: https://github.com/Anthropogenic/earth.api\\nlanguage: JavaScript\\ncreated_since: 7\\nupdated_since: 2\\ncontributor_count: 1\\norg_count: 1\\ncommit_frequency: 2.4\\nrecent_releases_count: 1\\nupdated_issues_count: 19\\nclosed_issues_count: 7\\ncomment_frequency: 1.0\\ndependents_count: 0\\ncriticality_score: 0.17489\\n</td>\n",
       "      <td>200</td>\n",
       "      <td>0.17489</td>\n",
       "    </tr>\n",
       "    <tr>\n",
       "      <th>31</th>\n",
       "      <td>7798</td>\n",
       "      <td>https://github.com/Soptq/forta-bot-myth</td>\n",
       "      <td>0</td>\n",
       "      <td>name: forta-bot-myth\\nurl: https://github.com/Soptq/forta-bot-myth\\nlanguage: None\\ncreated_since: 1\\nupdated_since: 1\\ncontributor_count: 1\\norg_count: 0\\ncommit_frequency: 0.0\\nrecent_releases_count: 0\\nupdated_issues_count: 0\\nclosed_issues_count: 0\\ncomment_frequency: 0\\ndependents_count: 0\\ncriticality_score: 0.01915\\n</td>\n",
       "      <td>200</td>\n",
       "      <td>0.01915</td>\n",
       "    </tr>\n",
       "    <tr>\n",
       "      <th>32</th>\n",
       "      <td>7793</td>\n",
       "      <td>https://github.com/ghking1/talentale</td>\n",
       "      <td>0</td>\n",
       "      <td>name: talentale\\nurl: https://github.com/ghking1/talentale\\nlanguage: JavaScript\\ncreated_since: 5\\nupdated_since: 5\\ncontributor_count: 1\\norg_count: 0\\ncommit_frequency: 0.1\\nrecent_releases_count: 0\\nupdated_issues_count: 0\\nclosed_issues_count: 0\\ncomment_frequency: 0\\ndependents_count: 0\\ncriticality_score: 0.02077\\n</td>\n",
       "      <td>200</td>\n",
       "      <td>0.02077</td>\n",
       "    </tr>\n",
       "    <tr>\n",
       "      <th>33</th>\n",
       "      <td>7791</td>\n",
       "      <td>https://github.com/DefiLlama/chainlist</td>\n",
       "      <td>0</td>\n",
       "      <td>name: chainlist\\nurl: https://github.com/DefiLlama/chainlist\\nlanguage: JavaScript\\ncreated_since: 20\\nupdated_since: 0\\ncontributor_count: 100\\norg_count: 3\\ncommit_frequency: 4.0\\nrecent_releases_count: 0\\nupdated_issues_count: 85\\nclosed_issues_count: 81\\ncomment_frequency: 1.8\\ndependents_count: 0\\ncriticality_score: 0.40249\\n</td>\n",
       "      <td>200</td>\n",
       "      <td>0.40249</td>\n",
       "    </tr>\n",
       "    <tr>\n",
       "      <th>38</th>\n",
       "      <td>7766</td>\n",
       "      <td>https://github.com/IKalonji/CooperDB</td>\n",
       "      <td>0</td>\n",
       "      <td>name: CooperDB\\nurl: https://github.com/IKalonji/CooperDB\\nlanguage: Python\\ncreated_since: 2\\nupdated_since: 1\\ncontributor_count: 3\\norg_count: 0\\ncommit_frequency: 0.6\\nrecent_releases_count: 0\\nupdated_issues_count: 0\\nclosed_issues_count: 0\\ncomment_frequency: 0\\ndependents_count: 3\\ncriticality_score: 0.0811\\n</td>\n",
       "      <td>200</td>\n",
       "      <td>0.08110</td>\n",
       "    </tr>\n",
       "    <tr>\n",
       "      <th>41</th>\n",
       "      <td>7759</td>\n",
       "      <td>https://github.com/tic-tac-token/ttt-book</td>\n",
       "      <td>0</td>\n",
       "      <td>name: ttt-book\\nurl: https://github.com/tic-tac-token/ttt-book\\nlanguage: Dockerfile\\ncreated_since: 7\\nupdated_since: 5\\ncontributor_count: 2\\norg_count: 1\\ncommit_frequency: 0.6\\nrecent_releases_count: 0\\nupdated_issues_count: 5\\nclosed_issues_count: 0\\ncomment_frequency: 0.0\\ndependents_count: 0\\ncriticality_score: 0.09179\\n</td>\n",
       "      <td>200</td>\n",
       "      <td>0.09179</td>\n",
       "    </tr>\n",
       "    <tr>\n",
       "      <th>43</th>\n",
       "      <td>7750</td>\n",
       "      <td>https://github.com/0xngmi/tubby-lending</td>\n",
       "      <td>0</td>\n",
       "      <td>name: contracts\\nurl: https://github.com/LlamaLend/contracts\\nlanguage: Solidity\\ncreated_since: 3\\nupdated_since: 0\\ncontributor_count: 4\\norg_count: 1\\ncommit_frequency: 1.9\\nrecent_releases_count: 0\\nupdated_issues_count: 9\\nclosed_issues_count: 6\\ncomment_frequency: 1.6\\ndependents_count: 0\\ncriticality_score: 0.20049\\n</td>\n",
       "      <td>200</td>\n",
       "      <td>0.20049</td>\n",
       "    </tr>\n",
       "    <tr>\n",
       "      <th>46</th>\n",
       "      <td>7734</td>\n",
       "      <td>https://github.com/kempsterrrr/P3RKS</td>\n",
       "      <td>0</td>\n",
       "      <td>name: P3RKS\\nurl: https://github.com/kempsterrrr/P3RKS\\nlanguage: TypeScript\\ncreated_since: 6\\nupdated_since: 2\\ncontributor_count: 3\\norg_count: 2\\ncommit_frequency: 3.2\\nrecent_releases_count: 0\\nupdated_issues_count: 16\\nclosed_issues_count: 12\\ncomment_frequency: 0.9\\ndependents_count: 0\\ncriticality_score: 0.20194\\n</td>\n",
       "      <td>200</td>\n",
       "      <td>0.20194</td>\n",
       "    </tr>\n",
       "    <tr>\n",
       "      <th>48</th>\n",
       "      <td>7724</td>\n",
       "      <td>https://github.com/igar1991/swarm-wiki</td>\n",
       "      <td>0</td>\n",
       "      <td>name: swarm-wiki\\nurl: https://github.com/igar1991/swarm-wiki\\nlanguage: JavaScript\\ncreated_since: 4\\nupdated_since: 2\\ncontributor_count: 1\\norg_count: 0\\ncommit_frequency: 2.3\\nrecent_releases_count: 0\\nupdated_issues_count: 1\\nclosed_issues_count: 1\\ncomment_frequency: 0.0\\ndependents_count: 0\\ncriticality_score: 0.06158\\n</td>\n",
       "      <td>200</td>\n",
       "      <td>0.06158</td>\n",
       "    </tr>\n",
       "    <tr>\n",
       "      <th>51</th>\n",
       "      <td>7719</td>\n",
       "      <td>https://github.com/EsyWin/discord-google-calendar</td>\n",
       "      <td>0</td>\n",
       "      <td>name: discord-google-calendar\\nurl: https://github.com/EsyWin/discord-google-calendar\\nlanguage: TypeScript\\ncreated_since: 1\\nupdated_since: 1\\ncontributor_count: 1\\norg_count: 0\\ncommit_frequency: 0.1\\nrecent_releases_count: 0\\nupdated_issues_count: 1\\nclosed_issues_count: 0\\ncomment_frequency: 0.0\\ndependents_count: 0\\ncriticality_score: 0.02556\\n</td>\n",
       "      <td>200</td>\n",
       "      <td>0.02556</td>\n",
       "    </tr>\n",
       "    <tr>\n",
       "      <th>52</th>\n",
       "      <td>7716</td>\n",
       "      <td>https://github.com/asteroid-dao/weavedb</td>\n",
       "      <td>0</td>\n",
       "      <td>name: weavedb\\nurl: https://github.com/weavedb/weavedb\\nlanguage: JavaScript\\ncreated_since: 4\\nupdated_since: 0\\ncontributor_count: 1\\norg_count: 1\\ncommit_frequency: 1.8\\nrecent_releases_count: 0\\nupdated_issues_count: 65\\nclosed_issues_count: 63\\ncomment_frequency: 0.0\\ndependents_count: 0\\ncriticality_score: 0.16783\\n</td>\n",
       "      <td>200</td>\n",
       "      <td>0.16783</td>\n",
       "    </tr>\n",
       "  </tbody>\n",
       "</table>\n",
       "</div>"
      ],
      "text/plain": [
       "    grant_id                                 github_project_url  returncode  \\\n",
       "4       7933                 https://github.com/Gerkep/Staverse           0   \n",
       "5       7929             https://github.com/Shaoho-Lab/Lyon-web           0   \n",
       "8       7914        https://github.com/dnllvrvz/BioData-Inquiry           0   \n",
       "10      7902            https://github.com/Nigma-Labs/Aptos-HUB           0   \n",
       "11      7898                 https://github.com/MeTag-Web3/UNSD           0   \n",
       "17      7860      https://github.com/pluto0004/cr3ators-website           0   \n",
       "22      7851  https://github.com/H1na/follow_the_black_hare_FBH           0   \n",
       "26      7825         https://github.com/EDEN-Chain/landing-page           0   \n",
       "27      7822          https://github.com/supernovahs/Zk-Voting-           0   \n",
       "30      7807         https://github.com/Anthropogenic/earth.api           0   \n",
       "31      7798            https://github.com/Soptq/forta-bot-myth           0   \n",
       "32      7793               https://github.com/ghking1/talentale           0   \n",
       "33      7791             https://github.com/DefiLlama/chainlist           0   \n",
       "38      7766               https://github.com/IKalonji/CooperDB           0   \n",
       "41      7759          https://github.com/tic-tac-token/ttt-book           0   \n",
       "43      7750            https://github.com/0xngmi/tubby-lending           0   \n",
       "46      7734               https://github.com/kempsterrrr/P3RKS           0   \n",
       "48      7724             https://github.com/igar1991/swarm-wiki           0   \n",
       "51      7719  https://github.com/EsyWin/discord-google-calendar           0   \n",
       "52      7716            https://github.com/asteroid-dao/weavedb           0   \n",
       "\n",
       "                                                                                                                                                                                                                                                                                                                                                              stdout  \\\n",
       "4                                    name: Staverse\\nurl: https://github.com/Gerkep/Staverse\\nlanguage: TypeScript\\ncreated_since: 2\\nupdated_since: 1\\ncontributor_count: 1\\norg_count: 0\\ncommit_frequency: 0.8\\nrecent_releases_count: 0\\nupdated_issues_count: 0\\nclosed_issues_count: 0\\ncomment_frequency: 0\\ndependents_count: 0\\ncriticality_score: 0.0391\\n   \n",
       "5                               name: Yes3-web\\nurl: https://github.com/Shaoho-Lab/Yes3-web\\nlanguage: TypeScript\\ncreated_since: 1\\nupdated_since: 1\\ncontributor_count: 3\\norg_count: 1\\ncommit_frequency: 1.7\\nrecent_releases_count: 0\\nupdated_issues_count: 0\\nclosed_issues_count: 0\\ncomment_frequency: 0\\ndependents_count: 0\\ncriticality_score: 0.08922\\n   \n",
       "8                          name: BioData-Inquiry\\nurl: https://github.com/dnllvrvz/BioData-Inquiry\\nlanguage: C++\\ncreated_since: 14\\nupdated_since: 3\\ncontributor_count: 1\\norg_count: 0\\ncommit_frequency: 0.1\\nrecent_releases_count: 0\\nupdated_issues_count: 0\\nclosed_issues_count: 0\\ncomment_frequency: 0\\ndependents_count: 0\\ncriticality_score: 0.0532\\n   \n",
       "10                                   name: Aptos-HUB\\nurl: https://github.com/Nigma-Labs/Aptos-HUB\\nlanguage: PHP\\ncreated_since: 2\\nupdated_since: 1\\ncontributor_count: 2\\norg_count: 1\\ncommit_frequency: 0.1\\nrecent_releases_count: 0\\nupdated_issues_count: 0\\nclosed_issues_count: 0\\ncomment_frequency: 0\\ndependents_count: 0\\ncriticality_score: 0.07593\\n   \n",
       "11                                      name: UNSD\\nurl: https://github.com/MeTag-Web3/UNSD\\nlanguage: JavaScript\\ncreated_since: 2\\nupdated_since: 2\\ncontributor_count: 1\\norg_count: 0\\ncommit_frequency: 0.1\\nrecent_releases_count: 0\\nupdated_issues_count: 0\\nclosed_issues_count: 0\\ncomment_frequency: 0\\ndependents_count: 0\\ncriticality_score: 0.02077\\n   \n",
       "17           name: cr3ators-website\\nurl: https://github.com/pluto0004/cr3ators-website\\nlanguage: TypeScript\\ncreated_since: 2\\nupdated_since: 1\\ncontributor_count: 4\\norg_count: 2\\ncommit_frequency: 0.8\\nrecent_releases_count: 0\\nupdated_issues_count: 22\\nclosed_issues_count: 18\\ncomment_frequency: 1.0\\ndependents_count: 2\\ncriticality_score: 0.20942\\n   \n",
       "22     name: follow_the_black_hare_FBH\\nurl: https://github.com/H1na/follow_the_black_hare_FBH\\nlanguage: Ren'Py\\ncreated_since: 14\\nupdated_since: 1\\ncontributor_count: 3\\norg_count: 0\\ncommit_frequency: 0.0\\nrecent_releases_count: 0\\nupdated_issues_count: 0\\nclosed_issues_count: 0\\ncomment_frequency: 0\\ndependents_count: 4\\ncriticality_score: 0.11658\\n   \n",
       "26                             name: landing-page\\nurl: https://github.com/EDEN-Chain/landing-page\\nlanguage: CSS\\ncreated_since: 3\\nupdated_since: 3\\ncontributor_count: 1\\norg_count: 0\\ncommit_frequency: 0.0\\nrecent_releases_count: 0\\nupdated_issues_count: 0\\nclosed_issues_count: 0\\ncomment_frequency: 0\\ndependents_count: 0\\ncriticality_score: 0.01915\\n   \n",
       "27                     name: Zk-Voting-\\nurl: https://github.com/supernovahs/Zk-Voting-\\nlanguage: JavaScript\\ncreated_since: 3\\nupdated_since: 0\\ncontributor_count: 5\\norg_count: 1\\ncommit_frequency: 1.5\\nrecent_releases_count: 0\\nupdated_issues_count: 23\\nclosed_issues_count: 14\\ncomment_frequency: 0.7\\ndependents_count: 0\\ncriticality_score: 0.19628\\n   \n",
       "30                      name: earth.api\\nurl: https://github.com/Anthropogenic/earth.api\\nlanguage: JavaScript\\ncreated_since: 7\\nupdated_since: 2\\ncontributor_count: 1\\norg_count: 1\\ncommit_frequency: 2.4\\nrecent_releases_count: 1\\nupdated_issues_count: 19\\nclosed_issues_count: 7\\ncomment_frequency: 1.0\\ndependents_count: 0\\ncriticality_score: 0.17489\\n   \n",
       "31                             name: forta-bot-myth\\nurl: https://github.com/Soptq/forta-bot-myth\\nlanguage: None\\ncreated_since: 1\\nupdated_since: 1\\ncontributor_count: 1\\norg_count: 0\\ncommit_frequency: 0.0\\nrecent_releases_count: 0\\nupdated_issues_count: 0\\nclosed_issues_count: 0\\ncomment_frequency: 0\\ndependents_count: 0\\ncriticality_score: 0.01915\\n   \n",
       "32                               name: talentale\\nurl: https://github.com/ghking1/talentale\\nlanguage: JavaScript\\ncreated_since: 5\\nupdated_since: 5\\ncontributor_count: 1\\norg_count: 0\\ncommit_frequency: 0.1\\nrecent_releases_count: 0\\nupdated_issues_count: 0\\nclosed_issues_count: 0\\ncomment_frequency: 0\\ndependents_count: 0\\ncriticality_score: 0.02077\\n   \n",
       "33                      name: chainlist\\nurl: https://github.com/DefiLlama/chainlist\\nlanguage: JavaScript\\ncreated_since: 20\\nupdated_since: 0\\ncontributor_count: 100\\norg_count: 3\\ncommit_frequency: 4.0\\nrecent_releases_count: 0\\nupdated_issues_count: 85\\nclosed_issues_count: 81\\ncomment_frequency: 1.8\\ndependents_count: 0\\ncriticality_score: 0.40249\\n   \n",
       "38                                     name: CooperDB\\nurl: https://github.com/IKalonji/CooperDB\\nlanguage: Python\\ncreated_since: 2\\nupdated_since: 1\\ncontributor_count: 3\\norg_count: 0\\ncommit_frequency: 0.6\\nrecent_releases_count: 0\\nupdated_issues_count: 0\\nclosed_issues_count: 0\\ncomment_frequency: 0\\ndependents_count: 3\\ncriticality_score: 0.0811\\n   \n",
       "41                         name: ttt-book\\nurl: https://github.com/tic-tac-token/ttt-book\\nlanguage: Dockerfile\\ncreated_since: 7\\nupdated_since: 5\\ncontributor_count: 2\\norg_count: 1\\ncommit_frequency: 0.6\\nrecent_releases_count: 0\\nupdated_issues_count: 5\\nclosed_issues_count: 0\\ncomment_frequency: 0.0\\ndependents_count: 0\\ncriticality_score: 0.09179\\n   \n",
       "43                             name: contracts\\nurl: https://github.com/LlamaLend/contracts\\nlanguage: Solidity\\ncreated_since: 3\\nupdated_since: 0\\ncontributor_count: 4\\norg_count: 1\\ncommit_frequency: 1.9\\nrecent_releases_count: 0\\nupdated_issues_count: 9\\nclosed_issues_count: 6\\ncomment_frequency: 1.6\\ndependents_count: 0\\ncriticality_score: 0.20049\\n   \n",
       "46                               name: P3RKS\\nurl: https://github.com/kempsterrrr/P3RKS\\nlanguage: TypeScript\\ncreated_since: 6\\nupdated_since: 2\\ncontributor_count: 3\\norg_count: 2\\ncommit_frequency: 3.2\\nrecent_releases_count: 0\\nupdated_issues_count: 16\\nclosed_issues_count: 12\\ncomment_frequency: 0.9\\ndependents_count: 0\\ncriticality_score: 0.20194\\n   \n",
       "48                          name: swarm-wiki\\nurl: https://github.com/igar1991/swarm-wiki\\nlanguage: JavaScript\\ncreated_since: 4\\nupdated_since: 2\\ncontributor_count: 1\\norg_count: 0\\ncommit_frequency: 2.3\\nrecent_releases_count: 0\\nupdated_issues_count: 1\\nclosed_issues_count: 1\\ncomment_frequency: 0.0\\ndependents_count: 0\\ncriticality_score: 0.06158\\n   \n",
       "51  name: discord-google-calendar\\nurl: https://github.com/EsyWin/discord-google-calendar\\nlanguage: TypeScript\\ncreated_since: 1\\nupdated_since: 1\\ncontributor_count: 1\\norg_count: 0\\ncommit_frequency: 0.1\\nrecent_releases_count: 0\\nupdated_issues_count: 1\\nclosed_issues_count: 0\\ncomment_frequency: 0.0\\ndependents_count: 0\\ncriticality_score: 0.02556\\n   \n",
       "52                               name: weavedb\\nurl: https://github.com/weavedb/weavedb\\nlanguage: JavaScript\\ncreated_since: 4\\nupdated_since: 0\\ncontributor_count: 1\\norg_count: 1\\ncommit_frequency: 1.8\\nrecent_releases_count: 0\\nupdated_issues_count: 65\\nclosed_issues_count: 63\\ncomment_frequency: 0.0\\ndependents_count: 0\\ncriticality_score: 0.16783\\n   \n",
       "\n",
       "    status_code    score  \n",
       "4           200  0.03910  \n",
       "5           200  0.08922  \n",
       "8           200  0.05320  \n",
       "10          200  0.07593  \n",
       "11          200  0.02077  \n",
       "17          200  0.20942  \n",
       "22          200  0.11658  \n",
       "26          200  0.01915  \n",
       "27          200  0.19628  \n",
       "30          200  0.17489  \n",
       "31          200  0.01915  \n",
       "32          200  0.02077  \n",
       "33          200  0.40249  \n",
       "38          200  0.08110  \n",
       "41          200  0.09179  \n",
       "43          200  0.20049  \n",
       "46          200  0.20194  \n",
       "48          200  0.06158  \n",
       "51          200  0.02556  \n",
       "52          200  0.16783  "
      ]
     },
     "execution_count": 19,
     "metadata": {},
     "output_type": "execute_result"
    }
   ],
   "source": [
    "valid_repo = repository_score[repository_score['returncode'] == 0]\n",
    "valid_repo['score'] = valid_repo['stdout'].str[-8:-1]\n",
    "valid_repo['score'] = valid_repo['score'].str.strip(':').astype(float)\n",
    "valid_repo.head(20)\n",
    "#valid_repo.to_csv('./github/valid_repos.csv')"
   ]
  },
  {
   "cell_type": "code",
   "execution_count": 20,
   "metadata": {},
   "outputs": [
    {
     "data": {
      "text/html": [
       "<div>\n",
       "<style scoped>\n",
       "    .dataframe tbody tr th:only-of-type {\n",
       "        vertical-align: middle;\n",
       "    }\n",
       "\n",
       "    .dataframe tbody tr th {\n",
       "        vertical-align: top;\n",
       "    }\n",
       "\n",
       "    .dataframe thead th {\n",
       "        text-align: right;\n",
       "    }\n",
       "</style>\n",
       "<table border=\"1\" class=\"dataframe\">\n",
       "  <thead>\n",
       "    <tr style=\"text-align: right;\">\n",
       "      <th></th>\n",
       "      <th>grant_id</th>\n",
       "      <th>github_project_url</th>\n",
       "      <th>returncode</th>\n",
       "      <th>stdout</th>\n",
       "      <th>status_code</th>\n",
       "      <th>score</th>\n",
       "    </tr>\n",
       "  </thead>\n",
       "  <tbody>\n",
       "    <tr>\n",
       "      <th>17</th>\n",
       "      <td>7860</td>\n",
       "      <td>https://github.com/pluto0004/cr3ators-website</td>\n",
       "      <td>0</td>\n",
       "      <td>name: cr3ators-website\\nurl: https://github.com/pluto0004/cr3ators-website\\nlanguage: TypeScript\\ncreated_since: 2\\nupdated_since: 1\\ncontributor_count: 4\\norg_count: 2\\ncommit_frequency: 0.8\\nrecent_releases_count: 0\\nupdated_issues_count: 22\\nclosed_issues_count: 18\\ncomment_frequency: 1.0\\ndependents_count: 2\\ncriticality_score: 0.20942\\n</td>\n",
       "      <td>200</td>\n",
       "      <td>0.20942</td>\n",
       "    </tr>\n",
       "    <tr>\n",
       "      <th>22</th>\n",
       "      <td>7851</td>\n",
       "      <td>https://github.com/H1na/follow_the_black_hare_FBH</td>\n",
       "      <td>0</td>\n",
       "      <td>name: follow_the_black_hare_FBH\\nurl: https://github.com/H1na/follow_the_black_hare_FBH\\nlanguage: Ren'Py\\ncreated_since: 14\\nupdated_since: 1\\ncontributor_count: 3\\norg_count: 0\\ncommit_frequency: 0.0\\nrecent_releases_count: 0\\nupdated_issues_count: 0\\nclosed_issues_count: 0\\ncomment_frequency: 0\\ndependents_count: 4\\ncriticality_score: 0.11658\\n</td>\n",
       "      <td>200</td>\n",
       "      <td>0.11658</td>\n",
       "    </tr>\n",
       "    <tr>\n",
       "      <th>27</th>\n",
       "      <td>7822</td>\n",
       "      <td>https://github.com/supernovahs/Zk-Voting-</td>\n",
       "      <td>0</td>\n",
       "      <td>name: Zk-Voting-\\nurl: https://github.com/supernovahs/Zk-Voting-\\nlanguage: JavaScript\\ncreated_since: 3\\nupdated_since: 0\\ncontributor_count: 5\\norg_count: 1\\ncommit_frequency: 1.5\\nrecent_releases_count: 0\\nupdated_issues_count: 23\\nclosed_issues_count: 14\\ncomment_frequency: 0.7\\ndependents_count: 0\\ncriticality_score: 0.19628\\n</td>\n",
       "      <td>200</td>\n",
       "      <td>0.19628</td>\n",
       "    </tr>\n",
       "    <tr>\n",
       "      <th>30</th>\n",
       "      <td>7807</td>\n",
       "      <td>https://github.com/Anthropogenic/earth.api</td>\n",
       "      <td>0</td>\n",
       "      <td>name: earth.api\\nurl: https://github.com/Anthropogenic/earth.api\\nlanguage: JavaScript\\ncreated_since: 7\\nupdated_since: 2\\ncontributor_count: 1\\norg_count: 1\\ncommit_frequency: 2.4\\nrecent_releases_count: 1\\nupdated_issues_count: 19\\nclosed_issues_count: 7\\ncomment_frequency: 1.0\\ndependents_count: 0\\ncriticality_score: 0.17489\\n</td>\n",
       "      <td>200</td>\n",
       "      <td>0.17489</td>\n",
       "    </tr>\n",
       "    <tr>\n",
       "      <th>41</th>\n",
       "      <td>7759</td>\n",
       "      <td>https://github.com/tic-tac-token/ttt-book</td>\n",
       "      <td>0</td>\n",
       "      <td>name: ttt-book\\nurl: https://github.com/tic-tac-token/ttt-book\\nlanguage: Dockerfile\\ncreated_since: 7\\nupdated_since: 5\\ncontributor_count: 2\\norg_count: 1\\ncommit_frequency: 0.6\\nrecent_releases_count: 0\\nupdated_issues_count: 5\\nclosed_issues_count: 0\\ncomment_frequency: 0.0\\ndependents_count: 0\\ncriticality_score: 0.09179\\n</td>\n",
       "      <td>200</td>\n",
       "      <td>0.09179</td>\n",
       "    </tr>\n",
       "    <tr>\n",
       "      <th>...</th>\n",
       "      <td>...</td>\n",
       "      <td>...</td>\n",
       "      <td>...</td>\n",
       "      <td>...</td>\n",
       "      <td>...</td>\n",
       "      <td>...</td>\n",
       "    </tr>\n",
       "    <tr>\n",
       "      <th>865</th>\n",
       "      <td>385</td>\n",
       "      <td>https://github.com/btcven/locha</td>\n",
       "      <td>0</td>\n",
       "      <td>name: locha\\nurl: https://github.com/btcven/locha\\nlanguage: None\\ncreated_since: 51\\nupdated_since: 26\\ncontributor_count: 12\\norg_count: 1\\ncommit_frequency: 0.0\\nrecent_releases_count: 0\\nupdated_issues_count: 0\\nclosed_issues_count: 0\\ncomment_frequency: 0\\ndependents_count: 21\\ncriticality_score: 0.17637\\n</td>\n",
       "      <td>200</td>\n",
       "      <td>0.17637</td>\n",
       "    </tr>\n",
       "    <tr>\n",
       "      <th>871</th>\n",
       "      <td>337</td>\n",
       "      <td>https://github.com/couger-inc/cream</td>\n",
       "      <td>0</td>\n",
       "      <td>name: cream\\nurl: https://github.com/couger-inc/cream\\nlanguage: TypeScript\\ncreated_since: 34\\nupdated_since: 8\\ncontributor_count: 6\\norg_count: 2\\ncommit_frequency: 0.5\\nrecent_releases_count: 2\\nupdated_issues_count: 0\\nclosed_issues_count: 0\\ncomment_frequency: 0\\ndependents_count: 2\\ncriticality_score: 0.18718\\n</td>\n",
       "      <td>200</td>\n",
       "      <td>0.18718</td>\n",
       "    </tr>\n",
       "    <tr>\n",
       "      <th>874</th>\n",
       "      <td>285</td>\n",
       "      <td>https://github.com/DemocracyEarth/ubi</td>\n",
       "      <td>0</td>\n",
       "      <td>name: ubi\\nurl: https://github.com/DemocracyEarth/ubi\\nlanguage: TypeScript\\ncreated_since: 23\\nupdated_since: 6\\ncontributor_count: 13\\norg_count: 6\\ncommit_frequency: 1.1\\nrecent_releases_count: 6\\nupdated_issues_count: 0\\nclosed_issues_count: 0\\ncomment_frequency: 0\\ndependents_count: 3\\ncriticality_score: 0.27082\\n</td>\n",
       "      <td>200</td>\n",
       "      <td>0.27082</td>\n",
       "    </tr>\n",
       "    <tr>\n",
       "      <th>876</th>\n",
       "      <td>277</td>\n",
       "      <td>https://github.com/commons-stack/commons-simulator</td>\n",
       "      <td>0</td>\n",
       "      <td>name: commons-simulator\\nurl: https://github.com/commons-stack/commons-simulator\\nlanguage: Jupyter Notebook\\ncreated_since: 34\\nupdated_since: 19\\ncontributor_count: 12\\norg_count: 2\\ncommit_frequency: 0.0\\nrecent_releases_count: 0\\nupdated_issues_count: 1\\nclosed_issues_count: 0\\ncomment_frequency: 0.0\\ndependents_count: 0\\ncriticality_score: 0.14327\\n</td>\n",
       "      <td>200</td>\n",
       "      <td>0.14327</td>\n",
       "    </tr>\n",
       "    <tr>\n",
       "      <th>886</th>\n",
       "      <td>177</td>\n",
       "      <td>https://github.com/vporton/carbon-flow</td>\n",
       "      <td>0</td>\n",
       "      <td>name: carbon-flow\\nurl: https://github.com/vporton/carbon-flow\\nlanguage: Solidity\\ncreated_since: 25\\nupdated_since: 2\\ncontributor_count: 2\\norg_count: 0\\ncommit_frequency: 1.4\\nrecent_releases_count: 0\\nupdated_issues_count: 0\\nclosed_issues_count: 0\\ncomment_frequency: 0\\ndependents_count: 0\\ncriticality_score: 0.09823\\n</td>\n",
       "      <td>200</td>\n",
       "      <td>0.09823</td>\n",
       "    </tr>\n",
       "  </tbody>\n",
       "</table>\n",
       "<p>119 rows × 6 columns</p>\n",
       "</div>"
      ],
      "text/plain": [
       "     grant_id                                  github_project_url  returncode  \\\n",
       "17       7860       https://github.com/pluto0004/cr3ators-website           0   \n",
       "22       7851   https://github.com/H1na/follow_the_black_hare_FBH           0   \n",
       "27       7822           https://github.com/supernovahs/Zk-Voting-           0   \n",
       "30       7807          https://github.com/Anthropogenic/earth.api           0   \n",
       "41       7759           https://github.com/tic-tac-token/ttt-book           0   \n",
       "..        ...                                                 ...         ...   \n",
       "865       385                     https://github.com/btcven/locha           0   \n",
       "871       337                 https://github.com/couger-inc/cream           0   \n",
       "874       285               https://github.com/DemocracyEarth/ubi           0   \n",
       "876       277  https://github.com/commons-stack/commons-simulator           0   \n",
       "886       177              https://github.com/vporton/carbon-flow           0   \n",
       "\n",
       "                                                                                                                                                                                                                                                                                                                                                                   stdout  \\\n",
       "17                name: cr3ators-website\\nurl: https://github.com/pluto0004/cr3ators-website\\nlanguage: TypeScript\\ncreated_since: 2\\nupdated_since: 1\\ncontributor_count: 4\\norg_count: 2\\ncommit_frequency: 0.8\\nrecent_releases_count: 0\\nupdated_issues_count: 22\\nclosed_issues_count: 18\\ncomment_frequency: 1.0\\ndependents_count: 2\\ncriticality_score: 0.20942\\n   \n",
       "22          name: follow_the_black_hare_FBH\\nurl: https://github.com/H1na/follow_the_black_hare_FBH\\nlanguage: Ren'Py\\ncreated_since: 14\\nupdated_since: 1\\ncontributor_count: 3\\norg_count: 0\\ncommit_frequency: 0.0\\nrecent_releases_count: 0\\nupdated_issues_count: 0\\nclosed_issues_count: 0\\ncomment_frequency: 0\\ndependents_count: 4\\ncriticality_score: 0.11658\\n   \n",
       "27                          name: Zk-Voting-\\nurl: https://github.com/supernovahs/Zk-Voting-\\nlanguage: JavaScript\\ncreated_since: 3\\nupdated_since: 0\\ncontributor_count: 5\\norg_count: 1\\ncommit_frequency: 1.5\\nrecent_releases_count: 0\\nupdated_issues_count: 23\\nclosed_issues_count: 14\\ncomment_frequency: 0.7\\ndependents_count: 0\\ncriticality_score: 0.19628\\n   \n",
       "30                           name: earth.api\\nurl: https://github.com/Anthropogenic/earth.api\\nlanguage: JavaScript\\ncreated_since: 7\\nupdated_since: 2\\ncontributor_count: 1\\norg_count: 1\\ncommit_frequency: 2.4\\nrecent_releases_count: 1\\nupdated_issues_count: 19\\nclosed_issues_count: 7\\ncomment_frequency: 1.0\\ndependents_count: 0\\ncriticality_score: 0.17489\\n   \n",
       "41                              name: ttt-book\\nurl: https://github.com/tic-tac-token/ttt-book\\nlanguage: Dockerfile\\ncreated_since: 7\\nupdated_since: 5\\ncontributor_count: 2\\norg_count: 1\\ncommit_frequency: 0.6\\nrecent_releases_count: 0\\nupdated_issues_count: 5\\nclosed_issues_count: 0\\ncomment_frequency: 0.0\\ndependents_count: 0\\ncriticality_score: 0.09179\\n   \n",
       "..                                                                                                                                                                                                                                                                                                                                                                    ...   \n",
       "865                                              name: locha\\nurl: https://github.com/btcven/locha\\nlanguage: None\\ncreated_since: 51\\nupdated_since: 26\\ncontributor_count: 12\\norg_count: 1\\ncommit_frequency: 0.0\\nrecent_releases_count: 0\\nupdated_issues_count: 0\\nclosed_issues_count: 0\\ncomment_frequency: 0\\ndependents_count: 21\\ncriticality_score: 0.17637\\n   \n",
       "871                                       name: cream\\nurl: https://github.com/couger-inc/cream\\nlanguage: TypeScript\\ncreated_since: 34\\nupdated_since: 8\\ncontributor_count: 6\\norg_count: 2\\ncommit_frequency: 0.5\\nrecent_releases_count: 2\\nupdated_issues_count: 0\\nclosed_issues_count: 0\\ncomment_frequency: 0\\ndependents_count: 2\\ncriticality_score: 0.18718\\n   \n",
       "874                                      name: ubi\\nurl: https://github.com/DemocracyEarth/ubi\\nlanguage: TypeScript\\ncreated_since: 23\\nupdated_since: 6\\ncontributor_count: 13\\norg_count: 6\\ncommit_frequency: 1.1\\nrecent_releases_count: 6\\nupdated_issues_count: 0\\nclosed_issues_count: 0\\ncomment_frequency: 0\\ndependents_count: 3\\ncriticality_score: 0.27082\\n   \n",
       "876  name: commons-simulator\\nurl: https://github.com/commons-stack/commons-simulator\\nlanguage: Jupyter Notebook\\ncreated_since: 34\\nupdated_since: 19\\ncontributor_count: 12\\norg_count: 2\\ncommit_frequency: 0.0\\nrecent_releases_count: 0\\nupdated_issues_count: 1\\nclosed_issues_count: 0\\ncomment_frequency: 0.0\\ndependents_count: 0\\ncriticality_score: 0.14327\\n   \n",
       "886                                name: carbon-flow\\nurl: https://github.com/vporton/carbon-flow\\nlanguage: Solidity\\ncreated_since: 25\\nupdated_since: 2\\ncontributor_count: 2\\norg_count: 0\\ncommit_frequency: 1.4\\nrecent_releases_count: 0\\nupdated_issues_count: 0\\nclosed_issues_count: 0\\ncomment_frequency: 0\\ndependents_count: 0\\ncriticality_score: 0.09823\\n   \n",
       "\n",
       "     status_code    score  \n",
       "17           200  0.20942  \n",
       "22           200  0.11658  \n",
       "27           200  0.19628  \n",
       "30           200  0.17489  \n",
       "41           200  0.09179  \n",
       "..           ...      ...  \n",
       "865          200  0.17637  \n",
       "871          200  0.18718  \n",
       "874          200  0.27082  \n",
       "876          200  0.14327  \n",
       "886          200  0.09823  \n",
       "\n",
       "[119 rows x 6 columns]"
      ]
     },
     "execution_count": 20,
     "metadata": {},
     "output_type": "execute_result"
    }
   ],
   "source": [
    "# valid_repo[valid_repo['grant_id'] == 7692]\n",
    "# valid_repo.sort_values('score').head(20)\n",
    "valid_repo[(valid_repo['score'] > 0.09) & (valid_repo['score'] < 0.3)]"
   ]
  },
  {
   "cell_type": "code",
   "execution_count": 10,
   "metadata": {},
   "outputs": [
    {
     "data": {
      "text/html": [
       "<div>\n",
       "<style scoped>\n",
       "    .dataframe tbody tr th:only-of-type {\n",
       "        vertical-align: middle;\n",
       "    }\n",
       "\n",
       "    .dataframe tbody tr th {\n",
       "        vertical-align: top;\n",
       "    }\n",
       "\n",
       "    .dataframe thead th {\n",
       "        text-align: right;\n",
       "    }\n",
       "</style>\n",
       "<table border=\"1\" class=\"dataframe\">\n",
       "  <thead>\n",
       "    <tr style=\"text-align: right;\">\n",
       "      <th></th>\n",
       "      <th>grant_id</th>\n",
       "      <th>github_project_url</th>\n",
       "      <th>returncode</th>\n",
       "      <th>stdout</th>\n",
       "      <th>status_code</th>\n",
       "    </tr>\n",
       "  </thead>\n",
       "  <tbody>\n",
       "    <tr>\n",
       "      <th>0</th>\n",
       "      <td>7979</td>\n",
       "      <td>https://github.com/SambaGod/IkhalaPlatform</td>\n",
       "      <td>1</td>\n",
       "      <td>NaN</td>\n",
       "      <td>404</td>\n",
       "    </tr>\n",
       "    <tr>\n",
       "      <th>1</th>\n",
       "      <td>7974</td>\n",
       "      <td>https://github.com/Sol-DAO</td>\n",
       "      <td>1</td>\n",
       "      <td>NaN</td>\n",
       "      <td>200</td>\n",
       "    </tr>\n",
       "    <tr>\n",
       "      <th>2</th>\n",
       "      <td>7953</td>\n",
       "      <td>https://github.com/lexdao</td>\n",
       "      <td>1</td>\n",
       "      <td>NaN</td>\n",
       "      <td>200</td>\n",
       "    </tr>\n",
       "    <tr>\n",
       "      <th>3</th>\n",
       "      <td>7939</td>\n",
       "      <td>https://github.com/braincubation</td>\n",
       "      <td>1</td>\n",
       "      <td>NaN</td>\n",
       "      <td>200</td>\n",
       "    </tr>\n",
       "    <tr>\n",
       "      <th>4</th>\n",
       "      <td>7933</td>\n",
       "      <td>https://github.com/Gerkep/Staverse</td>\n",
       "      <td>0</td>\n",
       "      <td>name: Staverse\\nurl: https://github.com/Gerkep/Staverse\\nlanguage: TypeScript\\ncreated_since: 2\\nupdated_since: 1\\ncontributor_count: 1\\norg_count: 0\\ncommit_frequency: 0.8\\nrecent_releases_count: 0\\nupdated_issues_count: 0\\nclosed_issues_count: 0\\ncomment_frequency: 0\\ndependents_count: 0\\ncriticality_score: 0.0391\\n</td>\n",
       "      <td>200</td>\n",
       "    </tr>\n",
       "  </tbody>\n",
       "</table>\n",
       "</div>"
      ],
      "text/plain": [
       "   grant_id                          github_project_url  returncode  \\\n",
       "0      7979  https://github.com/SambaGod/IkhalaPlatform           1   \n",
       "1      7974                  https://github.com/Sol-DAO           1   \n",
       "2      7953                   https://github.com/lexdao           1   \n",
       "3      7939            https://github.com/braincubation           1   \n",
       "4      7933          https://github.com/Gerkep/Staverse           0   \n",
       "\n",
       "                                                                                                                                                                                                                                                                                                                            stdout  \\\n",
       "0                                                                                                                                                                                                                                                                                                                              NaN   \n",
       "1                                                                                                                                                                                                                                                                                                                              NaN   \n",
       "2                                                                                                                                                                                                                                                                                                                              NaN   \n",
       "3                                                                                                                                                                                                                                                                                                                              NaN   \n",
       "4  name: Staverse\\nurl: https://github.com/Gerkep/Staverse\\nlanguage: TypeScript\\ncreated_since: 2\\nupdated_since: 1\\ncontributor_count: 1\\norg_count: 0\\ncommit_frequency: 0.8\\nrecent_releases_count: 0\\nupdated_issues_count: 0\\nclosed_issues_count: 0\\ncomment_frequency: 0\\ndependents_count: 0\\ncriticality_score: 0.0391\\n   \n",
       "\n",
       "   status_code  \n",
       "0          404  \n",
       "1          200  \n",
       "2          200  \n",
       "3          200  \n",
       "4          200  "
      ]
     },
     "execution_count": 10,
     "metadata": {},
     "output_type": "execute_result"
    }
   ],
   "source": [
    "\n",
    "d = {'name': ['repo_page', 'profile_page', '404_not_found'], 'count': [0, 0, 0]}\n",
    "repo_count = pd.DataFrame(d)\n",
    "\n",
    "# repo_count.iloc[0, 1] = valid_repo.count()['grant_id']\n",
    "\n",
    "\n",
    "#repository_score[repository_score['github_project_url'].str.contains('github.com')].head()\n",
    "\n",
    "# repo_count.iloc[1, 1] = repository_score[(repository_score['status_code'] == 200) & (repository_score['returncode'] == 1)].count()['grant_id']\n",
    "\n",
    "# repo_count.iloc[2, 1] = repository_score[repository_score['status_code'] == 404].count()['grant_id']\n",
    "\n",
    "# fig = px.pie(repo_count, values='count', names='name')\n",
    "# fig.show()\n"
   ]
  },
  {
   "cell_type": "code",
   "execution_count": 22,
   "metadata": {},
   "outputs": [
    {
     "data": {
      "text/html": [
       "<div>\n",
       "<style scoped>\n",
       "    .dataframe tbody tr th:only-of-type {\n",
       "        vertical-align: middle;\n",
       "    }\n",
       "\n",
       "    .dataframe tbody tr th {\n",
       "        vertical-align: top;\n",
       "    }\n",
       "\n",
       "    .dataframe thead th {\n",
       "        text-align: right;\n",
       "    }\n",
       "</style>\n",
       "<table border=\"1\" class=\"dataframe\">\n",
       "  <thead>\n",
       "    <tr style=\"text-align: right;\">\n",
       "      <th></th>\n",
       "      <th>grant_id</th>\n",
       "      <th>github_project_url</th>\n",
       "      <th>score</th>\n",
       "    </tr>\n",
       "  </thead>\n",
       "  <tbody>\n",
       "    <tr>\n",
       "      <th>253</th>\n",
       "      <td>7174</td>\n",
       "      <td>https://github.com/teapartylife/decode-chat-app</td>\n",
       "      <td>0.01915</td>\n",
       "    </tr>\n",
       "    <tr>\n",
       "      <th>69</th>\n",
       "      <td>7658</td>\n",
       "      <td>https://github.com/Soptq/forta-bot-umbra</td>\n",
       "      <td>0.01915</td>\n",
       "    </tr>\n",
       "    <tr>\n",
       "      <th>63</th>\n",
       "      <td>7672</td>\n",
       "      <td>https://github.com/Soptq/forta-bot-contract-personation</td>\n",
       "      <td>0.01915</td>\n",
       "    </tr>\n",
       "    <tr>\n",
       "      <th>58</th>\n",
       "      <td>7692</td>\n",
       "      <td>https://github.com/0xidase/Malicious-Contract-Detector</td>\n",
       "      <td>0.01915</td>\n",
       "    </tr>\n",
       "    <tr>\n",
       "      <th>392</th>\n",
       "      <td>6308</td>\n",
       "      <td>https://github.com/secur3xyz/contracts</td>\n",
       "      <td>0.01915</td>\n",
       "    </tr>\n",
       "    <tr>\n",
       "      <th>490</th>\n",
       "      <td>5535</td>\n",
       "      <td>https://github.com/khiemdt/allchains_xyz</td>\n",
       "      <td>0.01915</td>\n",
       "    </tr>\n",
       "    <tr>\n",
       "      <th>31</th>\n",
       "      <td>7798</td>\n",
       "      <td>https://github.com/Soptq/forta-bot-myth</td>\n",
       "      <td>0.01915</td>\n",
       "    </tr>\n",
       "    <tr>\n",
       "      <th>347</th>\n",
       "      <td>6582</td>\n",
       "      <td>https://github.com/Kola-Labs/KOLA-Audio-Identity</td>\n",
       "      <td>0.01915</td>\n",
       "    </tr>\n",
       "    <tr>\n",
       "      <th>451</th>\n",
       "      <td>6009</td>\n",
       "      <td>https://github.com/markibanez/goingup-dapp-v1</td>\n",
       "      <td>0.01915</td>\n",
       "    </tr>\n",
       "    <tr>\n",
       "      <th>26</th>\n",
       "      <td>7825</td>\n",
       "      <td>https://github.com/EDEN-Chain/landing-page</td>\n",
       "      <td>0.01915</td>\n",
       "    </tr>\n",
       "  </tbody>\n",
       "</table>\n",
       "</div>"
      ],
      "text/plain": [
       "     grant_id                                       github_project_url  \\\n",
       "253      7174          https://github.com/teapartylife/decode-chat-app   \n",
       "69       7658                 https://github.com/Soptq/forta-bot-umbra   \n",
       "63       7672  https://github.com/Soptq/forta-bot-contract-personation   \n",
       "58       7692   https://github.com/0xidase/Malicious-Contract-Detector   \n",
       "392      6308                   https://github.com/secur3xyz/contracts   \n",
       "490      5535                 https://github.com/khiemdt/allchains_xyz   \n",
       "31       7798                  https://github.com/Soptq/forta-bot-myth   \n",
       "347      6582         https://github.com/Kola-Labs/KOLA-Audio-Identity   \n",
       "451      6009            https://github.com/markibanez/goingup-dapp-v1   \n",
       "26       7825               https://github.com/EDEN-Chain/landing-page   \n",
       "\n",
       "       score  \n",
       "253  0.01915  \n",
       "69   0.01915  \n",
       "63   0.01915  \n",
       "58   0.01915  \n",
       "392  0.01915  \n",
       "490  0.01915  \n",
       "31   0.01915  \n",
       "347  0.01915  \n",
       "451  0.01915  \n",
       "26   0.01915  "
      ]
     },
     "execution_count": 22,
     "metadata": {},
     "output_type": "execute_result"
    }
   ],
   "source": [
    "#valid_repo['score'].mean()\n",
    "repository_score.head()\n",
    "repository_score.groupby('returncode').count()\n",
    "# valid repo: 280\n",
    "valid_repo.sort_values('score', ascending=True).head(10)[['grant_id', 'github_project_url', 'score']]\n",
    "\n",
    "\n",
    "#show hist\n",
    "#valid_repo.describe()\n",
    "\n",
    "#fig = px.histogram(valid_repo, x=\"score\")\n",
    "#fig.show()"
   ]
  },
  {
   "cell_type": "code",
   "execution_count": 15,
   "metadata": {},
   "outputs": [
    {
     "data": {
      "text/plain": [
       "grant_id                    1502\n",
       "active                      1502\n",
       "title                       1502\n",
       "address                     1502\n",
       "amount_received             1502\n",
       "amount_received_in_round    1502\n",
       "contribution_count          1502\n",
       "contributor_count           1502\n",
       "description                 1499\n",
       "website                     1502\n",
       "github_project_url           937\n",
       "twitter_handle_2            1305\n",
       "twitter_handle_1            1475\n",
       "twitter_verified            1502\n",
       "created_on                  1502\n",
       "last_update                 1425\n",
       "dtype: int64"
      ]
     },
     "execution_count": 15,
     "metadata": {},
     "output_type": "execute_result"
    }
   ],
   "source": [
    "grants = pd.read_csv('../public_data/grants.csv') \n",
    "\n",
    "grants.count()"
   ]
  },
  {
   "cell_type": "code",
   "execution_count": 17,
   "metadata": {},
   "outputs": [
    {
     "ename": "NameError",
     "evalue": "name 'valid_repo' is not defined",
     "output_type": "error",
     "traceback": [
      "\u001b[0;31m---------------------------------------------------------------------------\u001b[0m",
      "\u001b[0;31mNameError\u001b[0m                                 Traceback (most recent call last)",
      "\u001b[0;32m/var/folders/gl/3nbwj5r1183_gfp3xql0hclr0000gn/T/ipykernel_69298/3859486365.py\u001b[0m in \u001b[0;36m<module>\u001b[0;34m\u001b[0m\n\u001b[0;32m----> 1\u001b[0;31m \u001b[0mmerged\u001b[0m \u001b[0;34m=\u001b[0m \u001b[0mpd\u001b[0m\u001b[0;34m.\u001b[0m\u001b[0mmerge\u001b[0m\u001b[0;34m(\u001b[0m\u001b[0mvalid_repo\u001b[0m\u001b[0;34m,\u001b[0m \u001b[0mgrants\u001b[0m\u001b[0;34m,\u001b[0m \u001b[0mon\u001b[0m\u001b[0;34m=\u001b[0m\u001b[0;34m'grant_id'\u001b[0m\u001b[0;34m)\u001b[0m\u001b[0;34m\u001b[0m\u001b[0;34m\u001b[0m\u001b[0m\n\u001b[0m\u001b[1;32m      2\u001b[0m \u001b[0;31m# merged.head()\u001b[0m\u001b[0;34m\u001b[0m\u001b[0;34m\u001b[0m\u001b[0;34m\u001b[0m\u001b[0m\n\u001b[1;32m      3\u001b[0m \u001b[0;31m#merged.info()\u001b[0m\u001b[0;34m\u001b[0m\u001b[0;34m\u001b[0m\u001b[0;34m\u001b[0m\u001b[0m\n\u001b[1;32m      4\u001b[0m \u001b[0;31m# merged.sort_values('score', ascending=False).head(10)\u001b[0m\u001b[0;34m\u001b[0m\u001b[0;34m\u001b[0m\u001b[0;34m\u001b[0m\u001b[0m\n\u001b[1;32m      5\u001b[0m \u001b[0;34m\u001b[0m\u001b[0m\n",
      "\u001b[0;31mNameError\u001b[0m: name 'valid_repo' is not defined"
     ]
    }
   ],
   "source": [
    "merged = pd.merge(valid_repo, grants, on='grant_id')\n",
    "# merged.head()\n",
    "#merged.info()\n",
    "# merged.sort_values('score', ascending=False).head(10)\n",
    "\n",
    "merged['avg_amount'] = merged['amount_received'] / merged['contributor_count']\n",
    "merged['avg_amount_in_round'] = merged['amount_received_in_round'] / merged['contributor_count']\n",
    "merged.head()"
   ]
  },
  {
   "cell_type": "code",
   "execution_count": 128,
   "metadata": {},
   "outputs": [
    {
     "data": {
      "application/vnd.plotly.v1+json": {
       "config": {
        "plotlyServerURL": "https://plot.ly"
       },
       "data": [
        {
         "hovertemplate": "<b>%{hovertext}</b><br><br>score=%{x}<br>avg_amount_in_round=%{y}<extra></extra>",
         "hovertext": [
          "Staverse",
          "Yes3 by Lyon protocol ( decentralized request for endorsement/SBTs/tags",
          "ReConnection Tech",
          "APTOS HUB - Ecosystem for Aptos blockchain usability",
          "MeTag",
          "Closing the Gender Gap in Web3",
          "Follow The Black Hare: an open source game to popularize scientific methods among teenagers",
          "Eden Blockchain",
          "Zero Voting : A privacy focused Voting System",
          "Earth API",
          "Realtime contract analysis using Forta Bot",
          "TalenTale––Build your professional tale !",
          "Chainlist",
          "CooperDB (Relational Database Management on IPFS)",
          "Tic Tac Token",
          "Tubby Lending",
          "P3RKS - Rewards For DAO Contributors",
          "BzzWiki - Decentralized Wikipedia",
          "Synchronizing Google Calendar for Discord Events",
          "WeaveDB - Decentralized NoSQL Database on Arweave",
          "Grappa",
          "Global-Chem: A Dictionary of Chemical Names to Molecules",
          "Roloi: Dynamic payments",
          "Malicious Contract Detector",
          "Pasta curves on solidity",
          "Contri",
          "Forta Agent: Contract impersonations Detector",
          "Desci China",
          "Forta Agent: Money Laundering Detector for Umbra Protocol.",
          "Bonsai.so - Patreon for Web3",
          "zk nullifiers: New Cryptography for Sybil-Resistant Anonymity",
          "DeSciWorld - P2P Research Funding; Collectivised Grant",
          "Ethereum Uncensored",
          "Team meeting schedule for Web3",
          "Price of forgery measurement campaign",
          "Soul Wallet",
          "Scriptus, a marketplace for research as collectible art",
          "MyLuksoWallet",
          "ORBIT DeFi",
          "Starksheet: the web3 spreadsheet",
          "Medical Impact DAO to Govern Retroactive Funding of Public Good Medicines",
          "Open Source Medical Prize Fund for Retroactive Funding of Public Good Medicines",
          "Otomee: The Metaverse Hub",
          "Social Layer",
          "Option: Governance for Profitable Good(s)",
          "Internet of Animals: An Open-Source Tracking Community",
          "The Floo Network",
          "Building a Landscape of Voting Contracts",
          "Book Swap",
          "Monsters of Realms",
          "Reunited DAO - Alliviate Pain Worldwide",
          "I Am The Master of My Own Domain & I Carry My Magic With Me - Self-Sovereignty, Self-Determination, & Self-Efficacy to Overcome Domestic Violence",
          "ENS Fairy",
          "Web3MQ - Web3 Messaging Protocol",
          "On-Chain Commercial Licensing for NFTs",
          "【W3.work Metaverse】Connect & Collab in Web3",
          "HERITage Non-Fungible Economy",
          "DeFi Greeks SDK",
          "Ourlog: Multiplayer Thinking for Working Groups",
          "beoble - Pluggable Modular Web3 Social Layer",
          "Shardable Scientific N-Dimensional Arrays on Web3",
          "Willer. Delayed token recovery tool.",
          "Adicia-Metaverse",
          "Wiscle DEI-First Collaboration Network",
          "Active Blockference: an Open Source Package for Cognitive Modeling in Web3",
          "A Decentralized Science Framework by CrunchDAO",
          "Rings Network",
          "DAOLink",
          "TaterDAO brings accurate real estate data on-chain",
          "py-is_ipfs",
          "dDAO Community - 探索去中心治理的小型社会学实验",
          "Contracts bots gang",
          "Perpetuator",
          "The Community Health project",
          "Solarpunk Pfps",
          "staker-notifier",
          "Decentralized Library",
          "Subnet",
          "StarkDeFi - Your Access Portal To Starknet",
          "minipent.xyz : An open-source knowledge framework for Web3 organisations and DAOs",
          "Privacy-centric defi asset allocation and multichain yield optimizer",
          "zkLands - Maths behind ZKPs",
          "SamePage Network",
          "decode.chat",
          "ENSBook.xyz",
          "Signal + ENS",
          "Pink Paper: Decentralized Publishing Platform",
          "TeaParty",
          "EVM from Scratch: A Youtube Tutorial Series",
          "Olandbox",
          "New Atlantis: unlocking ocean biodiversity + blue carbon with DeSci & Web3",
          "WalliD wallet",
          "nfty chat",
          "W3B - Raffle Ticket Open Protocol",
          "Clone.Tools - Open Source 3D Tooling for Creators",
          "Decentralized Monitoring, Reporting and Verification- dMeter",
          "Optimism DAppNode Package",
          "Provable Democracy",
          "Newschain",
          "w3auth - Integrate w3auth for your identity needs",
          "My First NFT",
          "🐸 Habitat Health",
          "Lenstube",
          "web3-scaffold: a starter kit for your next web3 project",
          "ETH-XMR Atomic Swap continued development",
          "Dexode",
          "Buckets - save in cryptos with your goals in mind",
          "zkMachineLearning - an end-to-end platform to bridge Web2 developers into Web3",
          "MetaShield: Protect Your Crypto Assets From Phishing Sites",
          "Meteor Dao - AI art creation platform",
          "Proposal Inverter ( Now, Inverter Network ! )",
          "Grantr.app",
          "Headline",
          "Mintships - Unlockable content for creators",
          "Crypts and Caverns: Speed development of games in the Lootverse",
          "Scambuster! - A web3 anti scam DApp",
          "The Rift + Mana Crystals",
          "Kola - Inspire creativity for web3 music",
          "SoulCard -- Namecard for buidlers",
          "Safient Wallet - Non-custodial claimable wallets",
          "Mail3 - A web3 native communication platform",
          "X-Mob",
          "CrossSync",
          "BlockTracker",
          "beoble",
          "Loot MMO",
          "freeCodeCamp 32 Hour Hardhat, Solidity, & Full Stack Course",
          "SwapChat - Web3 Native Cross-Platform Chat and Trading",
          "Support for Panvala Fellows, the Stewards of the Communities",
          "The Arcade",
          "Praise – Acknowledge community contributions, build a culture of giving and gratitude",
          "TalentLayer: The Interoperability Layer for The Future of Work",
          "SECUR3 - Decentralised 2FA for non-custodial wallets",
          "jokedao",
          "7Energy - Energy Communities without Banks",
          "Shorum - A tool for curators, creators and investors",
          "ChainIDE- A web-based multichain supported developer tooling platform",
          "ethereumpools.info",
          "CryptoIn - SocialFi in a professional way",
          "KuoriciniDAO : slow rating system to coordinate community action",
          "HonestNFT Shenanigan Scanning Tools",
          "go-ethereum (geth)",
          "WTF Academy: Web3 Open-Source University for Web2 devs",
          "MetaMail",
          "Angular-web3-starter",
          "Loanshark",
          "Sweat Equity Management Platform for DAOs",
          "Lodestar: TypeScript Ethereum Consensus Client",
          "MiraDAO",
          "The Proofs, Arguments, and Zero Knowledge Study Group",
          "GoingUP - On-chain professional reputation building platform",
          "A3S Protocol - First Transferable Address for Web3.0",
          "NiceNode:  Run a node — just press start",
          "Ape Maintenance Fund",
          "LunCo: Decentralizing The Lunar Colonization",
          "Akula",
          "HighFy Me",
          "Wisdom Wizards: Decentralized learning",
          "CO2CULT: Offset ETH's carbon footprint",
          "$Earth - Solarpunk Dao",
          "The smol EVM project",
          "DeBooki",
          "Crypto Space Map: simple research - reasonable investments",
          "Essential Eth - The Tiniest JS Library",
          "Synpress - web3-enabled e2e testing tool",
          "ZK Locale - Privacy preserving proof-of-presence",
          "allchains_xyz",
          "plebbit: a serverless, adminless, decentralized Reddit alternative using ENS",
          "ENS.Vision",
          "“Metabolic Mainframe”: The First Hobbyist Bio-Computer",
          "BattleZips V2: Zero Knowledge State Channel Battleship",
          "DAOistry - a researched guide to decentralised collaboration practices",
          "Protocol Guild",
          "Circom - Efficient circuit framework for programmable zero-knowledge",
          "ETH Leaderboard",
          "SD-Cloud",
          "Village Grid DAO",
          "Ecne",
          "A-Frame - Building the open Metaverse",
          "ChainEye - Free and open source omnichain analytics",
          "Proof of Integrity",
          "Osmotic Funding",
          "wagmi: React Hooks library for Ethereum",
          "3D Robot ecosystem and robot",
          "Rust EVM (revm)",
          "Smock",
          "Dark Sea marketplace in Dark Forest",
          "zkRollups.xyz",
          "Moonjelly - High Quality Data to Protect Whales, Restore the Ocean, and Fight Climate Change",
          "Uniswap Calculator (v3)",
          "Kredeum : Decentralized NFTs Factory",
          "Ricardian Fabric",
          "braid.science",
          "SolidarityCard - From competition to collaboration",
          "DEGEN: POAP Distribution Bot",
          "Abundance Protocol: Scaling Public Goods 1000X",
          "Glosseta",
          "Avano [Panvala League]- Decentralized Environmental Offsets (aka Beyond Carbon Credits)",
          "VueDapp",
          "Gravity Conflict management DAO",
          "Samila : Generative Art Generator",
          "Yubiai MarketPlace funding",
          "JanusXR",
          "Samudai – Token Community Management (for Discord)",
          "Impersonator: Log-in to dapps as ANY Address",
          "Bankless Academy",
          "ETHTalk",
          "Defiwrapper",
          "eth-wizard: An Ethereum validator installation wizard",
          "DApp Learning developer group",
          "IsEthereumASecurity.com",
          "DAOrayaki",
          "Ethereum Layer 2  Bankless, Fast and Cheap Payments",
          "Otterscan",
          "DeFi & Web3 Developer Roadmap",
          "FreeDona- a project which allows you to donate for free.",
          "MolochV3 (codename: Baal)",
          "Flashbots Bundle Explorer",
          "🏗  Scaffold-ETH",
          "Zunami Protocol",
          "DAS｜ Decentralized ‍Account ‍Systems",
          "Miga Labs - Eth2 Software Tools and Network Data",
          "Njombe Innovation Academy [Panvala league]",
          "useDApp - rapid DApp developement framework",
          "RatioGang.com",
          "GivethTRACE",
          "ETH2.tax - tax information for stakers",
          "StakeHouse Wagyu tooling suite - Easy to use tools for the Ethereum Staking community",
          "NFTE",
          "Louper - Tool for inspecting Diamond (EIP-2535) smart contracts",
          "Building the DAO Controlled Land Trust",
          "vfat.tools Yield Farming Calculators",
          "Arabs in Blockchain: an open community that gathers all Arabs in blockchain ",
          "Valist",
          "Swivel Finance",
          "zkpay",
          "Tokenlog - Token-weighted backlogs",
          "Ethereum Staking Guides by CoinCashew",
          "DAO Internal Dispute Resolution Open Handbook by LexDAO (Panvala League)",
          "Electric Circus proudly presents Impact Pirates",
          "CryptoStats/CryptoFees.info",
          "Hardhat by Nomic Foundation",
          "EthCC by Ethereum France",
          "DemystiFi security in MetaMask",
          "ethstaker",
          "Prettier Solidity",
          "ClimateDataPool",
          "BBFT Podcast Show - Season2",
          "ETH Gas.watch",
          "🎨 nifty.ink",
          "Frame: Privacy Focused Native Ethereum Wallet",
          "Conviction Voting cadCAD Model Improvements: 1Hive Luna Swarm 🐝",
          "Vyper.fun | CryptoZombies+Ethernaut for Vyper",
          "Snapshot",
          "IntelliJ Solidity",
          "hardhat-deploy and jolly-roger",
          "Sourcify - Source Verification Service + Contract Repository",
          "Ancient Beast 🐺 The eSport ♟️",
          "Umbra:  Privacy Preserving Stealth Payments",
          "A Hitchhiker's Guide to Token Engineering",
          "Giveth.io - Panvala League",
          "Dandelion – ReFi events and gatherings [ReFi Spring/Panvala League]",
          "Commons Stack",
          "Open Source Web3 Icon Set",
          "Locha Mesh: private txs, censorship-resistant dApps, and IPFS over a resilient long-range radio mesh network",
          "Ethereum on ARM",
          "ActivityWatch - The world's best automated time-tracker",
          "zkCREAM: zero-knowledge Confidential Reliable Ethereum Anonymous Mixer",
          "Universal Basic Income — UBI",
          "Commons Simulator: Level Up",
          "beaconcha.in - Open source Eth2 blockchain explorer",
          "Vyper Smart Contract Language",
          "TrueBlocks - Indexing any EVM-Based Chain",
          "Carbon Accounting with Anti-theft + Social (Charity) Tokens and DAO",
          "Mask Network - The Portal to the New, Open Internet. (Legacy)",
          "Rotki - The portfolio tracker and accounting tool that protects your privacy",
          "defiprime.com",
          "Lighthouse: Ethereum Consensus Client",
          "Prysm by Prysmatic Labs",
          "ethers.js - Complete, Simple and Tiny"
         ],
         "legendgroup": "",
         "marker": {
          "color": "#636efa",
          "symbol": "circle"
         },
         "mode": "markers",
         "name": "",
         "orientation": "v",
         "showlegend": false,
         "type": "scatter",
         "x": [
          0.0391,
          0.08922,
          0.0532,
          0.07593,
          0.02077,
          0.20942,
          0.11658,
          0.01915,
          0.19628,
          0.17489,
          0.01915,
          0.02077,
          0.40249,
          0.0811,
          0.09179,
          0.20049,
          0.20194,
          0.06158,
          0.02556,
          0.16783,
          0.18569,
          0.4963,
          0.03582,
          0.01915,
          0.02077,
          0.05316,
          0.01915,
          0.13842,
          0.01915,
          0.06869,
          0.08951,
          0.04298,
          0.07126,
          0.21061,
          0.08457,
          0.19902,
          0.02524,
          0.06885,
          0.27986,
          0.26137,
          0.02773,
          0.02773,
          0.17862,
          0.02077,
          0.02225,
          0.0888,
          0.09353,
          0.10873,
          0.02909,
          0.18541,
          0.02077,
          0.05316,
          0.07281,
          0.06731,
          0.05316,
          0.03992,
          0.07428,
          0.02225,
          0.10163,
          0.23485,
          0.11592,
          0.0642,
          0.03072,
          0.22781,
          0.1679,
          0.23041,
          0.27742,
          0.07738,
          0.17349,
          0.08219,
          0.06655,
          0.06116,
          0.03345,
          0.19951,
          0.03149,
          0.15002,
          0.06436,
          0.04195,
          0.15545,
          0.21202,
          0.11543,
          0.10184,
          0.15637,
          0.01915,
          0.20239,
          0.39355,
          0.02077,
          0.01915,
          0.05106,
          0.0333,
          0.09554,
          0.10088,
          0.04155,
          0.10897,
          0.14028,
          0.09894,
          0.10462,
          0.12011,
          0.06184,
          0.12044,
          0.11225,
          0.14521,
          0.34528,
          0.1881,
          0.30856,
          0.09032,
          0.06878,
          0.03926,
          0.25537,
          0.19871,
          0.15556,
          0.23479,
          0.08963,
          0.10245,
          0.05842,
          0.02225,
          0.01915,
          0.01915,
          0.24866,
          0.17653,
          0.25597,
          0.09385,
          0.25372,
          0.03778,
          0.23485,
          0.18359,
          0.34313,
          0.07849,
          0.22006,
          0.03741,
          0.37718,
          0.04051,
          0.01915,
          0.27034,
          0.08054,
          0.05583,
          0.06436,
          0.17855,
          0.02605,
          0.20075,
          0.2621,
          0.63254,
          0.38724,
          0.15312,
          0.053,
          0.25848,
          0.33222,
          0.53177,
          0.07126,
          0.10856,
          0.01915,
          0.08108,
          0.2607,
          0.49543,
          0.29103,
          0.34659,
          0.09768,
          0.07128,
          0.22128,
          0.03149,
          0.25055,
          0.14962,
          0.06684,
          0.28097,
          0.53177,
          0.06621,
          0.01915,
          0.22167,
          0.38404,
          0.02077,
          0.20518,
          0.07788,
          0.17634,
          0.45239,
          0.17046,
          0.03363,
          0.05885,
          0.05199,
          0.71237,
          0.16859,
          0.07017,
          0.04011,
          0.56667,
          0.01915,
          0.41814,
          0.34259,
          0.06025,
          0.30974,
          0.05316,
          0.1812,
          0.30583,
          0.08611,
          0.06517,
          0.2066,
          0.31355,
          0.16867,
          0.23893,
          0.09763,
          0.30728,
          0.11517,
          0.3325,
          0.24131,
          0.39736,
          0.05316,
          0.20431,
          0.33401,
          0.05593,
          0.29079,
          0.32719,
          0.47424,
          0.06994,
          0.03582,
          0.02242,
          0.33915,
          0.34462,
          0.02495,
          0.35278,
          0.1682,
          0.54756,
          0.26123,
          0.08697,
          0.27557,
          0.06811,
          0.53359,
          0.15644,
          0.42049,
          0.10769,
          0.18789,
          0.10717,
          0.28939,
          0.0994,
          0.56419,
          0.03336,
          0.2493,
          0.09704,
          0.06638,
          0.14695,
          0.38726,
          0.01915,
          0.01915,
          0.26722,
          0.68876,
          0.26516,
          0.09297,
          0.12199,
          0.47411,
          0.09584,
          0.09291,
          0.14502,
          0.25073,
          0.54698,
          0.1301,
          0.18373,
          0.58489,
          0.41331,
          0.52368,
          0.47299,
          0.61432,
          0.40793,
          0.10786,
          0.16325,
          0.1337,
          0.19712,
          0.13097,
          0.17637,
          0.38286,
          0.52373,
          0.18718,
          0.27082,
          0.14327,
          0.47972,
          0.57199,
          0.54609,
          0.09823,
          0.6144,
          0.59908,
          0.38427,
          0.63438,
          0.71359,
          0.57503
         ],
         "xaxis": "x",
         "y": [
          1.05886,
          43.779785714285715,
          1.01838,
          1.7004888888888887,
          1.6154125,
          3,
          7.962993617021277,
          1,
          6.2177999999999995,
          13.1993,
          1.2436,
          16.04285714285714,
          2.3312593406593405,
          2,
          33.86674,
          1,
          16.958345454545455,
          138.34862,
          1,
          7.442258333333334,
          8.808187179487179,
          1.4281,
          2.5117000000000003,
          0.5698635897435897,
          41.7260625,
          3.050693846153846,
          0.9756141666666667,
          505,
          0.33007761194029855,
          2.5002666666666666,
          4.976680225988701,
          6.271058,
          6.732235714285714,
          15.101244444444445,
          5.279433333333333,
          2.88663203125,
          2.5353142857142856,
          2.0064,
          3.6645,
          3.925365605095542,
          18.581003100775195,
          8.846843283582091,
          3.58686,
          3.790520588235294,
          16.24765,
          3.483801408450704,
          2.3991571428571428,
          2.039028481012658,
          2.06645,
          6.375127083333333,
          5.940971428571428,
          12.710244186046511,
          10.727973134328357,
          2.369064454976303,
          16.08146875,
          4.840636032388663,
          42.4211875,
          9.377633333333334,
          9.102882795698925,
          5.09645,
          2,
          6.56645,
          1,
          6.369118181818181,
          25.547600000000003,
          4.042746153846154,
          244.9375,
          16.97415185185185,
          8.789574576271185,
          8.5960875,
          4.563936111111111,
          0.9460697594501719,
          1.56645,
          41.18494090909091,
          1,
          3.96305,
          111.49581666666667,
          26.397382051282055,
          2.8647865416178195,
          12.185843781942078,
          1.4614428571428573,
          4.372617125382263,
          1.906,
          1.2285,
          6.595361111111111,
          6.6094221674876845,
          2.5504285714285717,
          1.663851793721973,
          12.5,
          10.0844,
          9.268360759493671,
          2.7287083333333335,
          2.9240822045152726,
          1.275011111111111,
          0.5,
          6.106233112582782,
          2.985212380952381,
          21.6975,
          2.5329,
          1.1,
          5.032203278688525,
          10.151553333333334,
          2.1201905570060924,
          14.5222,
          5,
          1.32455,
          1.7383711229946524,
          4.126872222222222,
          5.898124999999999,
          1.0295,
          5.795739130434782,
          1.3421694444444445,
          0.4349263157894737,
          2.9182,
          4.068742424242424,
          0.60002,
          2.4097149253731343,
          0.330528,
          0.33900399999999997,
          0.4415166666666666,
          1.98952354913593,
          1.3387060606060608,
          1.4720274111675127,
          0.8886708333333333,
          0.07143571428571428,
          3.942005,
          0.35708260869565217,
          0.10099625585023402,
          1.412529411764706,
          0.24423333333333336,
          4.390526315789474,
          4.9315,
          0.3333333333333333,
          0.22137804878048778,
          1.1541,
          0.06250625,
          0.009615384615384616,
          68.25862,
          0.2331269230769231,
          2.7862125,
          0.8823529411764706,
          0.4160648097826087,
          0.7875837133550488,
          1.674940424252834,
          0.2928571428571428,
          2.011851052750736,
          1.794435,
          6.102484065934066,
          0.35147222222222224,
          0.28070646766169155,
          0.02044334085778781,
          1.1441072344322345,
          0.9162549687282835,
          0.8516493333333333,
          7.2276453125,
          3.1383351648351647,
          0.061594444444444445,
          0.5,
          2.377901329787234,
          15.157771698113208,
          3.490425114155251,
          0.060515689655172414,
          0.020747518796992482,
          0.2346397590361446,
          14.999589473684212,
          0.6136295238095238,
          0.01191573033707865,
          115.45729999999999,
          0.8850593984962405,
          1.8784433333333332,
          0.3507153225806452,
          0.02372666666666667,
          0.9282117069980379,
          0.4502734357224118,
          0.5205532278973295,
          0.5,
          0.341925,
          0.6539708609271523,
          0.42001428571428573,
          0.5016251645940014,
          0.12070130890052357,
          0.625,
          4.223001366120219,
          4.352266666666667,
          0.625,
          1.0001666666666666,
          0.16452140864714085,
          0.3255482309882066,
          0.5613178378378378,
          0.23642629969418963,
          0.018978122595537317,
          0.07177777777777777,
          1.589655172413793,
          0.09813269230769231,
          0.5327055555555555,
          0.3508771929824561,
          2.7883,
          0.4289743280307186,
          13.538461538461538,
          1.4979050420168067,
          0.44592857142857145,
          0.6077338983050847,
          3.6748642857142855,
          0.880778947368421,
          2.331093522422384,
          0.20721759277439625,
          0.019801980198019802,
          0.007314877335133919,
          1.0834970387243736,
          3.5378880339093577,
          64.38452352941177,
          0.0011397049071618036,
          0.08,
          0.5152584558202399,
          1.706664184852375,
          0.0265012987012987,
          0.004963143989431968,
          0.03750891393442623,
          0.5816308499475341,
          0.0007753838214423945,
          0.051351282051282046,
          0.015037593984962405,
          0.5175931623931623,
          0.20015565610859729,
          0.08904612794612794,
          0.9303613636363636,
          3.6389875000000003,
          0.32654605485232063,
          0.0015002620741295396,
          0.07046979865771812,
          0.0016430339321357285,
          0.007547758678800134,
          0.2,
          0.33852631578947373,
          0.001951197604790419,
          0.7875544833663802,
          0.6961205479452055,
          0.09303637894736842,
          0.2700383333333333,
          0.01786574585635359,
          1.181335770528684,
          0.1437520829510002,
          0.28620185873605947,
          0.03084321428571429,
          0.4283001071393786,
          0.008415449101796408,
          0.2096888888888889,
          0.3666666666666667,
          0.003543586109142452,
          0.0073288879465705494,
          0.00007718756578485722,
          0.13518149300155521,
          0.05117178217821782,
          0.00015370673005496953,
          0.07994741379310344,
          0.018237234212629894,
          0.038779233621755255,
          0.09105711864406779,
          0.35172801458301683,
          0.008672438672438672,
          0.10781264029930519,
          0.5212489932885906,
          0.21845671117357696,
          0.046252103960396036,
          0.23333333333333334,
          0.33563962335216574,
          0.06913541666666667,
          0.004766865098415746,
          0.09607670863309352,
          0.0017011038777243136,
          0.23872570580754557,
          0.9304441458733206,
          0.7521560439560439,
          0.2514971153846154,
          0.0007314524555903867,
          0.22329679493520624,
          0.005384775833133541,
          0.18410132406850138,
          0.19839429026526986,
          0.4148169556840077
         ],
         "yaxis": "y"
        }
       ],
       "layout": {
        "legend": {
         "tracegroupgap": 0
        },
        "margin": {
         "t": 60
        },
        "template": {
         "data": {
          "bar": [
           {
            "error_x": {
             "color": "#2a3f5f"
            },
            "error_y": {
             "color": "#2a3f5f"
            },
            "marker": {
             "line": {
              "color": "#E5ECF6",
              "width": 0.5
             },
             "pattern": {
              "fillmode": "overlay",
              "size": 10,
              "solidity": 0.2
             }
            },
            "type": "bar"
           }
          ],
          "barpolar": [
           {
            "marker": {
             "line": {
              "color": "#E5ECF6",
              "width": 0.5
             },
             "pattern": {
              "fillmode": "overlay",
              "size": 10,
              "solidity": 0.2
             }
            },
            "type": "barpolar"
           }
          ],
          "carpet": [
           {
            "aaxis": {
             "endlinecolor": "#2a3f5f",
             "gridcolor": "white",
             "linecolor": "white",
             "minorgridcolor": "white",
             "startlinecolor": "#2a3f5f"
            },
            "baxis": {
             "endlinecolor": "#2a3f5f",
             "gridcolor": "white",
             "linecolor": "white",
             "minorgridcolor": "white",
             "startlinecolor": "#2a3f5f"
            },
            "type": "carpet"
           }
          ],
          "choropleth": [
           {
            "colorbar": {
             "outlinewidth": 0,
             "ticks": ""
            },
            "type": "choropleth"
           }
          ],
          "contour": [
           {
            "colorbar": {
             "outlinewidth": 0,
             "ticks": ""
            },
            "colorscale": [
             [
              0,
              "#0d0887"
             ],
             [
              0.1111111111111111,
              "#46039f"
             ],
             [
              0.2222222222222222,
              "#7201a8"
             ],
             [
              0.3333333333333333,
              "#9c179e"
             ],
             [
              0.4444444444444444,
              "#bd3786"
             ],
             [
              0.5555555555555556,
              "#d8576b"
             ],
             [
              0.6666666666666666,
              "#ed7953"
             ],
             [
              0.7777777777777778,
              "#fb9f3a"
             ],
             [
              0.8888888888888888,
              "#fdca26"
             ],
             [
              1,
              "#f0f921"
             ]
            ],
            "type": "contour"
           }
          ],
          "contourcarpet": [
           {
            "colorbar": {
             "outlinewidth": 0,
             "ticks": ""
            },
            "type": "contourcarpet"
           }
          ],
          "heatmap": [
           {
            "colorbar": {
             "outlinewidth": 0,
             "ticks": ""
            },
            "colorscale": [
             [
              0,
              "#0d0887"
             ],
             [
              0.1111111111111111,
              "#46039f"
             ],
             [
              0.2222222222222222,
              "#7201a8"
             ],
             [
              0.3333333333333333,
              "#9c179e"
             ],
             [
              0.4444444444444444,
              "#bd3786"
             ],
             [
              0.5555555555555556,
              "#d8576b"
             ],
             [
              0.6666666666666666,
              "#ed7953"
             ],
             [
              0.7777777777777778,
              "#fb9f3a"
             ],
             [
              0.8888888888888888,
              "#fdca26"
             ],
             [
              1,
              "#f0f921"
             ]
            ],
            "type": "heatmap"
           }
          ],
          "heatmapgl": [
           {
            "colorbar": {
             "outlinewidth": 0,
             "ticks": ""
            },
            "colorscale": [
             [
              0,
              "#0d0887"
             ],
             [
              0.1111111111111111,
              "#46039f"
             ],
             [
              0.2222222222222222,
              "#7201a8"
             ],
             [
              0.3333333333333333,
              "#9c179e"
             ],
             [
              0.4444444444444444,
              "#bd3786"
             ],
             [
              0.5555555555555556,
              "#d8576b"
             ],
             [
              0.6666666666666666,
              "#ed7953"
             ],
             [
              0.7777777777777778,
              "#fb9f3a"
             ],
             [
              0.8888888888888888,
              "#fdca26"
             ],
             [
              1,
              "#f0f921"
             ]
            ],
            "type": "heatmapgl"
           }
          ],
          "histogram": [
           {
            "marker": {
             "pattern": {
              "fillmode": "overlay",
              "size": 10,
              "solidity": 0.2
             }
            },
            "type": "histogram"
           }
          ],
          "histogram2d": [
           {
            "colorbar": {
             "outlinewidth": 0,
             "ticks": ""
            },
            "colorscale": [
             [
              0,
              "#0d0887"
             ],
             [
              0.1111111111111111,
              "#46039f"
             ],
             [
              0.2222222222222222,
              "#7201a8"
             ],
             [
              0.3333333333333333,
              "#9c179e"
             ],
             [
              0.4444444444444444,
              "#bd3786"
             ],
             [
              0.5555555555555556,
              "#d8576b"
             ],
             [
              0.6666666666666666,
              "#ed7953"
             ],
             [
              0.7777777777777778,
              "#fb9f3a"
             ],
             [
              0.8888888888888888,
              "#fdca26"
             ],
             [
              1,
              "#f0f921"
             ]
            ],
            "type": "histogram2d"
           }
          ],
          "histogram2dcontour": [
           {
            "colorbar": {
             "outlinewidth": 0,
             "ticks": ""
            },
            "colorscale": [
             [
              0,
              "#0d0887"
             ],
             [
              0.1111111111111111,
              "#46039f"
             ],
             [
              0.2222222222222222,
              "#7201a8"
             ],
             [
              0.3333333333333333,
              "#9c179e"
             ],
             [
              0.4444444444444444,
              "#bd3786"
             ],
             [
              0.5555555555555556,
              "#d8576b"
             ],
             [
              0.6666666666666666,
              "#ed7953"
             ],
             [
              0.7777777777777778,
              "#fb9f3a"
             ],
             [
              0.8888888888888888,
              "#fdca26"
             ],
             [
              1,
              "#f0f921"
             ]
            ],
            "type": "histogram2dcontour"
           }
          ],
          "mesh3d": [
           {
            "colorbar": {
             "outlinewidth": 0,
             "ticks": ""
            },
            "type": "mesh3d"
           }
          ],
          "parcoords": [
           {
            "line": {
             "colorbar": {
              "outlinewidth": 0,
              "ticks": ""
             }
            },
            "type": "parcoords"
           }
          ],
          "pie": [
           {
            "automargin": true,
            "type": "pie"
           }
          ],
          "scatter": [
           {
            "fillpattern": {
             "fillmode": "overlay",
             "size": 10,
             "solidity": 0.2
            },
            "type": "scatter"
           }
          ],
          "scatter3d": [
           {
            "line": {
             "colorbar": {
              "outlinewidth": 0,
              "ticks": ""
             }
            },
            "marker": {
             "colorbar": {
              "outlinewidth": 0,
              "ticks": ""
             }
            },
            "type": "scatter3d"
           }
          ],
          "scattercarpet": [
           {
            "marker": {
             "colorbar": {
              "outlinewidth": 0,
              "ticks": ""
             }
            },
            "type": "scattercarpet"
           }
          ],
          "scattergeo": [
           {
            "marker": {
             "colorbar": {
              "outlinewidth": 0,
              "ticks": ""
             }
            },
            "type": "scattergeo"
           }
          ],
          "scattergl": [
           {
            "marker": {
             "colorbar": {
              "outlinewidth": 0,
              "ticks": ""
             }
            },
            "type": "scattergl"
           }
          ],
          "scattermapbox": [
           {
            "marker": {
             "colorbar": {
              "outlinewidth": 0,
              "ticks": ""
             }
            },
            "type": "scattermapbox"
           }
          ],
          "scatterpolar": [
           {
            "marker": {
             "colorbar": {
              "outlinewidth": 0,
              "ticks": ""
             }
            },
            "type": "scatterpolar"
           }
          ],
          "scatterpolargl": [
           {
            "marker": {
             "colorbar": {
              "outlinewidth": 0,
              "ticks": ""
             }
            },
            "type": "scatterpolargl"
           }
          ],
          "scatterternary": [
           {
            "marker": {
             "colorbar": {
              "outlinewidth": 0,
              "ticks": ""
             }
            },
            "type": "scatterternary"
           }
          ],
          "surface": [
           {
            "colorbar": {
             "outlinewidth": 0,
             "ticks": ""
            },
            "colorscale": [
             [
              0,
              "#0d0887"
             ],
             [
              0.1111111111111111,
              "#46039f"
             ],
             [
              0.2222222222222222,
              "#7201a8"
             ],
             [
              0.3333333333333333,
              "#9c179e"
             ],
             [
              0.4444444444444444,
              "#bd3786"
             ],
             [
              0.5555555555555556,
              "#d8576b"
             ],
             [
              0.6666666666666666,
              "#ed7953"
             ],
             [
              0.7777777777777778,
              "#fb9f3a"
             ],
             [
              0.8888888888888888,
              "#fdca26"
             ],
             [
              1,
              "#f0f921"
             ]
            ],
            "type": "surface"
           }
          ],
          "table": [
           {
            "cells": {
             "fill": {
              "color": "#EBF0F8"
             },
             "line": {
              "color": "white"
             }
            },
            "header": {
             "fill": {
              "color": "#C8D4E3"
             },
             "line": {
              "color": "white"
             }
            },
            "type": "table"
           }
          ]
         },
         "layout": {
          "annotationdefaults": {
           "arrowcolor": "#2a3f5f",
           "arrowhead": 0,
           "arrowwidth": 1
          },
          "autotypenumbers": "strict",
          "coloraxis": {
           "colorbar": {
            "outlinewidth": 0,
            "ticks": ""
           }
          },
          "colorscale": {
           "diverging": [
            [
             0,
             "#8e0152"
            ],
            [
             0.1,
             "#c51b7d"
            ],
            [
             0.2,
             "#de77ae"
            ],
            [
             0.3,
             "#f1b6da"
            ],
            [
             0.4,
             "#fde0ef"
            ],
            [
             0.5,
             "#f7f7f7"
            ],
            [
             0.6,
             "#e6f5d0"
            ],
            [
             0.7,
             "#b8e186"
            ],
            [
             0.8,
             "#7fbc41"
            ],
            [
             0.9,
             "#4d9221"
            ],
            [
             1,
             "#276419"
            ]
           ],
           "sequential": [
            [
             0,
             "#0d0887"
            ],
            [
             0.1111111111111111,
             "#46039f"
            ],
            [
             0.2222222222222222,
             "#7201a8"
            ],
            [
             0.3333333333333333,
             "#9c179e"
            ],
            [
             0.4444444444444444,
             "#bd3786"
            ],
            [
             0.5555555555555556,
             "#d8576b"
            ],
            [
             0.6666666666666666,
             "#ed7953"
            ],
            [
             0.7777777777777778,
             "#fb9f3a"
            ],
            [
             0.8888888888888888,
             "#fdca26"
            ],
            [
             1,
             "#f0f921"
            ]
           ],
           "sequentialminus": [
            [
             0,
             "#0d0887"
            ],
            [
             0.1111111111111111,
             "#46039f"
            ],
            [
             0.2222222222222222,
             "#7201a8"
            ],
            [
             0.3333333333333333,
             "#9c179e"
            ],
            [
             0.4444444444444444,
             "#bd3786"
            ],
            [
             0.5555555555555556,
             "#d8576b"
            ],
            [
             0.6666666666666666,
             "#ed7953"
            ],
            [
             0.7777777777777778,
             "#fb9f3a"
            ],
            [
             0.8888888888888888,
             "#fdca26"
            ],
            [
             1,
             "#f0f921"
            ]
           ]
          },
          "colorway": [
           "#636efa",
           "#EF553B",
           "#00cc96",
           "#ab63fa",
           "#FFA15A",
           "#19d3f3",
           "#FF6692",
           "#B6E880",
           "#FF97FF",
           "#FECB52"
          ],
          "font": {
           "color": "#2a3f5f"
          },
          "geo": {
           "bgcolor": "white",
           "lakecolor": "white",
           "landcolor": "#E5ECF6",
           "showlakes": true,
           "showland": true,
           "subunitcolor": "white"
          },
          "hoverlabel": {
           "align": "left"
          },
          "hovermode": "closest",
          "mapbox": {
           "style": "light"
          },
          "paper_bgcolor": "white",
          "plot_bgcolor": "#E5ECF6",
          "polar": {
           "angularaxis": {
            "gridcolor": "white",
            "linecolor": "white",
            "ticks": ""
           },
           "bgcolor": "#E5ECF6",
           "radialaxis": {
            "gridcolor": "white",
            "linecolor": "white",
            "ticks": ""
           }
          },
          "scene": {
           "xaxis": {
            "backgroundcolor": "#E5ECF6",
            "gridcolor": "white",
            "gridwidth": 2,
            "linecolor": "white",
            "showbackground": true,
            "ticks": "",
            "zerolinecolor": "white"
           },
           "yaxis": {
            "backgroundcolor": "#E5ECF6",
            "gridcolor": "white",
            "gridwidth": 2,
            "linecolor": "white",
            "showbackground": true,
            "ticks": "",
            "zerolinecolor": "white"
           },
           "zaxis": {
            "backgroundcolor": "#E5ECF6",
            "gridcolor": "white",
            "gridwidth": 2,
            "linecolor": "white",
            "showbackground": true,
            "ticks": "",
            "zerolinecolor": "white"
           }
          },
          "shapedefaults": {
           "line": {
            "color": "#2a3f5f"
           }
          },
          "ternary": {
           "aaxis": {
            "gridcolor": "white",
            "linecolor": "white",
            "ticks": ""
           },
           "baxis": {
            "gridcolor": "white",
            "linecolor": "white",
            "ticks": ""
           },
           "bgcolor": "#E5ECF6",
           "caxis": {
            "gridcolor": "white",
            "linecolor": "white",
            "ticks": ""
           }
          },
          "title": {
           "x": 0.05
          },
          "xaxis": {
           "automargin": true,
           "gridcolor": "white",
           "linecolor": "white",
           "ticks": "",
           "title": {
            "standoff": 15
           },
           "zerolinecolor": "white",
           "zerolinewidth": 2
          },
          "yaxis": {
           "automargin": true,
           "gridcolor": "white",
           "linecolor": "white",
           "ticks": "",
           "title": {
            "standoff": 15
           },
           "zerolinecolor": "white",
           "zerolinewidth": 2
          }
         }
        },
        "xaxis": {
         "anchor": "y",
         "domain": [
          0,
          1
         ],
         "title": {
          "text": "score"
         }
        },
        "yaxis": {
         "anchor": "x",
         "domain": [
          0,
          1
         ],
         "title": {
          "text": "avg_amount_in_round"
         }
        }
       }
      }
     },
     "metadata": {},
     "output_type": "display_data"
    }
   ],
   "source": [
    "# fig = px.scatter(merged, x='score', y='amount_received')\n",
    "# fig = px.scatter(merged, x='score', y='contribution_count', hover_name='title', )\n",
    "# fig = px.scatter(merged, x='score', y='contributor_count')\n",
    "# fig = px.scatter(merged, x='score', y='avg_amount', hover_name='title')\n",
    "fig = px.scatter(merged, x='score', y='avg_amount_in_round', hover_name='title')\n",
    "# fig = px.scatter(merged, x='score', y='contribution_count', hover_name='title', )\n",
    "fig.show()"
   ]
  },
  {
   "cell_type": "code",
   "execution_count": 11,
   "metadata": {},
   "outputs": [
    {
     "ename": "NameError",
     "evalue": "name 'merged' is not defined",
     "output_type": "error",
     "traceback": [
      "\u001b[0;31m---------------------------------------------------------------------------\u001b[0m",
      "\u001b[0;31mNameError\u001b[0m                                 Traceback (most recent call last)",
      "\u001b[0;32m/var/folders/gl/3nbwj5r1183_gfp3xql0hclr0000gn/T/ipykernel_69298/1950614463.py\u001b[0m in \u001b[0;36m<module>\u001b[0;34m\u001b[0m\n\u001b[0;32m----> 1\u001b[0;31m \u001b[0mfor_corr\u001b[0m \u001b[0;34m=\u001b[0m \u001b[0mmerged\u001b[0m\u001b[0;34m(\u001b[0m\u001b[0;34m[\u001b[0m\u001b[0;34m'score'\u001b[0m\u001b[0;34m,\u001b[0m \u001b[0;34m'amount_received'\u001b[0m\u001b[0;34m,\u001b[0m \u001b[0;34m'amount_received_in_round'\u001b[0m\u001b[0;34m,\u001b[0m\u001b[0;34m'contribution_count'\u001b[0m\u001b[0;34m,\u001b[0m \u001b[0;34m'contributor_count'\u001b[0m\u001b[0;34m]\u001b[0m\u001b[0;34m)\u001b[0m\u001b[0;34m\u001b[0m\u001b[0;34m\u001b[0m\u001b[0m\n\u001b[0m\u001b[1;32m      2\u001b[0m \u001b[0mfor_corr\u001b[0m\u001b[0;34m.\u001b[0m\u001b[0mcorr\u001b[0m\u001b[0;34m(\u001b[0m\u001b[0;34m)\u001b[0m\u001b[0;34m\u001b[0m\u001b[0;34m\u001b[0m\u001b[0m\n",
      "\u001b[0;31mNameError\u001b[0m: name 'merged' is not defined"
     ]
    }
   ],
   "source": [
    "for_corr = merged(['score', 'amount_received', 'amount_received_in_round','contribution_count', 'contributor_count'])\n",
    "for_corr.corr()"
   ]
  },
  {
   "cell_type": "code",
   "execution_count": 30,
   "metadata": {},
   "outputs": [
    {
     "data": {
      "application/vnd.plotly.v1+json": {
       "config": {
        "plotlyServerURL": "https://plot.ly"
       },
       "data": [
        {
         "coloraxis": "coloraxis",
         "hovertemplate": "x: %{x}<br>y: %{y}<br>color: %{z}<extra></extra>",
         "name": "0",
         "type": "heatmap",
         "x": [
          "score",
          "amount_received",
          "amount_received_in_round"
         ],
         "xaxis": "x",
         "y": [
          0,
          1,
          2,
          3,
          4,
          5,
          6,
          7,
          8,
          9,
          10,
          11,
          12,
          13,
          14,
          15,
          16,
          17,
          18,
          19,
          20,
          21,
          22,
          23,
          24,
          25,
          26,
          27,
          28,
          29,
          30,
          31,
          32,
          33,
          34,
          35,
          36,
          37,
          38,
          39,
          40,
          41,
          42,
          43,
          44,
          45,
          46,
          47,
          48,
          49,
          50,
          51,
          52,
          53,
          54,
          55,
          56,
          57,
          58,
          59,
          60,
          61,
          62,
          63,
          64,
          65,
          66,
          67,
          68,
          69,
          70,
          71,
          72,
          73,
          74,
          75,
          76,
          77,
          78,
          79,
          80,
          81,
          82,
          83,
          84,
          85,
          86,
          87,
          88,
          89,
          90,
          91,
          92,
          93,
          94,
          95,
          96,
          97,
          98,
          99,
          100,
          101,
          102,
          103,
          104,
          105,
          106,
          107,
          108,
          109,
          110,
          111,
          112,
          113,
          114,
          115,
          116,
          117,
          118,
          119,
          120,
          121,
          122,
          123,
          124,
          125,
          126,
          127,
          128,
          129,
          130,
          131,
          132,
          133,
          134,
          135,
          136,
          137,
          138,
          139,
          140,
          141,
          142,
          143,
          144,
          145,
          146,
          147,
          148,
          149,
          150,
          151,
          152,
          153,
          154,
          155,
          156,
          157,
          158,
          159,
          160,
          161,
          162,
          163,
          164,
          165,
          166,
          167,
          168,
          169,
          170,
          171,
          172,
          173,
          174,
          175,
          176,
          177,
          178,
          179,
          180,
          181,
          182,
          183,
          184,
          185,
          186,
          187,
          188,
          189,
          190,
          191,
          192,
          193,
          194,
          195,
          196,
          197,
          198,
          199,
          200,
          201,
          202,
          203,
          204,
          205,
          206,
          207,
          208,
          209,
          210,
          211,
          212,
          213,
          214,
          215,
          216,
          217,
          218,
          219,
          220,
          221,
          222,
          223,
          224,
          225,
          226,
          227,
          228,
          229,
          230,
          231,
          232,
          233,
          234,
          235,
          236,
          237,
          238,
          239,
          240,
          241,
          242,
          243,
          244,
          245,
          246,
          247,
          248,
          249,
          250,
          251,
          252,
          253,
          254,
          255,
          256,
          257,
          258,
          259,
          260,
          261,
          262,
          263,
          264,
          265,
          266,
          267,
          268,
          269,
          270,
          271,
          272,
          273,
          274,
          275,
          276,
          277,
          278,
          279
         ],
         "yaxis": "y",
         "z": [
          [
           0.0391,
           5.2943,
           5.2943
          ],
          [
           0.08922,
           306.4585,
           306.4585
          ],
          [
           0.0532,
           5.0919,
           5.0919
          ],
          [
           0.07593,
           15.3044,
           15.3044
          ],
          [
           0.02077,
           12.9233,
           12.9233
          ],
          [
           0.20942,
           3,
           3
          ],
          [
           0.11658,
           374.2607,
           374.2607
          ],
          [
           0.01915,
           1,
           1
          ],
          [
           0.19628,
           87.0492,
           87.0492
          ],
          [
           0.17489,
           13.1993,
           13.1993
          ],
          [
           0.01915,
           12.436,
           12.436
          ],
          [
           0.02077,
           112.3,
           112.3
          ],
          [
           0.40249,
           1060.723,
           1060.723
          ],
          [
           0.0811,
           2,
           2
          ],
          [
           0.09179,
           169.3337,
           169.3337
          ],
          [
           0.20049,
           1,
           1
          ],
          [
           0.20194,
           373.0836,
           373.0836
          ],
          [
           0.06158,
           691.7431,
           691.7431
          ],
          [
           0.02556,
           1,
           1
          ],
          [
           0.16783,
           89.3071,
           89.3071
          ],
          [
           0.18569,
           343.5193,
           343.5193
          ],
          [
           0.4963,
           1.4281,
           1.4281
          ],
          [
           0.03582,
           35.1638,
           35.1638
          ],
          [
           0.01915,
           111.1234,
           111.1234
          ],
          [
           0.02077,
           333.8085,
           333.8085
          ],
          [
           0.05316,
           198.2951,
           198.2951
          ],
          [
           0.01915,
           234.1474,
           234.1474
          ],
          [
           0.13842,
           1010,
           1010
          ],
          [
           0.01915,
           66.3456,
           66.3456
          ],
          [
           0.06869,
           7.5008,
           7.5008
          ],
          [
           0.08951,
           1761.7448,
           1761.7448
          ],
          [
           0.04298,
           627.1058,
           627.1058
          ],
          [
           0.07126,
           188.5026,
           188.5026
          ],
          [
           0.21061,
           135.9112,
           135.9112
          ],
          [
           0.08457,
           31.6766,
           31.6766
          ],
          [
           0.19902,
           1108.4667,
           1108.4667
          ],
          [
           0.02524,
           35.4944,
           35.4944
          ],
          [
           0.06885,
           16.0512,
           16.0512
          ],
          [
           0.27986,
           3.6645,
           3.6645
          ],
          [
           0.26137,
           1232.5648,
           1232.5648
          ],
          [
           0.02773,
           2396.9494,
           2396.9494
          ],
          [
           0.02773,
           592.7385,
           592.7385
          ],
          [
           0.17862,
           107.6058,
           107.6058
          ],
          [
           0.02077,
           128.8777,
           128.8777
          ],
          [
           0.02225,
           64.9906,
           64.9906
          ],
          [
           0.0888,
           247.3499,
           247.3499
          ],
          [
           0.09353,
           16.7941,
           16.7941
          ],
          [
           0.10873,
           2255.1655,
           2255.1655
          ],
          [
           0.02909,
           4.1329,
           4.1329
          ],
          [
           0.18541,
           612.0122,
           612.0122
          ],
          [
           0.02077,
           41.5868,
           41.5868
          ],
          [
           0.05316,
           1100.92,
           1093.081
          ],
          [
           0.07281,
           718.7742,
           718.7742
          ],
          [
           0.06731,
           1004.6552,
           999.7452
          ],
          [
           0.05316,
           257.3035,
           257.3035
          ],
          [
           0.03992,
           1195.6371,
           1195.6371
          ],
          [
           0.07428,
           339.3695,
           339.3695
          ],
          [
           0.02225,
           29.1429,
           28.1329
          ],
          [
           0.10163,
           2539.7043,
           2539.7043
          ],
          [
           0.23485,
           30.5787,
           30.5787
          ],
          [
           0.11592,
           2,
           2
          ],
          [
           0.0642,
           13.1329,
           13.1329
          ],
          [
           0.03072,
           1,
           1
          ],
          [
           0.22781,
           70.0603,
           70.0603
          ],
          [
           0.1679,
           2376.9268,
           2375.9268
          ],
          [
           0.23041,
           105.1114,
           105.1114
          ],
          [
           0.27742,
           1960.5,
           1959.5
          ],
          [
           0.07738,
           459.8712,
           458.3021
          ],
          [
           0.17349,
           1037.1698,
           1037.1698
          ],
          [
           0.08219,
           68.7687,
           68.7687
          ],
          [
           0.06655,
           166.8817,
           164.3017
          ],
          [
           0.06116,
           275.3063,
           275.3063
          ],
          [
           0.03345,
           6.3199,
           3.1329
          ],
          [
           0.19951,
           906.0687,
           906.0687
          ],
          [
           0.03149,
           1,
           1
          ],
          [
           0.15002,
           31.7044,
           31.7044
          ],
          [
           0.06436,
           669.9797,
           668.9749
          ],
          [
           0.04195,
           2058.9958,
           2058.9958
          ],
          [
           0.15545,
           36729.9362,
           36654.9438
          ],
          [
           0.21202,
           7153.0903,
           7153.0903
          ],
          [
           0.11543,
           11.3538,
           10.2301
          ],
          [
           0.10184,
           1618.9639,
           1429.8458
          ],
          [
           0.15637,
           16.2495,
           15.248
          ],
          [
           0.01915,
           2.457,
           2.457
          ],
          [
           0.20239,
           119.719,
           118.7165
          ],
          [
           0.39355,
           1341.7127,
           1341.7127
          ],
          [
           0.02077,
           19.8553,
           17.853
          ],
          [
           0.01915,
           1484.1558,
           1484.1558
          ],
          [
           0.05106,
           26.0009,
           25
          ],
          [
           0.0333,
           73.634,
           70.5908
          ],
          [
           0.09554,
           3686.0025,
           3661.0025
          ],
          [
           0.10088,
           35.4305,
           32.7445
          ],
          [
           0.04155,
           2232.8347,
           2201.8339
          ],
          [
           0.10897,
           12.476,
           11.4751
          ],
          [
           0.14028,
           2.0009,
           1
          ],
          [
           0.09894,
           923.0426,
           922.0412
          ],
          [
           0.10462,
           1257.681,
           1253.7892
          ],
          [
           0.12011,
           65.0925,
           65.0925
          ],
          [
           0.06184,
           16.1989,
           15.1974
          ],
          [
           0.12044,
           1.1,
           1.1
          ],
          [
           0.11225,
           331.9644,
           306.9644
          ],
          [
           0.14521,
           152.2733,
           152.2733
          ],
          [
           0.34528,
           14643.3105,
           14616.5937
          ],
          [
           0.1881,
           174.2664,
           174.2664
          ],
          [
           0.30856,
           5,
           5
          ],
          [
           0.09032,
           4.6491,
           2.6491
          ],
          [
           0.06878,
           325.0754,
           325.0754
          ],
          [
           0.03926,
           74.2837,
           74.2837
          ],
          [
           0.25537,
           268.6559,
           259.5175
          ],
          [
           0.19871,
           1.0295,
           1.0295
          ],
          [
           0.15556,
           1402.9982,
           266.604
          ],
          [
           0.23479,
           603.909,
           48.3181
          ],
          [
           0.08963,
           610.8244,
           8.2636
          ],
          [
           0.10245,
           47.9104,
           32.1002
          ],
          [
           0.05842,
           968.1617,
           537.074
          ],
          [
           0.02225,
           8.2064,
           3.0001
          ],
          [
           0.01915,
           419.5984,
           161.4509
          ],
          [
           0.01915,
           59.5709,
           8.2632
          ],
          [
           0.24866,
           38.4715,
           8.4751
          ],
          [
           0.17653,
           12.7367,
           2.6491
          ],
          [
           0.25597,
           15765.0618,
           15426.7656
          ],
          [
           0.09385,
           241.0564,
           44.1773
          ],
          [
           0.25372,
           489.7809,
           289.9894
          ],
          [
           0.03778,
           107.0553,
           21.3281
          ],
          [
           0.23485,
           19.9315,
           1.0001
          ],
          [
           0.18359,
           2036.3158,
           473.0406
          ],
          [
           0.34313,
           240.3045,
           8.2129
          ],
          [
           0.07849,
           4941.1508,
           64.7386
          ],
          [
           0.22006,
           148.2459,
           24.013
          ],
          [
           0.03741,
           21.091,
           2.1981
          ],
          [
           0.37718,
           303.3683,
           166.84
          ],
          [
           0.04051,
           19.726,
           19.726
          ],
          [
           0.01915,
           31.149,
           2
          ],
          [
           0.27034,
           195.2594,
           9.0765
          ],
          [
           0.08054,
           21.4328,
           9.2328
          ],
          [
           0.05583,
           55.7287,
           1.0001
          ],
          [
           0.06436,
           3178.0822,
           1
          ],
          [
           0.17855,
           735.8493,
           682.5862
          ],
          [
           0.02605,
           60.3208,
           6.0613
          ],
          [
           0.20075,
           293.7729,
           89.1588
          ],
          [
           0.2621,
           449.6899,
           30
          ],
          [
           0.63254,
           8660.9008,
           306.2237
          ],
          [
           0.38724,
           2529.3466,
           725.3646
          ],
          [
           0.15312,
           30587.461,
           19503.0063
          ],
          [
           0.053,
           6.5456,
           2.05
          ],
          [
           0.25848,
           12812.9788,
           8886.3461
          ],
          [
           0.33222,
           295.0654,
           35.8887
          ],
          [
           0.53177,
           3605.1655,
           2221.3042
          ],
          [
           0.07126,
           27.9649,
           6.3265
          ],
          [
           0.10856,
           2136.9302,
           169.266
          ],
          [
           0.01915,
           1604.9025,
           18.1128
          ],
          [
           0.08108,
           4980.6818,
           2498.7302
          ],
          [
           0.2607,
           6443.6223,
           1318.4909
          ],
          [
           0.49543,
           2156.7924,
           319.3685
          ],
          [
           0.29103,
           981.9255,
           925.1386
          ],
          [
           0.34659,
           7292.0628,
           1713.531
          ],
          [
           0.09768,
           326.1799,
           6.6522
          ],
          [
           0.07128,
           2.1477,
           1
          ],
          [
           0.22128,
           3228.6971,
           894.0909
          ],
          [
           0.03149,
           2636.312,
           2410.0857
          ],
          [
           0.25055,
           2437.3982,
           764.4031
          ],
          [
           0.14962,
           1225.2855,
           35.0991
          ],
          [
           0.06684,
           5763.9585,
           27.5942
          ],
          [
           0.28097,
           828.3518,
           19.4751
          ],
          [
           0.53177,
           330.5421,
           284.9922
          ],
          [
           0.06621,
           4742.0762,
           708.7421
          ],
          [
           0.01915,
           231.1343,
           1.0605
          ],
          [
           0.22167,
           5049.0576,
           1270.0303
          ],
          [
           0.38404,
           4356.0025,
           1294.8419
          ],
          [
           0.02077,
           345.8912,
           56.3533
          ],
          [
           0.20518,
           448.2513,
           43.4887
          ],
          [
           0.07788,
           171.095,
           1.0677
          ],
          [
           0.17634,
           40655.6253,
           4257.7071
          ],
          [
           0.45239,
           12257.678,
           791.5807
          ],
          [
           0.17046,
           14875.3547,
           2007.7738
          ],
          [
           0.03363,
           2,
           1
          ],
          [
           0.05885,
           143.2956,
           10.9416
          ],
          [
           0.05199,
           5708.6241,
           98.7496
          ],
          [
           0.71237,
           41.1025,
           2.9401
          ],
          [
           0.16859,
           24660.6569,
           4114.3296
          ],
          [
           0.07017,
           20010.5423,
           461.079
          ],
          [
           0.04011,
           20.7838,
           5
          ],
          [
           0.56667,
           24916.741,
           6182.474
          ],
          [
           0.01915,
           30.3489,
           26.1136
          ],
          [
           0.41814,
           126.5842,
           5
          ],
          [
           0.34259,
           3.0005,
           3.0005
          ],
          [
           0.06025,
           7417.1495,
           235.9237
          ],
          [
           0.30974,
           159060.5239,
           10406.8003
          ],
          [
           0.05316,
           2577.0176,
           311.5314
          ],
          [
           0.1812,
           3021.5991,
           77.3114
          ],
          [
           0.30583,
           10917.4842,
           73.9957
          ],
          [
           0.08611,
           184.4762,
           1.292
          ],
          [
           0.06517,
           351.4597,
           46.1
          ],
          [
           0.2066,
           273.1304,
           5.1029
          ],
          [
           0.31355,
           341.7192,
           19.1774
          ],
          [
           0.16867,
           139.8793,
           20
          ],
          [
           0.23893,
           146.7716,
           47.4011
          ],
          [
           0.09763,
           34332.04,
           782.0202
          ],
          [
           0.30728,
           439.2928,
           176
          ],
          [
           0.11517,
           1094.6543,
           178.2507
          ],
          [
           0.3325,
           10.687,
           3.1215
          ],
          [
           0.24131,
           425.6682,
           35.8563
          ],
          [
           0.39736,
           14625.7645,
           102.8962
          ],
          [
           0.05316,
           225.4887,
           33.4696
          ],
          [
           0.20431,
           9169.7279,
           6081.823
          ],
          [
           0.33401,
           49841.3345,
           1055.3592
          ],
          [
           0.05593,
           655.5203,
           2
          ],
          [
           0.29079,
           24813.5322,
           32.5
          ],
          [
           0.32719,
           7624.0412,
           951.3104
          ],
          [
           0.47424,
           66538.2012,
           10850.7026
          ],
          [
           0.06994,
           1181.1414,
           1094.5369
          ],
          [
           0.03582,
           66121.985,
           6.8747
          ],
          [
           0.02242,
           132.213,
           2
          ],
          [
           0.33915,
           61084.9716,
           3049.8148
          ],
          [
           0.34462,
           9436.1299,
           1329.4914
          ],
          [
           0.02495,
           231.4024,
           2.0406
          ],
          [
           0.35278,
           23143.5977,
           11.2713
          ],
          [
           0.1682,
           6320.5664,
           36.6087
          ],
          [
           0.54756,
           49404.5917,
           3325.7652
          ],
          [
           0.26123,
           26396.5796,
           6.01
          ],
          [
           0.08697,
           92.2312,
           2.0027
          ],
          [
           0.27557,
           2258.5311,
           8
          ],
          [
           0.06811,
           966.5329,
           60.5584
          ],
          [
           0.53359,
           1019.6304,
           44.2344
          ],
          [
           0.15644,
           12599.6375,
           105.7868
          ],
          [
           0.42049,
           3571.4186,
           204.6795
          ],
          [
           0.10769,
           882.3503,
           145.5595
          ],
          [
           0.18789,
           41244.5063,
           1547.8283
          ],
          [
           0.10717,
           10035.6394,
           4.0072
          ],
          [
           0.28939,
           4878.7008,
           21
          ],
          [
           0.0994,
           7427.607,
           4.1158
          ],
          [
           0.56419,
           93366.1441,
           67.1826
          ],
          [
           0.03336,
           1243.9002,
           28
          ],
          [
           0.2493,
           565.7706,
           12.864
          ],
          [
           0.09704,
           30518.5091,
           10.4272
          ],
          [
           0.06638,
           19675.1052,
           3574.7098
          ],
          [
           0.14695,
           1261.3314,
           101.6336
          ],
          [
           0.38726,
           19096.3392,
           220.9614
          ],
          [
           0.01915,
           803.9482,
           32.4046
          ],
          [
           0.01915,
           1799.6148,
           3.2337
          ],
          [
           0.26722,
           38673.0209,
           5251.0375
          ],
          [
           0.68876,
           192040.5716,
           1566.6102
          ],
          [
           0.26516,
           11991.6531,
           153.9766
          ],
          [
           0.09297,
           1180.3928,
           8.6361
          ],
          [
           0.12199,
           80270.845,
           4397.3572
          ],
          [
           0.47411,
           9411.9331,
           7.0269
          ],
          [
           0.09584,
           51.4287,
           3.7744
          ],
          [
           0.09291,
           16.71,
           1.1
          ],
          [
           0.14502,
           6810.7442,
           5
          ],
          [
           0.25073,
           55556.7756,
           69.1334
          ],
          [
           0.54698,
           130738.6192,
           1.1
          ],
          [
           0.1301,
           5776.519,
           86.9217
          ],
          [
           0.18373,
           10591.6661,
           41.3468
          ],
          [
           0.58489,
           115704.1512,
           1.0346
          ],
          [
           0.41331,
           10147.1149,
           37.0956
          ],
          [
           0.52368,
           49466.6357,
           114.0739
          ],
          [
           0.47299,
           6219.208,
           31.3724
          ],
          [
           0.61432,
           3779.8685,
           53.7237
          ],
          [
           0.40793,
           268827.2858,
           11577.1276
          ],
          [
           0.10786,
           10983.4839,
           6.01
          ],
          [
           0.16325,
           47900.782,
           806.8698
          ],
          [
           0.1337,
           835.1116,
           77.6661
          ],
          [
           0.19712,
           96227.3755,
           1554.3195
          ],
          [
           0.13097,
           4041.6557,
           37.3717
          ],
          [
           0.17637,
           291.1802,
           7
          ],
          [
           0.38286,
           84717.3961,
           2673.3696
          ],
          [
           0.52373,
           384.1863,
           6.6370000000000005
          ],
          [
           0.18718,
           123661.1312,
           49.6469
          ],
          [
           0.27082,
           17635.8759,
           213.6746
          ],
          [
           0.14327,
           65190.2962,
           6.01
          ],
          [
           0.47972,
           119711.9879,
           2815.7697
          ],
          [
           0.57199,
           54627.9122,
           2908.5684
          ],
          [
           0.54609,
           77448.8209,
           4243.6644
          ],
          [
           0.09823,
           234.9218,
           26.1557
          ],
          [
           0.6144,
           18815.0705,
           2.1
          ],
          [
           0.59908,
           396269.3026,
           4514.6146
          ],
          [
           0.38427,
           38362.8059,
           22.4599
          ],
          [
           0.63438,
           224861.4789,
           3364.8199
          ],
          [
           0.71359,
           233856.5844,
           3238.39
          ],
          [
           0.57503,
           298411.2655,
           6028.12
          ]
         ]
        }
       ],
       "layout": {
        "coloraxis": {
         "colorscale": [
          [
           0,
           "#0d0887"
          ],
          [
           0.1111111111111111,
           "#46039f"
          ],
          [
           0.2222222222222222,
           "#7201a8"
          ],
          [
           0.3333333333333333,
           "#9c179e"
          ],
          [
           0.4444444444444444,
           "#bd3786"
          ],
          [
           0.5555555555555556,
           "#d8576b"
          ],
          [
           0.6666666666666666,
           "#ed7953"
          ],
          [
           0.7777777777777778,
           "#fb9f3a"
          ],
          [
           0.8888888888888888,
           "#fdca26"
          ],
          [
           1,
           "#f0f921"
          ]
         ]
        },
        "margin": {
         "t": 60
        },
        "template": {
         "data": {
          "bar": [
           {
            "error_x": {
             "color": "#2a3f5f"
            },
            "error_y": {
             "color": "#2a3f5f"
            },
            "marker": {
             "line": {
              "color": "#E5ECF6",
              "width": 0.5
             },
             "pattern": {
              "fillmode": "overlay",
              "size": 10,
              "solidity": 0.2
             }
            },
            "type": "bar"
           }
          ],
          "barpolar": [
           {
            "marker": {
             "line": {
              "color": "#E5ECF6",
              "width": 0.5
             },
             "pattern": {
              "fillmode": "overlay",
              "size": 10,
              "solidity": 0.2
             }
            },
            "type": "barpolar"
           }
          ],
          "carpet": [
           {
            "aaxis": {
             "endlinecolor": "#2a3f5f",
             "gridcolor": "white",
             "linecolor": "white",
             "minorgridcolor": "white",
             "startlinecolor": "#2a3f5f"
            },
            "baxis": {
             "endlinecolor": "#2a3f5f",
             "gridcolor": "white",
             "linecolor": "white",
             "minorgridcolor": "white",
             "startlinecolor": "#2a3f5f"
            },
            "type": "carpet"
           }
          ],
          "choropleth": [
           {
            "colorbar": {
             "outlinewidth": 0,
             "ticks": ""
            },
            "type": "choropleth"
           }
          ],
          "contour": [
           {
            "colorbar": {
             "outlinewidth": 0,
             "ticks": ""
            },
            "colorscale": [
             [
              0,
              "#0d0887"
             ],
             [
              0.1111111111111111,
              "#46039f"
             ],
             [
              0.2222222222222222,
              "#7201a8"
             ],
             [
              0.3333333333333333,
              "#9c179e"
             ],
             [
              0.4444444444444444,
              "#bd3786"
             ],
             [
              0.5555555555555556,
              "#d8576b"
             ],
             [
              0.6666666666666666,
              "#ed7953"
             ],
             [
              0.7777777777777778,
              "#fb9f3a"
             ],
             [
              0.8888888888888888,
              "#fdca26"
             ],
             [
              1,
              "#f0f921"
             ]
            ],
            "type": "contour"
           }
          ],
          "contourcarpet": [
           {
            "colorbar": {
             "outlinewidth": 0,
             "ticks": ""
            },
            "type": "contourcarpet"
           }
          ],
          "heatmap": [
           {
            "colorbar": {
             "outlinewidth": 0,
             "ticks": ""
            },
            "colorscale": [
             [
              0,
              "#0d0887"
             ],
             [
              0.1111111111111111,
              "#46039f"
             ],
             [
              0.2222222222222222,
              "#7201a8"
             ],
             [
              0.3333333333333333,
              "#9c179e"
             ],
             [
              0.4444444444444444,
              "#bd3786"
             ],
             [
              0.5555555555555556,
              "#d8576b"
             ],
             [
              0.6666666666666666,
              "#ed7953"
             ],
             [
              0.7777777777777778,
              "#fb9f3a"
             ],
             [
              0.8888888888888888,
              "#fdca26"
             ],
             [
              1,
              "#f0f921"
             ]
            ],
            "type": "heatmap"
           }
          ],
          "heatmapgl": [
           {
            "colorbar": {
             "outlinewidth": 0,
             "ticks": ""
            },
            "colorscale": [
             [
              0,
              "#0d0887"
             ],
             [
              0.1111111111111111,
              "#46039f"
             ],
             [
              0.2222222222222222,
              "#7201a8"
             ],
             [
              0.3333333333333333,
              "#9c179e"
             ],
             [
              0.4444444444444444,
              "#bd3786"
             ],
             [
              0.5555555555555556,
              "#d8576b"
             ],
             [
              0.6666666666666666,
              "#ed7953"
             ],
             [
              0.7777777777777778,
              "#fb9f3a"
             ],
             [
              0.8888888888888888,
              "#fdca26"
             ],
             [
              1,
              "#f0f921"
             ]
            ],
            "type": "heatmapgl"
           }
          ],
          "histogram": [
           {
            "marker": {
             "pattern": {
              "fillmode": "overlay",
              "size": 10,
              "solidity": 0.2
             }
            },
            "type": "histogram"
           }
          ],
          "histogram2d": [
           {
            "colorbar": {
             "outlinewidth": 0,
             "ticks": ""
            },
            "colorscale": [
             [
              0,
              "#0d0887"
             ],
             [
              0.1111111111111111,
              "#46039f"
             ],
             [
              0.2222222222222222,
              "#7201a8"
             ],
             [
              0.3333333333333333,
              "#9c179e"
             ],
             [
              0.4444444444444444,
              "#bd3786"
             ],
             [
              0.5555555555555556,
              "#d8576b"
             ],
             [
              0.6666666666666666,
              "#ed7953"
             ],
             [
              0.7777777777777778,
              "#fb9f3a"
             ],
             [
              0.8888888888888888,
              "#fdca26"
             ],
             [
              1,
              "#f0f921"
             ]
            ],
            "type": "histogram2d"
           }
          ],
          "histogram2dcontour": [
           {
            "colorbar": {
             "outlinewidth": 0,
             "ticks": ""
            },
            "colorscale": [
             [
              0,
              "#0d0887"
             ],
             [
              0.1111111111111111,
              "#46039f"
             ],
             [
              0.2222222222222222,
              "#7201a8"
             ],
             [
              0.3333333333333333,
              "#9c179e"
             ],
             [
              0.4444444444444444,
              "#bd3786"
             ],
             [
              0.5555555555555556,
              "#d8576b"
             ],
             [
              0.6666666666666666,
              "#ed7953"
             ],
             [
              0.7777777777777778,
              "#fb9f3a"
             ],
             [
              0.8888888888888888,
              "#fdca26"
             ],
             [
              1,
              "#f0f921"
             ]
            ],
            "type": "histogram2dcontour"
           }
          ],
          "mesh3d": [
           {
            "colorbar": {
             "outlinewidth": 0,
             "ticks": ""
            },
            "type": "mesh3d"
           }
          ],
          "parcoords": [
           {
            "line": {
             "colorbar": {
              "outlinewidth": 0,
              "ticks": ""
             }
            },
            "type": "parcoords"
           }
          ],
          "pie": [
           {
            "automargin": true,
            "type": "pie"
           }
          ],
          "scatter": [
           {
            "fillpattern": {
             "fillmode": "overlay",
             "size": 10,
             "solidity": 0.2
            },
            "type": "scatter"
           }
          ],
          "scatter3d": [
           {
            "line": {
             "colorbar": {
              "outlinewidth": 0,
              "ticks": ""
             }
            },
            "marker": {
             "colorbar": {
              "outlinewidth": 0,
              "ticks": ""
             }
            },
            "type": "scatter3d"
           }
          ],
          "scattercarpet": [
           {
            "marker": {
             "colorbar": {
              "outlinewidth": 0,
              "ticks": ""
             }
            },
            "type": "scattercarpet"
           }
          ],
          "scattergeo": [
           {
            "marker": {
             "colorbar": {
              "outlinewidth": 0,
              "ticks": ""
             }
            },
            "type": "scattergeo"
           }
          ],
          "scattergl": [
           {
            "marker": {
             "colorbar": {
              "outlinewidth": 0,
              "ticks": ""
             }
            },
            "type": "scattergl"
           }
          ],
          "scattermapbox": [
           {
            "marker": {
             "colorbar": {
              "outlinewidth": 0,
              "ticks": ""
             }
            },
            "type": "scattermapbox"
           }
          ],
          "scatterpolar": [
           {
            "marker": {
             "colorbar": {
              "outlinewidth": 0,
              "ticks": ""
             }
            },
            "type": "scatterpolar"
           }
          ],
          "scatterpolargl": [
           {
            "marker": {
             "colorbar": {
              "outlinewidth": 0,
              "ticks": ""
             }
            },
            "type": "scatterpolargl"
           }
          ],
          "scatterternary": [
           {
            "marker": {
             "colorbar": {
              "outlinewidth": 0,
              "ticks": ""
             }
            },
            "type": "scatterternary"
           }
          ],
          "surface": [
           {
            "colorbar": {
             "outlinewidth": 0,
             "ticks": ""
            },
            "colorscale": [
             [
              0,
              "#0d0887"
             ],
             [
              0.1111111111111111,
              "#46039f"
             ],
             [
              0.2222222222222222,
              "#7201a8"
             ],
             [
              0.3333333333333333,
              "#9c179e"
             ],
             [
              0.4444444444444444,
              "#bd3786"
             ],
             [
              0.5555555555555556,
              "#d8576b"
             ],
             [
              0.6666666666666666,
              "#ed7953"
             ],
             [
              0.7777777777777778,
              "#fb9f3a"
             ],
             [
              0.8888888888888888,
              "#fdca26"
             ],
             [
              1,
              "#f0f921"
             ]
            ],
            "type": "surface"
           }
          ],
          "table": [
           {
            "cells": {
             "fill": {
              "color": "#EBF0F8"
             },
             "line": {
              "color": "white"
             }
            },
            "header": {
             "fill": {
              "color": "#C8D4E3"
             },
             "line": {
              "color": "white"
             }
            },
            "type": "table"
           }
          ]
         },
         "layout": {
          "annotationdefaults": {
           "arrowcolor": "#2a3f5f",
           "arrowhead": 0,
           "arrowwidth": 1
          },
          "autotypenumbers": "strict",
          "coloraxis": {
           "colorbar": {
            "outlinewidth": 0,
            "ticks": ""
           }
          },
          "colorscale": {
           "diverging": [
            [
             0,
             "#8e0152"
            ],
            [
             0.1,
             "#c51b7d"
            ],
            [
             0.2,
             "#de77ae"
            ],
            [
             0.3,
             "#f1b6da"
            ],
            [
             0.4,
             "#fde0ef"
            ],
            [
             0.5,
             "#f7f7f7"
            ],
            [
             0.6,
             "#e6f5d0"
            ],
            [
             0.7,
             "#b8e186"
            ],
            [
             0.8,
             "#7fbc41"
            ],
            [
             0.9,
             "#4d9221"
            ],
            [
             1,
             "#276419"
            ]
           ],
           "sequential": [
            [
             0,
             "#0d0887"
            ],
            [
             0.1111111111111111,
             "#46039f"
            ],
            [
             0.2222222222222222,
             "#7201a8"
            ],
            [
             0.3333333333333333,
             "#9c179e"
            ],
            [
             0.4444444444444444,
             "#bd3786"
            ],
            [
             0.5555555555555556,
             "#d8576b"
            ],
            [
             0.6666666666666666,
             "#ed7953"
            ],
            [
             0.7777777777777778,
             "#fb9f3a"
            ],
            [
             0.8888888888888888,
             "#fdca26"
            ],
            [
             1,
             "#f0f921"
            ]
           ],
           "sequentialminus": [
            [
             0,
             "#0d0887"
            ],
            [
             0.1111111111111111,
             "#46039f"
            ],
            [
             0.2222222222222222,
             "#7201a8"
            ],
            [
             0.3333333333333333,
             "#9c179e"
            ],
            [
             0.4444444444444444,
             "#bd3786"
            ],
            [
             0.5555555555555556,
             "#d8576b"
            ],
            [
             0.6666666666666666,
             "#ed7953"
            ],
            [
             0.7777777777777778,
             "#fb9f3a"
            ],
            [
             0.8888888888888888,
             "#fdca26"
            ],
            [
             1,
             "#f0f921"
            ]
           ]
          },
          "colorway": [
           "#636efa",
           "#EF553B",
           "#00cc96",
           "#ab63fa",
           "#FFA15A",
           "#19d3f3",
           "#FF6692",
           "#B6E880",
           "#FF97FF",
           "#FECB52"
          ],
          "font": {
           "color": "#2a3f5f"
          },
          "geo": {
           "bgcolor": "white",
           "lakecolor": "white",
           "landcolor": "#E5ECF6",
           "showlakes": true,
           "showland": true,
           "subunitcolor": "white"
          },
          "hoverlabel": {
           "align": "left"
          },
          "hovermode": "closest",
          "mapbox": {
           "style": "light"
          },
          "paper_bgcolor": "white",
          "plot_bgcolor": "#E5ECF6",
          "polar": {
           "angularaxis": {
            "gridcolor": "white",
            "linecolor": "white",
            "ticks": ""
           },
           "bgcolor": "#E5ECF6",
           "radialaxis": {
            "gridcolor": "white",
            "linecolor": "white",
            "ticks": ""
           }
          },
          "scene": {
           "xaxis": {
            "backgroundcolor": "#E5ECF6",
            "gridcolor": "white",
            "gridwidth": 2,
            "linecolor": "white",
            "showbackground": true,
            "ticks": "",
            "zerolinecolor": "white"
           },
           "yaxis": {
            "backgroundcolor": "#E5ECF6",
            "gridcolor": "white",
            "gridwidth": 2,
            "linecolor": "white",
            "showbackground": true,
            "ticks": "",
            "zerolinecolor": "white"
           },
           "zaxis": {
            "backgroundcolor": "#E5ECF6",
            "gridcolor": "white",
            "gridwidth": 2,
            "linecolor": "white",
            "showbackground": true,
            "ticks": "",
            "zerolinecolor": "white"
           }
          },
          "shapedefaults": {
           "line": {
            "color": "#2a3f5f"
           }
          },
          "ternary": {
           "aaxis": {
            "gridcolor": "white",
            "linecolor": "white",
            "ticks": ""
           },
           "baxis": {
            "gridcolor": "white",
            "linecolor": "white",
            "ticks": ""
           },
           "bgcolor": "#E5ECF6",
           "caxis": {
            "gridcolor": "white",
            "linecolor": "white",
            "ticks": ""
           }
          },
          "title": {
           "x": 0.05
          },
          "xaxis": {
           "automargin": true,
           "gridcolor": "white",
           "linecolor": "white",
           "ticks": "",
           "title": {
            "standoff": 15
           },
           "zerolinecolor": "white",
           "zerolinewidth": 2
          },
          "yaxis": {
           "automargin": true,
           "gridcolor": "white",
           "linecolor": "white",
           "ticks": "",
           "title": {
            "standoff": 15
           },
           "zerolinecolor": "white",
           "zerolinewidth": 2
          }
         }
        },
        "xaxis": {
         "anchor": "y",
         "constrain": "domain",
         "domain": [
          0,
          1
         ],
         "scaleanchor": "y"
        },
        "yaxis": {
         "anchor": "x",
         "autorange": "reversed",
         "constrain": "domain",
         "domain": [
          0,
          1
         ]
        }
       }
      }
     },
     "metadata": {},
     "output_type": "display_data"
    }
   ],
   "source": [
    "# heat = merged[['score', 'amount_received', 'amount_received_in_round']]\n",
    "# fig = px.imshow(heat)\n",
    "# fig.show()"
   ]
  },
  {
   "cell_type": "code",
   "execution_count": 23,
   "metadata": {},
   "outputs": [
    {
     "data": {
      "application/vnd.plotly.v1+json": {
       "config": {
        "plotlyServerURL": "https://plot.ly"
       },
       "data": [
        {
         "dimensions": [
          {
           "axis": {
            "matches": true
           },
           "label": "score",
           "values": [
            0.0391,
            0.08922,
            0.0532,
            0.07593,
            0.02077,
            0.20942,
            0.11658,
            0.01915,
            0.19628,
            0.17489,
            0.01915,
            0.02077,
            0.40249,
            0.0811,
            0.09179,
            0.20049,
            0.20194,
            0.06158,
            0.02556,
            0.16783,
            0.18569,
            0.4963,
            0.03582,
            0.01915,
            0.02077,
            0.05316,
            0.01915,
            0.13842,
            0.01915,
            0.06869,
            0.08951,
            0.04298,
            0.07126,
            0.21061,
            0.08457,
            0.19902,
            0.02524,
            0.06885,
            0.27986,
            0.26137,
            0.02773,
            0.02773,
            0.17862,
            0.02077,
            0.02225,
            0.0888,
            0.09353,
            0.10873,
            0.02909,
            0.18541,
            0.02077,
            0.05316,
            0.07281,
            0.06731,
            0.05316,
            0.03992,
            0.07428,
            0.02225,
            0.10163,
            0.23485,
            0.11592,
            0.0642,
            0.03072,
            0.22781,
            0.1679,
            0.23041,
            0.27742,
            0.07738,
            0.17349,
            0.08219,
            0.06655,
            0.06116,
            0.03345,
            0.19951,
            0.03149,
            0.15002,
            0.06436,
            0.04195,
            0.15545,
            0.21202,
            0.11543,
            0.10184,
            0.15637,
            0.01915,
            0.20239,
            0.39355,
            0.02077,
            0.01915,
            0.05106,
            0.0333,
            0.09554,
            0.10088,
            0.04155,
            0.10897,
            0.14028,
            0.09894,
            0.10462,
            0.12011,
            0.06184,
            0.12044,
            0.11225,
            0.14521,
            0.34528,
            0.1881,
            0.30856,
            0.09032,
            0.06878,
            0.03926,
            0.25537,
            0.19871,
            0.15556,
            0.23479,
            0.08963,
            0.10245,
            0.05842,
            0.02225,
            0.01915,
            0.01915,
            0.24866,
            0.17653,
            0.25597,
            0.09385,
            0.25372,
            0.03778,
            0.23485,
            0.18359,
            0.34313,
            0.07849,
            0.22006,
            0.03741,
            0.37718,
            0.04051,
            0.01915,
            0.27034,
            0.08054,
            0.05583,
            0.06436,
            0.17855,
            0.02605,
            0.20075,
            0.2621,
            0.63254,
            0.38724,
            0.15312,
            0.053,
            0.25848,
            0.33222,
            0.53177,
            0.07126,
            0.10856,
            0.01915,
            0.08108,
            0.2607,
            0.49543,
            0.29103,
            0.34659,
            0.09768,
            0.07128,
            0.22128,
            0.03149,
            0.25055,
            0.14962,
            0.06684,
            0.28097,
            0.53177,
            0.06621,
            0.01915,
            0.22167,
            0.38404,
            0.02077,
            0.20518,
            0.07788,
            0.17634,
            0.45239,
            0.17046,
            0.03363,
            0.05885,
            0.05199,
            0.71237,
            0.16859,
            0.07017,
            0.04011,
            0.56667,
            0.01915,
            0.41814,
            0.34259,
            0.06025,
            0.30974,
            0.05316,
            0.1812,
            0.30583,
            0.08611,
            0.06517,
            0.2066,
            0.31355,
            0.16867,
            0.23893,
            0.09763,
            0.30728,
            0.11517,
            0.3325,
            0.24131,
            0.39736,
            0.05316,
            0.20431,
            0.33401,
            0.05593,
            0.29079,
            0.32719,
            0.47424,
            0.06994,
            0.03582,
            0.02242,
            0.33915,
            0.34462,
            0.02495,
            0.35278,
            0.1682,
            0.54756,
            0.26123,
            0.08697,
            0.27557,
            0.06811,
            0.53359,
            0.15644,
            0.42049,
            0.10769,
            0.18789,
            0.10717,
            0.28939,
            0.0994,
            0.56419,
            0.03336,
            0.2493,
            0.09704,
            0.06638,
            0.14695,
            0.38726,
            0.01915,
            0.01915,
            0.26722,
            0.68876,
            0.26516,
            0.09297,
            0.12199,
            0.47411,
            0.09584,
            0.09291,
            0.14502,
            0.25073,
            0.54698,
            0.1301,
            0.18373,
            0.58489,
            0.41331,
            0.52368,
            0.47299,
            0.61432,
            0.40793,
            0.10786,
            0.16325,
            0.1337,
            0.19712,
            0.13097,
            0.17637,
            0.38286,
            0.52373,
            0.18718,
            0.27082,
            0.14327,
            0.47972,
            0.57199,
            0.54609,
            0.09823,
            0.6144,
            0.59908,
            0.38427,
            0.63438,
            0.71359,
            0.57503
           ]
          },
          {
           "axis": {
            "matches": true
           },
           "label": "amount_received",
           "values": [
            5.2943,
            306.4585,
            5.0919,
            15.3044,
            12.9233,
            3,
            374.2607,
            1,
            87.0492,
            13.1993,
            12.436,
            112.3,
            1060.723,
            2,
            169.3337,
            1,
            373.0836,
            691.7431,
            1,
            89.3071,
            343.5193,
            1.4281,
            35.1638,
            111.1234,
            333.8085,
            198.2951,
            234.1474,
            1010,
            66.3456,
            7.5008,
            1761.7448,
            627.1058,
            188.5026,
            135.9112,
            31.6766,
            1108.4667,
            35.4944,
            16.0512,
            3.6645,
            1232.5648,
            2396.9494,
            592.7385,
            107.6058,
            128.8777,
            64.9906,
            247.3499,
            16.7941,
            2255.1655,
            4.1329,
            612.0122,
            41.5868,
            1100.92,
            718.7742,
            1004.6552,
            257.3035,
            1195.6371,
            339.3695,
            29.1429,
            2539.7043,
            30.5787,
            2,
            13.1329,
            1,
            70.0603,
            2376.9268,
            105.1114,
            1960.5,
            459.8712,
            1037.1698,
            68.7687,
            166.8817,
            275.3063,
            6.3199,
            906.0687,
            1,
            31.7044,
            669.9797,
            2058.9958,
            36729.9362,
            7153.0903,
            11.3538,
            1618.9639,
            16.2495,
            2.457,
            119.719,
            1341.7127,
            19.8553,
            1484.1558,
            26.0009,
            73.634,
            3686.0025,
            35.4305,
            2232.8347,
            12.476,
            2.0009,
            923.0426,
            1257.681,
            65.0925,
            16.1989,
            1.1,
            331.9644,
            152.2733,
            14643.3105,
            174.2664,
            5,
            4.6491,
            325.0754,
            74.2837,
            268.6559,
            1.0295,
            1402.9982,
            603.909,
            610.8244,
            47.9104,
            968.1617,
            8.2064,
            419.5984,
            59.5709,
            38.4715,
            12.7367,
            15765.0618,
            241.0564,
            489.7809,
            107.0553,
            19.9315,
            2036.3158,
            240.3045,
            4941.1508,
            148.2459,
            21.091,
            303.3683,
            19.726,
            31.149,
            195.2594,
            21.4328,
            55.7287,
            3178.0822,
            735.8493,
            60.3208,
            293.7729,
            449.6899,
            8660.9008,
            2529.3466,
            30587.461,
            6.5456,
            12812.9788,
            295.0654,
            3605.1655,
            27.9649,
            2136.9302,
            1604.9025,
            4980.6818,
            6443.6223,
            2156.7924,
            981.9255,
            7292.0628,
            326.1799,
            2.1477,
            3228.6971,
            2636.312,
            2437.3982,
            1225.2855,
            5763.9585,
            828.3518,
            330.5421,
            4742.0762,
            231.1343,
            5049.0576,
            4356.0025,
            345.8912,
            448.2513,
            171.095,
            40655.6253,
            12257.678,
            14875.3547,
            2,
            143.2956,
            5708.6241,
            41.1025,
            24660.6569,
            20010.5423,
            20.7838,
            24916.741,
            30.3489,
            126.5842,
            3.0005,
            7417.1495,
            159060.5239,
            2577.0176,
            3021.5991,
            10917.4842,
            184.4762,
            351.4597,
            273.1304,
            341.7192,
            139.8793,
            146.7716,
            34332.04,
            439.2928,
            1094.6543,
            10.687,
            425.6682,
            14625.7645,
            225.4887,
            9169.7279,
            49841.3345,
            655.5203,
            24813.5322,
            7624.0412,
            66538.2012,
            1181.1414,
            66121.985,
            132.213,
            61084.9716,
            9436.1299,
            231.4024,
            23143.5977,
            6320.5664,
            49404.5917,
            26396.5796,
            92.2312,
            2258.5311,
            966.5329,
            1019.6304,
            12599.6375,
            3571.4186,
            882.3503,
            41244.5063,
            10035.6394,
            4878.7008,
            7427.607,
            93366.1441,
            1243.9002,
            565.7706,
            30518.5091,
            19675.1052,
            1261.3314,
            19096.3392,
            803.9482,
            1799.6148,
            38673.0209,
            192040.5716,
            11991.6531,
            1180.3928,
            80270.845,
            9411.9331,
            51.4287,
            16.71,
            6810.7442,
            55556.7756,
            130738.6192,
            5776.519,
            10591.6661,
            115704.1512,
            10147.1149,
            49466.6357,
            6219.208,
            3779.8685,
            268827.2858,
            10983.4839,
            47900.782,
            835.1116,
            96227.3755,
            4041.6557,
            291.1802,
            84717.3961,
            384.1863,
            123661.1312,
            17635.8759,
            65190.2962,
            119711.9879,
            54627.9122,
            77448.8209,
            234.9218,
            18815.0705,
            396269.3026,
            38362.8059,
            224861.4789,
            233856.5844,
            298411.2655
           ]
          },
          {
           "axis": {
            "matches": true
           },
           "label": "amount_received_in_round",
           "values": [
            5.2943,
            306.4585,
            5.0919,
            15.3044,
            12.9233,
            3,
            374.2607,
            1,
            87.0492,
            13.1993,
            12.436,
            112.3,
            1060.723,
            2,
            169.3337,
            1,
            373.0836,
            691.7431,
            1,
            89.3071,
            343.5193,
            1.4281,
            35.1638,
            111.1234,
            333.8085,
            198.2951,
            234.1474,
            1010,
            66.3456,
            7.5008,
            1761.7448,
            627.1058,
            188.5026,
            135.9112,
            31.6766,
            1108.4667,
            35.4944,
            16.0512,
            3.6645,
            1232.5648,
            2396.9494,
            592.7385,
            107.6058,
            128.8777,
            64.9906,
            247.3499,
            16.7941,
            2255.1655,
            4.1329,
            612.0122,
            41.5868,
            1093.081,
            718.7742,
            999.7452,
            257.3035,
            1195.6371,
            339.3695,
            28.1329,
            2539.7043,
            30.5787,
            2,
            13.1329,
            1,
            70.0603,
            2375.9268,
            105.1114,
            1959.5,
            458.3021,
            1037.1698,
            68.7687,
            164.3017,
            275.3063,
            3.1329,
            906.0687,
            1,
            31.7044,
            668.9749,
            2058.9958,
            36654.9438,
            7153.0903,
            10.2301,
            1429.8458,
            15.248,
            2.457,
            118.7165,
            1341.7127,
            17.853,
            1484.1558,
            25,
            70.5908,
            3661.0025,
            32.7445,
            2201.8339,
            11.4751,
            1,
            922.0412,
            1253.7892,
            65.0925,
            15.1974,
            1.1,
            306.9644,
            152.2733,
            14616.5937,
            174.2664,
            5,
            2.6491,
            325.0754,
            74.2837,
            259.5175,
            1.0295,
            266.604,
            48.3181,
            8.2636,
            32.1002,
            537.074,
            3.0001,
            161.4509,
            8.2632,
            8.4751,
            2.6491,
            15426.7656,
            44.1773,
            289.9894,
            21.3281,
            1.0001,
            473.0406,
            8.2129,
            64.7386,
            24.013,
            2.1981,
            166.84,
            19.726,
            2,
            9.0765,
            9.2328,
            1.0001,
            1,
            682.5862,
            6.0613,
            89.1588,
            30,
            306.2237,
            725.3646,
            19503.0063,
            2.05,
            8886.3461,
            35.8887,
            2221.3042,
            6.3265,
            169.266,
            18.1128,
            2498.7302,
            1318.4909,
            319.3685,
            925.1386,
            1713.531,
            6.6522,
            1,
            894.0909,
            2410.0857,
            764.4031,
            35.0991,
            27.5942,
            19.4751,
            284.9922,
            708.7421,
            1.0605,
            1270.0303,
            1294.8419,
            56.3533,
            43.4887,
            1.0677,
            4257.7071,
            791.5807,
            2007.7738,
            1,
            10.9416,
            98.7496,
            2.9401,
            4114.3296,
            461.079,
            5,
            6182.474,
            26.1136,
            5,
            3.0005,
            235.9237,
            10406.8003,
            311.5314,
            77.3114,
            73.9957,
            1.292,
            46.1,
            5.1029,
            19.1774,
            20,
            47.4011,
            782.0202,
            176,
            178.2507,
            3.1215,
            35.8563,
            102.8962,
            33.4696,
            6081.823,
            1055.3592,
            2,
            32.5,
            951.3104,
            10850.7026,
            1094.5369,
            6.8747,
            2,
            3049.8148,
            1329.4914,
            2.0406,
            11.2713,
            36.6087,
            3325.7652,
            6.01,
            2.0027,
            8,
            60.5584,
            44.2344,
            105.7868,
            204.6795,
            145.5595,
            1547.8283,
            4.0072,
            21,
            4.1158,
            67.1826,
            28,
            12.864,
            10.4272,
            3574.7098,
            101.6336,
            220.9614,
            32.4046,
            3.2337,
            5251.0375,
            1566.6102,
            153.9766,
            8.6361,
            4397.3572,
            7.0269,
            3.7744,
            1.1,
            5,
            69.1334,
            1.1,
            86.9217,
            41.3468,
            1.0346,
            37.0956,
            114.0739,
            31.3724,
            53.7237,
            11577.1276,
            6.01,
            806.8698,
            77.6661,
            1554.3195,
            37.3717,
            7,
            2673.3696,
            6.6370000000000005,
            49.6469,
            213.6746,
            6.01,
            2815.7697,
            2908.5684,
            4243.6644,
            26.1557,
            2.1,
            4514.6146,
            22.4599,
            3364.8199,
            3238.39,
            6028.12
           ]
          },
          {
           "axis": {
            "matches": true
           },
           "label": "contribution_count",
           "values": [
            5,
            7,
            5,
            9,
            8,
            1,
            48,
            1,
            14,
            1,
            11,
            7,
            484,
            1,
            5,
            1,
            22,
            5,
            1,
            14,
            80,
            1,
            15,
            198,
            9,
            67,
            247,
            2,
            202,
            3,
            452,
            107,
            29,
            9,
            6,
            414,
            14,
            14,
            1,
            524,
            252,
            126,
            31,
            99,
            4,
            78,
            8,
            1519,
            2,
            106,
            7,
            184,
            71,
            519,
            18,
            348,
            8,
            3,
            464,
            6,
            1,
            2,
            1,
            11,
            213,
            28,
            8,
            27,
            130,
            8,
            118,
            298,
            2,
            22,
            1,
            8,
            6,
            281,
            16125,
            897,
            7,
            463,
            8,
            2,
            18,
            295,
            7,
            1219,
            2,
            10,
            550,
            12,
            1011,
            9,
            2,
            254,
            447,
            3,
            7,
            1,
            122,
            16,
            8184,
            12,
            1,
            3,
            198,
            19,
            47,
            1,
            54,
            39,
            20,
            13,
            159,
            7,
            76,
            29,
            25,
            7,
            9247,
            36,
            215,
            24,
            14,
            132,
            24,
            725,
            19,
            9,
            42,
            4,
            6,
            43,
            10,
            17,
            145,
            10,
            27,
            42,
            40,
            838,
            1056,
            15167,
            7,
            5464,
            21,
            504,
            18,
            689,
            1058,
            2725,
            1824,
            439,
            142,
            730,
            119,
            2,
            475,
            218,
            243,
            734,
            1630,
            89,
            21,
            1393,
            92,
            15,
            1721,
            33,
            136,
            51,
            5855,
            2388,
            4816,
            2,
            41,
            193,
            8,
            12115,
            4538,
            13,
            2023,
            7,
            8,
            3,
            1862,
            49574,
            734,
            375,
            5305,
            20,
            33,
            64,
            41,
            66,
            18,
            2418,
            18,
            142,
            8,
            73,
            31,
            41,
            2935,
            6780,
            105,
            5633,
            1254,
            3984,
            17,
            7877,
            32,
            7731,
            1139,
            81,
            3067,
            1188,
            8208,
            10127,
            42,
            588,
            140,
            244,
            1674,
            287,
            50,
            6169,
            3187,
            350,
            3236,
            11537,
            163,
            47,
            7205,
            6235,
            173,
            3022,
            152,
            242,
            6153,
            15904,
            697,
            326,
            14453,
            997,
            20,
            3,
            1574,
            12848,
            21294,
            802,
            1024,
            9441,
            526,
            8334,
            1017,
            727,
            54177,
            1104,
            9770,
            194,
            9753,
            937,
            38,
            11959,
            109,
            14413,
            3092,
            4632,
            17779,
            3968,
            7470,
            122,
            3585,
            32580,
            5337,
            26858,
            24462,
            23434
           ]
          }
         ],
         "hovertemplate": "%{xaxis.title.text}=%{x}<br>%{yaxis.title.text}=%{y}<extra></extra>",
         "legendgroup": "",
         "marker": {
          "color": "#636efa",
          "symbol": "circle"
         },
         "name": "",
         "showlegend": false,
         "type": "splom"
        }
       ],
       "layout": {
        "dragmode": "select",
        "legend": {
         "tracegroupgap": 0
        },
        "margin": {
         "t": 60
        },
        "template": {
         "data": {
          "bar": [
           {
            "error_x": {
             "color": "#2a3f5f"
            },
            "error_y": {
             "color": "#2a3f5f"
            },
            "marker": {
             "line": {
              "color": "#E5ECF6",
              "width": 0.5
             },
             "pattern": {
              "fillmode": "overlay",
              "size": 10,
              "solidity": 0.2
             }
            },
            "type": "bar"
           }
          ],
          "barpolar": [
           {
            "marker": {
             "line": {
              "color": "#E5ECF6",
              "width": 0.5
             },
             "pattern": {
              "fillmode": "overlay",
              "size": 10,
              "solidity": 0.2
             }
            },
            "type": "barpolar"
           }
          ],
          "carpet": [
           {
            "aaxis": {
             "endlinecolor": "#2a3f5f",
             "gridcolor": "white",
             "linecolor": "white",
             "minorgridcolor": "white",
             "startlinecolor": "#2a3f5f"
            },
            "baxis": {
             "endlinecolor": "#2a3f5f",
             "gridcolor": "white",
             "linecolor": "white",
             "minorgridcolor": "white",
             "startlinecolor": "#2a3f5f"
            },
            "type": "carpet"
           }
          ],
          "choropleth": [
           {
            "colorbar": {
             "outlinewidth": 0,
             "ticks": ""
            },
            "type": "choropleth"
           }
          ],
          "contour": [
           {
            "colorbar": {
             "outlinewidth": 0,
             "ticks": ""
            },
            "colorscale": [
             [
              0,
              "#0d0887"
             ],
             [
              0.1111111111111111,
              "#46039f"
             ],
             [
              0.2222222222222222,
              "#7201a8"
             ],
             [
              0.3333333333333333,
              "#9c179e"
             ],
             [
              0.4444444444444444,
              "#bd3786"
             ],
             [
              0.5555555555555556,
              "#d8576b"
             ],
             [
              0.6666666666666666,
              "#ed7953"
             ],
             [
              0.7777777777777778,
              "#fb9f3a"
             ],
             [
              0.8888888888888888,
              "#fdca26"
             ],
             [
              1,
              "#f0f921"
             ]
            ],
            "type": "contour"
           }
          ],
          "contourcarpet": [
           {
            "colorbar": {
             "outlinewidth": 0,
             "ticks": ""
            },
            "type": "contourcarpet"
           }
          ],
          "heatmap": [
           {
            "colorbar": {
             "outlinewidth": 0,
             "ticks": ""
            },
            "colorscale": [
             [
              0,
              "#0d0887"
             ],
             [
              0.1111111111111111,
              "#46039f"
             ],
             [
              0.2222222222222222,
              "#7201a8"
             ],
             [
              0.3333333333333333,
              "#9c179e"
             ],
             [
              0.4444444444444444,
              "#bd3786"
             ],
             [
              0.5555555555555556,
              "#d8576b"
             ],
             [
              0.6666666666666666,
              "#ed7953"
             ],
             [
              0.7777777777777778,
              "#fb9f3a"
             ],
             [
              0.8888888888888888,
              "#fdca26"
             ],
             [
              1,
              "#f0f921"
             ]
            ],
            "type": "heatmap"
           }
          ],
          "heatmapgl": [
           {
            "colorbar": {
             "outlinewidth": 0,
             "ticks": ""
            },
            "colorscale": [
             [
              0,
              "#0d0887"
             ],
             [
              0.1111111111111111,
              "#46039f"
             ],
             [
              0.2222222222222222,
              "#7201a8"
             ],
             [
              0.3333333333333333,
              "#9c179e"
             ],
             [
              0.4444444444444444,
              "#bd3786"
             ],
             [
              0.5555555555555556,
              "#d8576b"
             ],
             [
              0.6666666666666666,
              "#ed7953"
             ],
             [
              0.7777777777777778,
              "#fb9f3a"
             ],
             [
              0.8888888888888888,
              "#fdca26"
             ],
             [
              1,
              "#f0f921"
             ]
            ],
            "type": "heatmapgl"
           }
          ],
          "histogram": [
           {
            "marker": {
             "pattern": {
              "fillmode": "overlay",
              "size": 10,
              "solidity": 0.2
             }
            },
            "type": "histogram"
           }
          ],
          "histogram2d": [
           {
            "colorbar": {
             "outlinewidth": 0,
             "ticks": ""
            },
            "colorscale": [
             [
              0,
              "#0d0887"
             ],
             [
              0.1111111111111111,
              "#46039f"
             ],
             [
              0.2222222222222222,
              "#7201a8"
             ],
             [
              0.3333333333333333,
              "#9c179e"
             ],
             [
              0.4444444444444444,
              "#bd3786"
             ],
             [
              0.5555555555555556,
              "#d8576b"
             ],
             [
              0.6666666666666666,
              "#ed7953"
             ],
             [
              0.7777777777777778,
              "#fb9f3a"
             ],
             [
              0.8888888888888888,
              "#fdca26"
             ],
             [
              1,
              "#f0f921"
             ]
            ],
            "type": "histogram2d"
           }
          ],
          "histogram2dcontour": [
           {
            "colorbar": {
             "outlinewidth": 0,
             "ticks": ""
            },
            "colorscale": [
             [
              0,
              "#0d0887"
             ],
             [
              0.1111111111111111,
              "#46039f"
             ],
             [
              0.2222222222222222,
              "#7201a8"
             ],
             [
              0.3333333333333333,
              "#9c179e"
             ],
             [
              0.4444444444444444,
              "#bd3786"
             ],
             [
              0.5555555555555556,
              "#d8576b"
             ],
             [
              0.6666666666666666,
              "#ed7953"
             ],
             [
              0.7777777777777778,
              "#fb9f3a"
             ],
             [
              0.8888888888888888,
              "#fdca26"
             ],
             [
              1,
              "#f0f921"
             ]
            ],
            "type": "histogram2dcontour"
           }
          ],
          "mesh3d": [
           {
            "colorbar": {
             "outlinewidth": 0,
             "ticks": ""
            },
            "type": "mesh3d"
           }
          ],
          "parcoords": [
           {
            "line": {
             "colorbar": {
              "outlinewidth": 0,
              "ticks": ""
             }
            },
            "type": "parcoords"
           }
          ],
          "pie": [
           {
            "automargin": true,
            "type": "pie"
           }
          ],
          "scatter": [
           {
            "fillpattern": {
             "fillmode": "overlay",
             "size": 10,
             "solidity": 0.2
            },
            "type": "scatter"
           }
          ],
          "scatter3d": [
           {
            "line": {
             "colorbar": {
              "outlinewidth": 0,
              "ticks": ""
             }
            },
            "marker": {
             "colorbar": {
              "outlinewidth": 0,
              "ticks": ""
             }
            },
            "type": "scatter3d"
           }
          ],
          "scattercarpet": [
           {
            "marker": {
             "colorbar": {
              "outlinewidth": 0,
              "ticks": ""
             }
            },
            "type": "scattercarpet"
           }
          ],
          "scattergeo": [
           {
            "marker": {
             "colorbar": {
              "outlinewidth": 0,
              "ticks": ""
             }
            },
            "type": "scattergeo"
           }
          ],
          "scattergl": [
           {
            "marker": {
             "colorbar": {
              "outlinewidth": 0,
              "ticks": ""
             }
            },
            "type": "scattergl"
           }
          ],
          "scattermapbox": [
           {
            "marker": {
             "colorbar": {
              "outlinewidth": 0,
              "ticks": ""
             }
            },
            "type": "scattermapbox"
           }
          ],
          "scatterpolar": [
           {
            "marker": {
             "colorbar": {
              "outlinewidth": 0,
              "ticks": ""
             }
            },
            "type": "scatterpolar"
           }
          ],
          "scatterpolargl": [
           {
            "marker": {
             "colorbar": {
              "outlinewidth": 0,
              "ticks": ""
             }
            },
            "type": "scatterpolargl"
           }
          ],
          "scatterternary": [
           {
            "marker": {
             "colorbar": {
              "outlinewidth": 0,
              "ticks": ""
             }
            },
            "type": "scatterternary"
           }
          ],
          "surface": [
           {
            "colorbar": {
             "outlinewidth": 0,
             "ticks": ""
            },
            "colorscale": [
             [
              0,
              "#0d0887"
             ],
             [
              0.1111111111111111,
              "#46039f"
             ],
             [
              0.2222222222222222,
              "#7201a8"
             ],
             [
              0.3333333333333333,
              "#9c179e"
             ],
             [
              0.4444444444444444,
              "#bd3786"
             ],
             [
              0.5555555555555556,
              "#d8576b"
             ],
             [
              0.6666666666666666,
              "#ed7953"
             ],
             [
              0.7777777777777778,
              "#fb9f3a"
             ],
             [
              0.8888888888888888,
              "#fdca26"
             ],
             [
              1,
              "#f0f921"
             ]
            ],
            "type": "surface"
           }
          ],
          "table": [
           {
            "cells": {
             "fill": {
              "color": "#EBF0F8"
             },
             "line": {
              "color": "white"
             }
            },
            "header": {
             "fill": {
              "color": "#C8D4E3"
             },
             "line": {
              "color": "white"
             }
            },
            "type": "table"
           }
          ]
         },
         "layout": {
          "annotationdefaults": {
           "arrowcolor": "#2a3f5f",
           "arrowhead": 0,
           "arrowwidth": 1
          },
          "autotypenumbers": "strict",
          "coloraxis": {
           "colorbar": {
            "outlinewidth": 0,
            "ticks": ""
           }
          },
          "colorscale": {
           "diverging": [
            [
             0,
             "#8e0152"
            ],
            [
             0.1,
             "#c51b7d"
            ],
            [
             0.2,
             "#de77ae"
            ],
            [
             0.3,
             "#f1b6da"
            ],
            [
             0.4,
             "#fde0ef"
            ],
            [
             0.5,
             "#f7f7f7"
            ],
            [
             0.6,
             "#e6f5d0"
            ],
            [
             0.7,
             "#b8e186"
            ],
            [
             0.8,
             "#7fbc41"
            ],
            [
             0.9,
             "#4d9221"
            ],
            [
             1,
             "#276419"
            ]
           ],
           "sequential": [
            [
             0,
             "#0d0887"
            ],
            [
             0.1111111111111111,
             "#46039f"
            ],
            [
             0.2222222222222222,
             "#7201a8"
            ],
            [
             0.3333333333333333,
             "#9c179e"
            ],
            [
             0.4444444444444444,
             "#bd3786"
            ],
            [
             0.5555555555555556,
             "#d8576b"
            ],
            [
             0.6666666666666666,
             "#ed7953"
            ],
            [
             0.7777777777777778,
             "#fb9f3a"
            ],
            [
             0.8888888888888888,
             "#fdca26"
            ],
            [
             1,
             "#f0f921"
            ]
           ],
           "sequentialminus": [
            [
             0,
             "#0d0887"
            ],
            [
             0.1111111111111111,
             "#46039f"
            ],
            [
             0.2222222222222222,
             "#7201a8"
            ],
            [
             0.3333333333333333,
             "#9c179e"
            ],
            [
             0.4444444444444444,
             "#bd3786"
            ],
            [
             0.5555555555555556,
             "#d8576b"
            ],
            [
             0.6666666666666666,
             "#ed7953"
            ],
            [
             0.7777777777777778,
             "#fb9f3a"
            ],
            [
             0.8888888888888888,
             "#fdca26"
            ],
            [
             1,
             "#f0f921"
            ]
           ]
          },
          "colorway": [
           "#636efa",
           "#EF553B",
           "#00cc96",
           "#ab63fa",
           "#FFA15A",
           "#19d3f3",
           "#FF6692",
           "#B6E880",
           "#FF97FF",
           "#FECB52"
          ],
          "font": {
           "color": "#2a3f5f"
          },
          "geo": {
           "bgcolor": "white",
           "lakecolor": "white",
           "landcolor": "#E5ECF6",
           "showlakes": true,
           "showland": true,
           "subunitcolor": "white"
          },
          "hoverlabel": {
           "align": "left"
          },
          "hovermode": "closest",
          "mapbox": {
           "style": "light"
          },
          "paper_bgcolor": "white",
          "plot_bgcolor": "#E5ECF6",
          "polar": {
           "angularaxis": {
            "gridcolor": "white",
            "linecolor": "white",
            "ticks": ""
           },
           "bgcolor": "#E5ECF6",
           "radialaxis": {
            "gridcolor": "white",
            "linecolor": "white",
            "ticks": ""
           }
          },
          "scene": {
           "xaxis": {
            "backgroundcolor": "#E5ECF6",
            "gridcolor": "white",
            "gridwidth": 2,
            "linecolor": "white",
            "showbackground": true,
            "ticks": "",
            "zerolinecolor": "white"
           },
           "yaxis": {
            "backgroundcolor": "#E5ECF6",
            "gridcolor": "white",
            "gridwidth": 2,
            "linecolor": "white",
            "showbackground": true,
            "ticks": "",
            "zerolinecolor": "white"
           },
           "zaxis": {
            "backgroundcolor": "#E5ECF6",
            "gridcolor": "white",
            "gridwidth": 2,
            "linecolor": "white",
            "showbackground": true,
            "ticks": "",
            "zerolinecolor": "white"
           }
          },
          "shapedefaults": {
           "line": {
            "color": "#2a3f5f"
           }
          },
          "ternary": {
           "aaxis": {
            "gridcolor": "white",
            "linecolor": "white",
            "ticks": ""
           },
           "baxis": {
            "gridcolor": "white",
            "linecolor": "white",
            "ticks": ""
           },
           "bgcolor": "#E5ECF6",
           "caxis": {
            "gridcolor": "white",
            "linecolor": "white",
            "ticks": ""
           }
          },
          "title": {
           "x": 0.05
          },
          "xaxis": {
           "automargin": true,
           "gridcolor": "white",
           "linecolor": "white",
           "ticks": "",
           "title": {
            "standoff": 15
           },
           "zerolinecolor": "white",
           "zerolinewidth": 2
          },
          "yaxis": {
           "automargin": true,
           "gridcolor": "white",
           "linecolor": "white",
           "ticks": "",
           "title": {
            "standoff": 15
           },
           "zerolinecolor": "white",
           "zerolinewidth": 2
          }
         }
        }
       }
      }
     },
     "metadata": {},
     "output_type": "display_data"
    }
   ],
   "source": [
    "fig = px.scatter_matrix(merged[['score', 'amount_received', 'amount_received_in_round', 'contribution_count']])\n",
    "fig.show()"
   ]
  }
 ],
 "metadata": {
  "kernelspec": {
   "display_name": "Python 3.7.9 64-bit",
   "language": "python",
   "name": "python3"
  },
  "language_info": {
   "codemirror_mode": {
    "name": "ipython",
    "version": 3
   },
   "file_extension": ".py",
   "mimetype": "text/x-python",
   "name": "python",
   "nbconvert_exporter": "python",
   "pygments_lexer": "ipython3",
   "version": "3.7.9"
  },
  "orig_nbformat": 4,
  "vscode": {
   "interpreter": {
    "hash": "aee8b7b246df8f9039afb4144a1f6fd8d2ca17a180786b69acc140d282b71a49"
   }
  }
 },
 "nbformat": 4,
 "nbformat_minor": 2
}
